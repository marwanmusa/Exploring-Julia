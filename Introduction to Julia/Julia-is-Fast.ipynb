{
 "cells": [
  {
   "attachments": {},
   "cell_type": "markdown",
   "metadata": {},
   "source": [
    "## Outline of this notebook\n",
    "- Define the sum function\n",
    "- Implementations & benchmarking of sum in...\n",
    "    - C (hand-written)\n",
    "    - C (hand-written with -ffast-math)\n",
    "    - python (built-in)\n",
    "    - python (numpy)\n",
    "    - python (hand-written)\n",
    "    - Julia (built-in)\n",
    "    - Julia (hand-written)\n",
    "    - Julia (hand-written with SIMD)\n",
    "- Summary of benchmarks\n"
   ]
  },
  {
   "attachments": {},
   "cell_type": "markdown",
   "metadata": {},
   "source": [
    "## `sum`: An easy enough function to understand\n",
    "Consider the **sum** function `sum(a)`, which computes\n",
    "$$\n",
    "\\mathrm{sum}(a) = \\sum_{i=1}^n a_i,\n",
    "$$\n",
    "where $n$ is the length of `a`."
   ]
  },
  {
   "cell_type": "code",
   "execution_count": 1,
   "metadata": {},
   "outputs": [
    {
     "data": {
      "text/plain": [
       "10000000-element Vector{Float64}:\n",
       " 0.09914672525969803\n",
       " 0.04582085901402233\n",
       " 0.6535187000637086\n",
       " 0.49087573379516836\n",
       " 0.360190878385688\n",
       " 0.086666997555504\n",
       " 0.2724317927632576\n",
       " 0.9436121793155015\n",
       " 0.04189330198893437\n",
       " 0.6598472669938217\n",
       " 0.21373555942649758\n",
       " 0.8597126670681936\n",
       " 0.6402646086316456\n",
       " ⋮\n",
       " 0.7957423852016681\n",
       " 0.5931655069047674\n",
       " 0.8136967572786934\n",
       " 0.3296060025557448\n",
       " 0.9024041981916724\n",
       " 0.8719407531856725\n",
       " 0.8280314966069449\n",
       " 0.15879675182939734\n",
       " 0.4599575097125794\n",
       " 0.6710837254331055\n",
       " 0.9667465310307126\n",
       " 0.6391153598854827"
      ]
     },
     "execution_count": 1,
     "metadata": {},
     "output_type": "execute_result"
    }
   ],
   "source": [
    "a = rand(10^7) # 1D vector of random numbers, uniform on [0,1)"
   ]
  },
  {
   "cell_type": "code",
   "execution_count": 2,
   "metadata": {},
   "outputs": [
    {
     "data": {
      "text/plain": [
       "5.000552785530698e6"
      ]
     },
     "execution_count": 2,
     "metadata": {},
     "output_type": "execute_result"
    }
   ],
   "source": [
    "sum(a)"
   ]
  },
  {
   "attachments": {},
   "cell_type": "markdown",
   "metadata": {},
   "source": [
    "The expected result is 0.5 * 10^7, since the mean of each entry is 0.5"
   ]
  },
  {
   "attachments": {},
   "cell_type": "markdown",
   "metadata": {},
   "source": [
    "## Benchmarking a fews in a few languages\n",
    "Julia has a `BencmarkTools.jl package for easy and accurate benchmarking:"
   ]
  },
  {
   "cell_type": "code",
   "execution_count": 3,
   "metadata": {},
   "outputs": [],
   "source": [
    "#Pkg.add(\"BenchmarkTools)\n",
    "using BenchmarkTools"
   ]
  },
  {
   "attachments": {},
   "cell_type": "markdown",
   "metadata": {},
   "source": [
    "## 1. The C Language\n",
    "C is often considered the gold standard: difficult on the human, nice for machine.\n",
    "Getting withina factor of 2 of C is often satisfying. Nonetheless, even within C,\n",
    "there are many kinds of optimizations possible that a naive  C writer maor may not get the advantage of.\n",
    "\n",
    "The current author doesn't speak C, so he does not read the cell below, but is happy to know that\n",
    "you can put C code in a Julia season, compile it, and run it. Note that the `\"\"\"` wrap a multi string."
   ]
  },
  {
   "cell_type": "code",
   "execution_count": 4,
   "metadata": {},
   "outputs": [
    {
     "data": {
      "text/plain": [
       "c_sum (generic function with 1 method)"
      ]
     },
     "execution_count": 4,
     "metadata": {},
     "output_type": "execute_result"
    }
   ],
   "source": [
    "using Libdl\n",
    "C_code = \"\"\"\n",
    "#include <stddef.h>\n",
    "double c_sum(size_t n, double *X) {\n",
    "    double s = 0.0;\n",
    "    for (size_t i = 0; i < n; ++i) {\n",
    "        s += X[i];\n",
    "    }\n",
    "    return s;\n",
    "}\n",
    "\"\"\"\n",
    "\n",
    "const Clib = tempname()   # make a temporary file\n",
    "\n",
    "\n",
    "# compile to a shared library by piping C_code to gcc\n",
    "# (works only if you have gcc installed):\n",
    "\n",
    "open(`gcc -fPIC -O3 -msse3 -xc -shared -o $(Clib * \".\" * Libdl.dlext) -`, \"w\") do f\n",
    "    print(f, C_code)\n",
    "end\n",
    "\n",
    "# define a Julia function that calls the C function:\n",
    "c_sum(X::Array{Float64}) = ccall((\"c_sum\", Clib), Float64, (Csize_t, Ptr{Float64}), length(X), X)"
   ]
  },
  {
   "cell_type": "code",
   "execution_count": 5,
   "metadata": {},
   "outputs": [
    {
     "data": {
      "text/plain": [
       "5.000552785530852e6"
      ]
     },
     "execution_count": 5,
     "metadata": {},
     "output_type": "execute_result"
    }
   ],
   "source": [
    "c_sum(a)"
   ]
  },
  {
   "cell_type": "code",
   "execution_count": 6,
   "metadata": {},
   "outputs": [
    {
     "data": {
      "text/plain": [
       "true"
      ]
     },
     "execution_count": 6,
     "metadata": {},
     "output_type": "execute_result"
    }
   ],
   "source": [
    "c_sum(a) ≈ sum(a) # type \\approx to get symbol ≈"
   ]
  },
  {
   "cell_type": "code",
   "execution_count": 7,
   "metadata": {},
   "outputs": [
    {
     "data": {
      "text/plain": [
       "1.5459954738616943e-7"
      ]
     },
     "execution_count": 7,
     "metadata": {},
     "output_type": "execute_result"
    }
   ],
   "source": [
    "c_sum(a) - sum(a)"
   ]
  },
  {
   "cell_type": "code",
   "execution_count": 8,
   "metadata": {},
   "outputs": [
    {
     "data": {
      "text/plain": [
       "isapprox (generic function with 9 methods)"
      ]
     },
     "execution_count": 8,
     "metadata": {},
     "output_type": "execute_result"
    }
   ],
   "source": [
    "≈ # alias for the `isapprox` function"
   ]
  },
  {
   "cell_type": "code",
   "execution_count": 9,
   "metadata": {},
   "outputs": [
    {
     "name": "stdout",
     "output_type": "stream",
     "text": [
      "search: \u001b[0m\u001b[1mi\u001b[22m\u001b[0m\u001b[1ms\u001b[22m\u001b[0m\u001b[1ma\u001b[22m\u001b[0m\u001b[1mp\u001b[22m\u001b[0m\u001b[1mp\u001b[22m\u001b[0m\u001b[1mr\u001b[22m\u001b[0m\u001b[1mo\u001b[22m\u001b[0m\u001b[1mx\u001b[22m\n",
      "\n"
     ]
    },
    {
     "data": {
      "text/latex": [
       "\\begin{verbatim}\n",
       "isapprox(x, y; atol::Real=0, rtol::Real=atol>0 ? 0 : √eps, nans::Bool=false[, norm::Function])\n",
       "\\end{verbatim}\n",
       "Inexact equality comparison. Two numbers compare equal if their relative distance \\emph{or} their absolute distance is within tolerance bounds: \\texttt{isapprox} returns \\texttt{true} if \\texttt{norm(x-y) <= max(atol, rtol*max(norm(x), norm(y)))}. The default \\texttt{atol} is zero and the default \\texttt{rtol} depends on the types of \\texttt{x} and \\texttt{y}. The keyword argument \\texttt{nans} determines whether or not NaN values are considered equal (defaults to false).\n",
       "\n",
       "For real or complex floating-point values, if an \\texttt{atol > 0} is not specified, \\texttt{rtol} defaults to the square root of \\href{@ref}{\\texttt{eps}} of the type of \\texttt{x} or \\texttt{y}, whichever is bigger (least precise). This corresponds to requiring equality of about half of the significant digits. Otherwise, e.g. for integer arguments or if an \\texttt{atol > 0} is supplied, \\texttt{rtol} defaults to zero.\n",
       "\n",
       "The \\texttt{norm} keyword defaults to \\texttt{abs} for numeric \\texttt{(x,y)} and to \\texttt{LinearAlgebra.norm} for arrays (where an alternative \\texttt{norm} choice is sometimes useful). When \\texttt{x} and \\texttt{y} are arrays, if \\texttt{norm(x-y)} is not finite (i.e. \\texttt{±Inf} or \\texttt{NaN}), the comparison falls back to checking whether all elements of \\texttt{x} and \\texttt{y} are approximately equal component-wise.\n",
       "\n",
       "The binary operator \\texttt{≈} is equivalent to \\texttt{isapprox} with the default arguments, and \\texttt{x ≉ y} is equivalent to \\texttt{!isapprox(x,y)}.\n",
       "\n",
       "Note that \\texttt{x ≈ 0} (i.e., comparing to zero with the default tolerances) is equivalent to \\texttt{x == 0} since the default \\texttt{atol} is \\texttt{0}.  In such cases, you should either supply an appropriate \\texttt{atol} (or use \\texttt{norm(x) ≤ atol}) or rearrange your code (e.g. use \\texttt{x ≈ y} rather than \\texttt{x - y ≈ 0}).   It is not possible to pick a nonzero \\texttt{atol} automatically because it depends on the overall scaling (the \"units\") of your problem: for example, in \\texttt{x - y ≈ 0}, \\texttt{atol=1e-9} is an absurdly small tolerance if \\texttt{x} is the \\href{https://en.wikipedia.org/wiki/Earth_radius}{radius of the Earth} in meters, but an absurdly large tolerance if \\texttt{x} is the \\href{https://en.wikipedia.org/wiki/Bohr_radius}{radius of a Hydrogen atom} in meters.\n",
       "\n",
       "\\begin{quote}\n",
       "\\textbf{compat}\n",
       "\n",
       "Julia 1.6\n",
       "\n",
       "Passing the \\texttt{norm} keyword argument when comparing numeric (non-array) arguments requires Julia 1.6 or later.\n",
       "\n",
       "\\end{quote}\n",
       "\\section{Examples}\n",
       "\\begin{verbatim}\n",
       "julia> isapprox(0.1, 0.15; atol=0.05)\n",
       "true\n",
       "\n",
       "julia> isapprox(0.1, 0.15; rtol=0.34)\n",
       "true\n",
       "\n",
       "julia> isapprox(0.1, 0.15; rtol=0.33)\n",
       "false\n",
       "\n",
       "julia> 0.1 + 1e-10 ≈ 0.1\n",
       "true\n",
       "\n",
       "julia> 1e-10 ≈ 0\n",
       "false\n",
       "\n",
       "julia> isapprox(1e-10, 0, atol=1e-8)\n",
       "true\n",
       "\n",
       "julia> isapprox([10.0^9, 1.0], [10.0^9, 2.0]) # using `norm`\n",
       "true\n",
       "\\end{verbatim}\n",
       "\\rule{\\textwidth}{1pt}\n",
       "\\begin{verbatim}\n",
       "isapprox(x; kwargs...) / ≈(x; kwargs...)\n",
       "\\end{verbatim}\n",
       "Create a function that compares its argument to \\texttt{x} using \\texttt{≈}, i.e. a function equivalent to \\texttt{y -> y ≈ x}.\n",
       "\n",
       "The keyword arguments supported here are the same as those in the 2-argument \\texttt{isapprox}.\n",
       "\n",
       "\\begin{quote}\n",
       "\\textbf{compat}\n",
       "\n",
       "Julia 1.5\n",
       "\n",
       "This method requires Julia 1.5 or later.\n",
       "\n",
       "\\end{quote}\n"
      ],
      "text/markdown": [
       "```\n",
       "isapprox(x, y; atol::Real=0, rtol::Real=atol>0 ? 0 : √eps, nans::Bool=false[, norm::Function])\n",
       "```\n",
       "\n",
       "Inexact equality comparison. Two numbers compare equal if their relative distance *or* their absolute distance is within tolerance bounds: `isapprox` returns `true` if `norm(x-y) <= max(atol, rtol*max(norm(x), norm(y)))`. The default `atol` is zero and the default `rtol` depends on the types of `x` and `y`. The keyword argument `nans` determines whether or not NaN values are considered equal (defaults to false).\n",
       "\n",
       "For real or complex floating-point values, if an `atol > 0` is not specified, `rtol` defaults to the square root of [`eps`](@ref) of the type of `x` or `y`, whichever is bigger (least precise). This corresponds to requiring equality of about half of the significant digits. Otherwise, e.g. for integer arguments or if an `atol > 0` is supplied, `rtol` defaults to zero.\n",
       "\n",
       "The `norm` keyword defaults to `abs` for numeric `(x,y)` and to `LinearAlgebra.norm` for arrays (where an alternative `norm` choice is sometimes useful). When `x` and `y` are arrays, if `norm(x-y)` is not finite (i.e. `±Inf` or `NaN`), the comparison falls back to checking whether all elements of `x` and `y` are approximately equal component-wise.\n",
       "\n",
       "The binary operator `≈` is equivalent to `isapprox` with the default arguments, and `x ≉ y` is equivalent to `!isapprox(x,y)`.\n",
       "\n",
       "Note that `x ≈ 0` (i.e., comparing to zero with the default tolerances) is equivalent to `x == 0` since the default `atol` is `0`.  In such cases, you should either supply an appropriate `atol` (or use `norm(x) ≤ atol`) or rearrange your code (e.g. use `x ≈ y` rather than `x - y ≈ 0`).   It is not possible to pick a nonzero `atol` automatically because it depends on the overall scaling (the \"units\") of your problem: for example, in `x - y ≈ 0`, `atol=1e-9` is an absurdly small tolerance if `x` is the [radius of the Earth](https://en.wikipedia.org/wiki/Earth_radius) in meters, but an absurdly large tolerance if `x` is the [radius of a Hydrogen atom](https://en.wikipedia.org/wiki/Bohr_radius) in meters.\n",
       "\n",
       "!!! compat \"Julia 1.6\"\n",
       "    Passing the `norm` keyword argument when comparing numeric (non-array) arguments requires Julia 1.6 or later.\n",
       "\n",
       "\n",
       "# Examples\n",
       "\n",
       "```jldoctest\n",
       "julia> isapprox(0.1, 0.15; atol=0.05)\n",
       "true\n",
       "\n",
       "julia> isapprox(0.1, 0.15; rtol=0.34)\n",
       "true\n",
       "\n",
       "julia> isapprox(0.1, 0.15; rtol=0.33)\n",
       "false\n",
       "\n",
       "julia> 0.1 + 1e-10 ≈ 0.1\n",
       "true\n",
       "\n",
       "julia> 1e-10 ≈ 0\n",
       "false\n",
       "\n",
       "julia> isapprox(1e-10, 0, atol=1e-8)\n",
       "true\n",
       "\n",
       "julia> isapprox([10.0^9, 1.0], [10.0^9, 2.0]) # using `norm`\n",
       "true\n",
       "```\n",
       "\n",
       "---\n",
       "\n",
       "```\n",
       "isapprox(x; kwargs...) / ≈(x; kwargs...)\n",
       "```\n",
       "\n",
       "Create a function that compares its argument to `x` using `≈`, i.e. a function equivalent to `y -> y ≈ x`.\n",
       "\n",
       "The keyword arguments supported here are the same as those in the 2-argument `isapprox`.\n",
       "\n",
       "!!! compat \"Julia 1.5\"\n",
       "    This method requires Julia 1.5 or later.\n",
       "\n"
      ],
      "text/plain": [
       "\u001b[36m  isapprox(x, y; atol::Real=0, rtol::Real=atol>0 ? 0 : √eps, nans::Bool=false[, norm::Function])\u001b[39m\n",
       "\n",
       "  Inexact equality comparison. Two numbers compare equal if their relative\n",
       "  distance \u001b[4mor\u001b[24m their absolute distance is within tolerance bounds: \u001b[36misapprox\u001b[39m\n",
       "  returns \u001b[36mtrue\u001b[39m if \u001b[36mnorm(x-y) <= max(atol, rtol*max(norm(x), norm(y)))\u001b[39m. The\n",
       "  default \u001b[36matol\u001b[39m is zero and the default \u001b[36mrtol\u001b[39m depends on the types of \u001b[36mx\u001b[39m and \u001b[36my\u001b[39m.\n",
       "  The keyword argument \u001b[36mnans\u001b[39m determines whether or not NaN values are\n",
       "  considered equal (defaults to false).\n",
       "\n",
       "  For real or complex floating-point values, if an \u001b[36matol > 0\u001b[39m is not specified,\n",
       "  \u001b[36mrtol\u001b[39m defaults to the square root of \u001b[36meps\u001b[39m of the type of \u001b[36mx\u001b[39m or \u001b[36my\u001b[39m, whichever is\n",
       "  bigger (least precise). This corresponds to requiring equality of about half\n",
       "  of the significant digits. Otherwise, e.g. for integer arguments or if an\n",
       "  \u001b[36matol > 0\u001b[39m is supplied, \u001b[36mrtol\u001b[39m defaults to zero.\n",
       "\n",
       "  The \u001b[36mnorm\u001b[39m keyword defaults to \u001b[36mabs\u001b[39m for numeric \u001b[36m(x,y)\u001b[39m and to \u001b[36mLinearAlgebra.norm\u001b[39m\n",
       "  for arrays (where an alternative \u001b[36mnorm\u001b[39m choice is sometimes useful). When \u001b[36mx\u001b[39m\n",
       "  and \u001b[36my\u001b[39m are arrays, if \u001b[36mnorm(x-y)\u001b[39m is not finite (i.e. \u001b[36m±Inf\u001b[39m or \u001b[36mNaN\u001b[39m), the\n",
       "  comparison falls back to checking whether all elements of \u001b[36mx\u001b[39m and \u001b[36my\u001b[39m are\n",
       "  approximately equal component-wise.\n",
       "\n",
       "  The binary operator \u001b[36m≈\u001b[39m is equivalent to \u001b[36misapprox\u001b[39m with the default arguments,\n",
       "  and \u001b[36mx ≉ y\u001b[39m is equivalent to \u001b[36m!isapprox(x,y)\u001b[39m.\n",
       "\n",
       "  Note that \u001b[36mx ≈ 0\u001b[39m (i.e., comparing to zero with the default tolerances) is\n",
       "  equivalent to \u001b[36mx == 0\u001b[39m since the default \u001b[36matol\u001b[39m is \u001b[36m0\u001b[39m. In such cases, you should\n",
       "  either supply an appropriate \u001b[36matol\u001b[39m (or use \u001b[36mnorm(x) ≤ atol\u001b[39m) or rearrange your\n",
       "  code (e.g. use \u001b[36mx ≈ y\u001b[39m rather than \u001b[36mx - y ≈ 0\u001b[39m). It is not possible to pick a\n",
       "  nonzero \u001b[36matol\u001b[39m automatically because it depends on the overall scaling (the\n",
       "  \"units\") of your problem: for example, in \u001b[36mx - y ≈ 0\u001b[39m, \u001b[36matol=1e-9\u001b[39m is an\n",
       "  absurdly small tolerance if \u001b[36mx\u001b[39m is the radius of the Earth\n",
       "  (https://en.wikipedia.org/wiki/Earth_radius) in meters, but an absurdly\n",
       "  large tolerance if \u001b[36mx\u001b[39m is the radius of a Hydrogen atom\n",
       "  (https://en.wikipedia.org/wiki/Bohr_radius) in meters.\n",
       "\n",
       "\u001b[39m\u001b[1m  │ \u001b[22m\u001b[39m\u001b[1mJulia 1.6\u001b[22m\n",
       "\u001b[39m\u001b[1m  │\u001b[22m\n",
       "\u001b[39m\u001b[1m  │\u001b[22m  Passing the \u001b[36mnorm\u001b[39m keyword argument when comparing numeric\n",
       "\u001b[39m\u001b[1m  │\u001b[22m  (non-array) arguments requires Julia 1.6 or later.\n",
       "\n",
       "\u001b[1m  Examples\u001b[22m\n",
       "\u001b[1m  ≡≡≡≡≡≡≡≡≡≡\u001b[22m\n",
       "\n",
       "\u001b[36m  julia> isapprox(0.1, 0.15; atol=0.05)\u001b[39m\n",
       "\u001b[36m  true\u001b[39m\n",
       "\u001b[36m  \u001b[39m\n",
       "\u001b[36m  julia> isapprox(0.1, 0.15; rtol=0.34)\u001b[39m\n",
       "\u001b[36m  true\u001b[39m\n",
       "\u001b[36m  \u001b[39m\n",
       "\u001b[36m  julia> isapprox(0.1, 0.15; rtol=0.33)\u001b[39m\n",
       "\u001b[36m  false\u001b[39m\n",
       "\u001b[36m  \u001b[39m\n",
       "\u001b[36m  julia> 0.1 + 1e-10 ≈ 0.1\u001b[39m\n",
       "\u001b[36m  true\u001b[39m\n",
       "\u001b[36m  \u001b[39m\n",
       "\u001b[36m  julia> 1e-10 ≈ 0\u001b[39m\n",
       "\u001b[36m  false\u001b[39m\n",
       "\u001b[36m  \u001b[39m\n",
       "\u001b[36m  julia> isapprox(1e-10, 0, atol=1e-8)\u001b[39m\n",
       "\u001b[36m  true\u001b[39m\n",
       "\u001b[36m  \u001b[39m\n",
       "\u001b[36m  julia> isapprox([10.0^9, 1.0], [10.0^9, 2.0]) # using `norm`\u001b[39m\n",
       "\u001b[36m  true\u001b[39m\n",
       "\n",
       "  ────────────────────────────────────────────────────────────────────────────\n",
       "\n",
       "\u001b[36m  isapprox(x; kwargs...) / ≈(x; kwargs...)\u001b[39m\n",
       "\n",
       "  Create a function that compares its argument to \u001b[36mx\u001b[39m using \u001b[36m≈\u001b[39m, i.e. a function\n",
       "  equivalent to \u001b[36my -> y ≈ x\u001b[39m.\n",
       "\n",
       "  The keyword arguments supported here are the same as those in the 2-argument\n",
       "  \u001b[36misapprox\u001b[39m.\n",
       "\n",
       "\u001b[39m\u001b[1m  │ \u001b[22m\u001b[39m\u001b[1mJulia 1.5\u001b[22m\n",
       "\u001b[39m\u001b[1m  │\u001b[22m\n",
       "\u001b[39m\u001b[1m  │\u001b[22m  This method requires Julia 1.5 or later."
      ]
     },
     "execution_count": 9,
     "metadata": {},
     "output_type": "execute_result"
    }
   ],
   "source": [
    "?isapprox"
   ]
  },
  {
   "attachments": {},
   "cell_type": "markdown",
   "metadata": {},
   "source": [
    "We can now benchmark the C code directly from Julia:"
   ]
  },
  {
   "cell_type": "code",
   "execution_count": 10,
   "metadata": {},
   "outputs": [
    {
     "data": {
      "text/plain": [
       "BenchmarkTools.Trial: 192 samples with 1 evaluation.\n",
       " Range \u001b[90m(\u001b[39m\u001b[36m\u001b[1mmin\u001b[22m\u001b[39m … \u001b[35mmax\u001b[39m\u001b[90m):  \u001b[39m\u001b[36m\u001b[1m15.941 ms\u001b[22m\u001b[39m … \u001b[35m91.443 ms\u001b[39m  \u001b[90m┊\u001b[39m GC \u001b[90m(\u001b[39mmin … max\u001b[90m): \u001b[39m0.00% … 0.00%\n",
       " Time  \u001b[90m(\u001b[39m\u001b[34m\u001b[1mmedian\u001b[22m\u001b[39m\u001b[90m):     \u001b[39m\u001b[34m\u001b[1m23.196 ms              \u001b[22m\u001b[39m\u001b[90m┊\u001b[39m GC \u001b[90m(\u001b[39mmedian\u001b[90m):    \u001b[39m0.00%\n",
       " Time  \u001b[90m(\u001b[39m\u001b[32m\u001b[1mmean\u001b[22m\u001b[39m ± \u001b[32mσ\u001b[39m\u001b[90m):   \u001b[39m\u001b[32m\u001b[1m26.066 ms\u001b[22m\u001b[39m ± \u001b[32m10.637 ms\u001b[39m  \u001b[90m┊\u001b[39m GC \u001b[90m(\u001b[39mmean ± σ\u001b[90m):  \u001b[39m0.00% ± 0.00%\n",
       "\n",
       "  \u001b[39m \u001b[39m \u001b[39m \u001b[39m \u001b[39m▁\u001b[39m▇\u001b[39m█\u001b[34m▆\u001b[39m\u001b[39m▁\u001b[39m▃\u001b[32m \u001b[39m\u001b[39m \u001b[39m \u001b[39m \u001b[39m \u001b[39m \u001b[39m \u001b[39m \u001b[39m \u001b[39m \u001b[39m \u001b[39m \u001b[39m \u001b[39m \u001b[39m \u001b[39m \u001b[39m \u001b[39m \u001b[39m \u001b[39m \u001b[39m \u001b[39m \u001b[39m \u001b[39m \u001b[39m \u001b[39m \u001b[39m \u001b[39m \u001b[39m \u001b[39m \u001b[39m \u001b[39m \u001b[39m \u001b[39m \u001b[39m \u001b[39m \u001b[39m \u001b[39m \u001b[39m \u001b[39m \u001b[39m \u001b[39m \u001b[39m \u001b[39m \u001b[39m \u001b[39m \u001b[39m \u001b[39m \u001b[39m \u001b[39m \u001b[39m \n",
       "  \u001b[39m▆\u001b[39m▇\u001b[39m█\u001b[39m▇\u001b[39m█\u001b[39m█\u001b[39m█\u001b[34m█\u001b[39m\u001b[39m█\u001b[39m█\u001b[32m▇\u001b[39m\u001b[39m▆\u001b[39m▆\u001b[39m▆\u001b[39m▄\u001b[39m▁\u001b[39m▄\u001b[39m▁\u001b[39m▃\u001b[39m▃\u001b[39m▃\u001b[39m▃\u001b[39m▁\u001b[39m▃\u001b[39m▃\u001b[39m▁\u001b[39m▁\u001b[39m▃\u001b[39m▁\u001b[39m▃\u001b[39m▃\u001b[39m▃\u001b[39m▁\u001b[39m▃\u001b[39m▃\u001b[39m▁\u001b[39m▁\u001b[39m▁\u001b[39m▁\u001b[39m▁\u001b[39m▁\u001b[39m▁\u001b[39m▁\u001b[39m▁\u001b[39m▁\u001b[39m▁\u001b[39m▁\u001b[39m▁\u001b[39m▁\u001b[39m▁\u001b[39m▃\u001b[39m▃\u001b[39m▁\u001b[39m▁\u001b[39m▃\u001b[39m▁\u001b[39m▁\u001b[39m▁\u001b[39m▃\u001b[39m \u001b[39m▃\n",
       "  15.9 ms\u001b[90m         Histogram: frequency by time\u001b[39m        73.6 ms \u001b[0m\u001b[1m<\u001b[22m\n",
       "\n",
       " Memory estimate\u001b[90m: \u001b[39m\u001b[33m0 bytes\u001b[39m, allocs estimate\u001b[90m: \u001b[39m\u001b[33m0\u001b[39m."
      ]
     },
     "execution_count": 10,
     "metadata": {},
     "output_type": "execute_result"
    }
   ],
   "source": [
    "c_bench = @benchmark c_sum($a)"
   ]
  },
  {
   "cell_type": "code",
   "execution_count": 11,
   "metadata": {},
   "outputs": [
    {
     "name": "stdout",
     "output_type": "stream",
     "text": [
      "C: Fastest time was 15.9413 msec\n"
     ]
    }
   ],
   "source": [
    "println(\"C: Fastest time was $(minimum(c_bench.times) / 1e6) msec\")"
   ]
  },
  {
   "cell_type": "code",
   "execution_count": 12,
   "metadata": {},
   "outputs": [
    {
     "data": {
      "text/plain": [
       "Dict{Any, Any} with 1 entry:\n",
       "  \"C\" => 15.9413"
      ]
     },
     "execution_count": 12,
     "metadata": {},
     "output_type": "execute_result"
    }
   ],
   "source": [
    "d = Dict() # a \"dictionary\", i.e. an associative array\n",
    "d[\"C\"] = minimum(c_bench.times) / 1e6 # in millicseconds\n",
    "d"
   ]
  },
  {
   "cell_type": "code",
   "execution_count": 13,
   "metadata": {},
   "outputs": [
    {
     "data": {
      "text/plain": [
       "Plots.GRBackend()"
      ]
     },
     "execution_count": 13,
     "metadata": {},
     "output_type": "execute_result"
    }
   ],
   "source": [
    "using Plots\n",
    "gr()"
   ]
  },
  {
   "cell_type": "code",
   "execution_count": 14,
   "metadata": {},
   "outputs": [
    {
     "data": {
      "image/svg+xml": "<?xml version=\"1.0\" encoding=\"utf-8\"?>\n<svg xmlns=\"http://www.w3.org/2000/svg\" xmlns:xlink=\"http://www.w3.org/1999/xlink\" width=\"600\" height=\"400\" viewBox=\"0 0 2400 1600\">\n<defs>\n  <clipPath id=\"clip340\">\n    <rect x=\"0\" y=\"0\" width=\"2400\" height=\"1600\"/>\n  </clipPath>\n</defs>\n<path clip-path=\"url(#clip340)\" d=\"\nM0 1600 L2400 1600 L2400 0 L0 0  Z\n  \" fill=\"#ffffff\" fill-rule=\"evenodd\" fill-opacity=\"1\"/>\n<defs>\n  <clipPath id=\"clip341\">\n    <rect x=\"480\" y=\"0\" width=\"1681\" height=\"1600\"/>\n  </clipPath>\n</defs>\n<path clip-path=\"url(#clip340)\" d=\"\nM247.459 1423.18 L2352.76 1423.18 L2352.76 47.2441 L247.459 47.2441  Z\n  \" fill=\"#ffffff\" fill-rule=\"evenodd\" fill-opacity=\"1\"/>\n<defs>\n  <clipPath id=\"clip342\">\n    <rect x=\"247\" y=\"47\" width=\"2106\" height=\"1377\"/>\n  </clipPath>\n</defs>\n<polyline clip-path=\"url(#clip342)\" style=\"stroke:#000000; stroke-linecap:round; stroke-linejoin:round; stroke-width:2; stroke-opacity:0.1; fill:none\" points=\"\n  557.64,1423.18 557.64,47.2441 \n  \"/>\n<polyline clip-path=\"url(#clip342)\" style=\"stroke:#000000; stroke-linecap:round; stroke-linejoin:round; stroke-width:2; stroke-opacity:0.1; fill:none\" points=\"\n  1051.97,1423.18 1051.97,47.2441 \n  \"/>\n<polyline clip-path=\"url(#clip342)\" style=\"stroke:#000000; stroke-linecap:round; stroke-linejoin:round; stroke-width:2; stroke-opacity:0.1; fill:none\" points=\"\n  1546.3,1423.18 1546.3,47.2441 \n  \"/>\n<polyline clip-path=\"url(#clip342)\" style=\"stroke:#000000; stroke-linecap:round; stroke-linejoin:round; stroke-width:2; stroke-opacity:0.1; fill:none\" points=\"\n  2040.63,1423.18 2040.63,47.2441 \n  \"/>\n<polyline clip-path=\"url(#clip340)\" style=\"stroke:#000000; stroke-linecap:round; stroke-linejoin:round; stroke-width:4; stroke-opacity:1; fill:none\" points=\"\n  247.459,1423.18 2352.76,1423.18 \n  \"/>\n<polyline clip-path=\"url(#clip340)\" style=\"stroke:#000000; stroke-linecap:round; stroke-linejoin:round; stroke-width:4; stroke-opacity:1; fill:none\" points=\"\n  557.64,1423.18 557.64,1404.28 \n  \"/>\n<polyline clip-path=\"url(#clip340)\" style=\"stroke:#000000; stroke-linecap:round; stroke-linejoin:round; stroke-width:4; stroke-opacity:1; fill:none\" points=\"\n  1051.97,1423.18 1051.97,1404.28 \n  \"/>\n<polyline clip-path=\"url(#clip340)\" style=\"stroke:#000000; stroke-linecap:round; stroke-linejoin:round; stroke-width:4; stroke-opacity:1; fill:none\" points=\"\n  1546.3,1423.18 1546.3,1404.28 \n  \"/>\n<polyline clip-path=\"url(#clip340)\" style=\"stroke:#000000; stroke-linecap:round; stroke-linejoin:round; stroke-width:4; stroke-opacity:1; fill:none\" points=\"\n  2040.63,1423.18 2040.63,1404.28 \n  \"/>\n<path clip-path=\"url(#clip340)\" d=\"M510.21 1481.64 L517.849 1481.64 L517.849 1455.28 L509.538 1456.95 L509.538 1452.69 L517.802 1451.02 L522.478 1451.02 L522.478 1481.64 L530.117 1481.64 L530.117 1485.58 L510.21 1485.58 L510.21 1481.64 Z\" fill=\"#000000\" fill-rule=\"evenodd\" fill-opacity=\"1\" /><path clip-path=\"url(#clip340)\" d=\"M538.381 1451.02 L560.603 1451.02 L560.603 1453.01 L548.057 1485.58 L543.173 1485.58 L554.978 1454.96 L538.381 1454.96 L538.381 1451.02 Z\" fill=\"#000000\" fill-rule=\"evenodd\" fill-opacity=\"1\" /><path clip-path=\"url(#clip340)\" d=\"M569.723 1479.7 L574.608 1479.7 L574.608 1485.58 L569.723 1485.58 L569.723 1479.7 Z\" fill=\"#000000\" fill-rule=\"evenodd\" fill-opacity=\"1\" /><path clip-path=\"url(#clip340)\" d=\"M584.839 1451.02 L603.195 1451.02 L603.195 1454.96 L589.121 1454.96 L589.121 1463.43 Q590.14 1463.08 591.158 1462.92 Q592.177 1462.73 593.195 1462.73 Q598.982 1462.73 602.362 1465.9 Q605.742 1469.08 605.742 1474.49 Q605.742 1480.07 602.269 1483.17 Q598.797 1486.25 592.478 1486.25 Q590.302 1486.25 588.033 1485.88 Q585.788 1485.51 583.381 1484.77 L583.381 1480.07 Q585.464 1481.2 587.686 1481.76 Q589.908 1482.32 592.385 1482.32 Q596.39 1482.32 598.728 1480.21 Q601.066 1478.1 601.066 1474.49 Q601.066 1470.88 598.728 1468.77 Q596.39 1466.67 592.385 1466.67 Q590.51 1466.67 588.635 1467.08 Q586.783 1467.5 584.839 1468.38 L584.839 1451.02 Z\" fill=\"#000000\" fill-rule=\"evenodd\" fill-opacity=\"1\" /><path clip-path=\"url(#clip340)\" d=\"M1008.13 1481.64 L1024.45 1481.64 L1024.45 1485.58 L1002.5 1485.58 L1002.5 1481.64 Q1005.16 1478.89 1009.75 1474.26 Q1014.35 1469.61 1015.53 1468.27 Q1017.78 1465.74 1018.66 1464.01 Q1019.56 1462.25 1019.56 1460.56 Q1019.56 1457.8 1017.62 1456.07 Q1015.7 1454.33 1012.59 1454.33 Q1010.39 1454.33 1007.94 1455.09 Q1005.51 1455.86 1002.73 1457.41 L1002.73 1452.69 Q1005.56 1451.55 1008.01 1450.97 Q1010.46 1450.39 1012.5 1450.39 Q1017.87 1450.39 1021.07 1453.08 Q1024.26 1455.77 1024.26 1460.26 Q1024.26 1462.39 1023.45 1464.31 Q1022.66 1466.2 1020.56 1468.8 Q1019.98 1469.47 1016.88 1472.69 Q1013.77 1475.88 1008.13 1481.64 Z\" fill=\"#000000\" fill-rule=\"evenodd\" fill-opacity=\"1\" /><path clip-path=\"url(#clip340)\" d=\"M1044.26 1454.1 Q1040.65 1454.1 1038.82 1457.66 Q1037.02 1461.2 1037.02 1468.33 Q1037.02 1475.44 1038.82 1479.01 Q1040.65 1482.55 1044.26 1482.55 Q1047.89 1482.55 1049.7 1479.01 Q1051.53 1475.44 1051.53 1468.33 Q1051.53 1461.2 1049.7 1457.66 Q1047.89 1454.1 1044.26 1454.1 M1044.26 1450.39 Q1050.07 1450.39 1053.13 1455 Q1056.2 1459.58 1056.2 1468.33 Q1056.2 1477.06 1053.13 1481.67 Q1050.07 1486.25 1044.26 1486.25 Q1038.45 1486.25 1035.37 1481.67 Q1032.32 1477.06 1032.32 1468.33 Q1032.32 1459.58 1035.37 1455 Q1038.45 1450.39 1044.26 1450.39 Z\" fill=\"#000000\" fill-rule=\"evenodd\" fill-opacity=\"1\" /><path clip-path=\"url(#clip340)\" d=\"M1064.42 1479.7 L1069.31 1479.7 L1069.31 1485.58 L1064.42 1485.58 L1064.42 1479.7 Z\" fill=\"#000000\" fill-rule=\"evenodd\" fill-opacity=\"1\" /><path clip-path=\"url(#clip340)\" d=\"M1089.49 1454.1 Q1085.88 1454.1 1084.05 1457.66 Q1082.25 1461.2 1082.25 1468.33 Q1082.25 1475.44 1084.05 1479.01 Q1085.88 1482.55 1089.49 1482.55 Q1093.13 1482.55 1094.93 1479.01 Q1096.76 1475.44 1096.76 1468.33 Q1096.76 1461.2 1094.93 1457.66 Q1093.13 1454.1 1089.49 1454.1 M1089.49 1450.39 Q1095.3 1450.39 1098.36 1455 Q1101.44 1459.58 1101.44 1468.33 Q1101.44 1477.06 1098.36 1481.67 Q1095.3 1486.25 1089.49 1486.25 Q1083.68 1486.25 1080.6 1481.67 Q1077.55 1477.06 1077.55 1468.33 Q1077.55 1459.58 1080.6 1455 Q1083.68 1450.39 1089.49 1450.39 Z\" fill=\"#000000\" fill-rule=\"evenodd\" fill-opacity=\"1\" /><path clip-path=\"url(#clip340)\" d=\"M1502.95 1481.64 L1519.27 1481.64 L1519.27 1485.58 L1497.33 1485.58 L1497.33 1481.64 Q1499.99 1478.89 1504.57 1474.26 Q1509.18 1469.61 1510.36 1468.27 Q1512.61 1465.74 1513.49 1464.01 Q1514.39 1462.25 1514.39 1460.56 Q1514.39 1457.8 1512.44 1456.07 Q1510.52 1454.33 1507.42 1454.33 Q1505.22 1454.33 1502.77 1455.09 Q1500.34 1455.86 1497.56 1457.41 L1497.56 1452.69 Q1500.38 1451.55 1502.84 1450.97 Q1505.29 1450.39 1507.33 1450.39 Q1512.7 1450.39 1515.89 1453.08 Q1519.09 1455.77 1519.09 1460.26 Q1519.09 1462.39 1518.28 1464.31 Q1517.49 1466.2 1515.38 1468.8 Q1514.8 1469.47 1511.7 1472.69 Q1508.6 1475.88 1502.95 1481.64 Z\" fill=\"#000000\" fill-rule=\"evenodd\" fill-opacity=\"1\" /><path clip-path=\"url(#clip340)\" d=\"M1533.11 1481.64 L1549.43 1481.64 L1549.43 1485.58 L1527.49 1485.58 L1527.49 1481.64 Q1530.15 1478.89 1534.74 1474.26 Q1539.34 1469.61 1540.52 1468.27 Q1542.77 1465.74 1543.65 1464.01 Q1544.55 1462.25 1544.55 1460.56 Q1544.55 1457.8 1542.61 1456.07 Q1540.68 1454.33 1537.58 1454.33 Q1535.38 1454.33 1532.93 1455.09 Q1530.5 1455.86 1527.72 1457.41 L1527.72 1452.69 Q1530.55 1451.55 1533 1450.97 Q1535.45 1450.39 1537.49 1450.39 Q1542.86 1450.39 1546.05 1453.08 Q1549.25 1455.77 1549.25 1460.26 Q1549.25 1462.39 1548.44 1464.31 Q1547.65 1466.2 1545.55 1468.8 Q1544.97 1469.47 1541.86 1472.69 Q1538.76 1475.88 1533.11 1481.64 Z\" fill=\"#000000\" fill-rule=\"evenodd\" fill-opacity=\"1\" /><path clip-path=\"url(#clip340)\" d=\"M1559.25 1479.7 L1564.13 1479.7 L1564.13 1485.58 L1559.25 1485.58 L1559.25 1479.7 Z\" fill=\"#000000\" fill-rule=\"evenodd\" fill-opacity=\"1\" /><path clip-path=\"url(#clip340)\" d=\"M1574.36 1451.02 L1592.72 1451.02 L1592.72 1454.96 L1578.65 1454.96 L1578.65 1463.43 Q1579.67 1463.08 1580.68 1462.92 Q1581.7 1462.73 1582.72 1462.73 Q1588.51 1462.73 1591.89 1465.9 Q1595.27 1469.08 1595.27 1474.49 Q1595.27 1480.07 1591.79 1483.17 Q1588.32 1486.25 1582 1486.25 Q1579.83 1486.25 1577.56 1485.88 Q1575.31 1485.51 1572.91 1484.77 L1572.91 1480.07 Q1574.99 1481.2 1577.21 1481.76 Q1579.43 1482.32 1581.91 1482.32 Q1585.92 1482.32 1588.25 1480.21 Q1590.59 1478.1 1590.59 1474.49 Q1590.59 1470.88 1588.25 1468.77 Q1585.92 1466.67 1581.91 1466.67 Q1580.04 1466.67 1578.16 1467.08 Q1576.31 1467.5 1574.36 1468.38 L1574.36 1451.02 Z\" fill=\"#000000\" fill-rule=\"evenodd\" fill-opacity=\"1\" /><path clip-path=\"url(#clip340)\" d=\"M1996.78 1481.64 L2013.1 1481.64 L2013.1 1485.58 L1991.16 1485.58 L1991.16 1481.64 Q1993.82 1478.89 1998.4 1474.26 Q2003.01 1469.61 2004.19 1468.27 Q2006.44 1465.74 2007.32 1464.01 Q2008.22 1462.25 2008.22 1460.56 Q2008.22 1457.8 2006.27 1456.07 Q2004.35 1454.33 2001.25 1454.33 Q1999.05 1454.33 1996.6 1455.09 Q1994.17 1455.86 1991.39 1457.41 L1991.39 1452.69 Q1994.21 1451.55 1996.67 1450.97 Q1999.12 1450.39 2001.16 1450.39 Q2006.53 1450.39 2009.72 1453.08 Q2012.92 1455.77 2012.92 1460.26 Q2012.92 1462.39 2012.11 1464.31 Q2011.32 1466.2 2009.21 1468.8 Q2008.64 1469.47 2005.53 1472.69 Q2002.43 1475.88 1996.78 1481.64 Z\" fill=\"#000000\" fill-rule=\"evenodd\" fill-opacity=\"1\" /><path clip-path=\"url(#clip340)\" d=\"M2022.96 1451.02 L2041.32 1451.02 L2041.32 1454.96 L2027.25 1454.96 L2027.25 1463.43 Q2028.27 1463.08 2029.28 1462.92 Q2030.3 1462.73 2031.32 1462.73 Q2037.11 1462.73 2040.49 1465.9 Q2043.87 1469.08 2043.87 1474.49 Q2043.87 1480.07 2040.39 1483.17 Q2036.92 1486.25 2030.6 1486.25 Q2028.43 1486.25 2026.16 1485.88 Q2023.91 1485.51 2021.51 1484.77 L2021.51 1480.07 Q2023.59 1481.2 2025.81 1481.76 Q2028.03 1482.32 2030.51 1482.32 Q2034.52 1482.32 2036.85 1480.21 Q2039.19 1478.1 2039.19 1474.49 Q2039.19 1470.88 2036.85 1468.77 Q2034.52 1466.67 2030.51 1466.67 Q2028.64 1466.67 2026.76 1467.08 Q2024.91 1467.5 2022.96 1468.38 L2022.96 1451.02 Z\" fill=\"#000000\" fill-rule=\"evenodd\" fill-opacity=\"1\" /><path clip-path=\"url(#clip340)\" d=\"M2053.08 1479.7 L2057.96 1479.7 L2057.96 1485.58 L2053.08 1485.58 L2053.08 1479.7 Z\" fill=\"#000000\" fill-rule=\"evenodd\" fill-opacity=\"1\" /><path clip-path=\"url(#clip340)\" d=\"M2078.15 1454.1 Q2074.54 1454.1 2072.71 1457.66 Q2070.9 1461.2 2070.9 1468.33 Q2070.9 1475.44 2072.71 1479.01 Q2074.54 1482.55 2078.15 1482.55 Q2081.78 1482.55 2083.59 1479.01 Q2085.42 1475.44 2085.42 1468.33 Q2085.42 1461.2 2083.59 1457.66 Q2081.78 1454.1 2078.15 1454.1 M2078.15 1450.39 Q2083.96 1450.39 2087.01 1455 Q2090.09 1459.58 2090.09 1468.33 Q2090.09 1477.06 2087.01 1481.67 Q2083.96 1486.25 2078.15 1486.25 Q2072.34 1486.25 2069.26 1481.67 Q2066.2 1477.06 2066.2 1468.33 Q2066.2 1459.58 2069.26 1455 Q2072.34 1450.39 2078.15 1450.39 Z\" fill=\"#000000\" fill-rule=\"evenodd\" fill-opacity=\"1\" /><path clip-path=\"url(#clip340)\" d=\"M1113.53 1539.24 Q1115.72 1535.29 1118.78 1533.41 Q1121.84 1531.54 1125.97 1531.54 Q1131.54 1531.54 1134.57 1535.45 Q1137.59 1539.33 1137.59 1546.53 L1137.59 1568.04 L1131.7 1568.04 L1131.7 1546.72 Q1131.7 1541.59 1129.89 1539.11 Q1128.07 1536.63 1124.35 1536.63 Q1119.8 1536.63 1117.16 1539.65 Q1114.52 1542.68 1114.52 1547.9 L1114.52 1568.04 L1108.63 1568.04 L1108.63 1546.72 Q1108.63 1541.56 1106.81 1539.11 Q1105 1536.63 1101.21 1536.63 Q1096.72 1536.63 1094.08 1539.68 Q1091.44 1542.71 1091.44 1547.9 L1091.44 1568.04 L1085.55 1568.04 L1085.55 1532.4 L1091.44 1532.4 L1091.44 1537.93 Q1093.44 1534.66 1096.25 1533.1 Q1099.05 1531.54 1102.9 1531.54 Q1106.78 1531.54 1109.49 1533.51 Q1112.22 1535.48 1113.53 1539.24 Z\" fill=\"#000000\" fill-rule=\"evenodd\" fill-opacity=\"1\" /><path clip-path=\"url(#clip340)\" d=\"M1149.27 1532.4 L1155.13 1532.4 L1155.13 1568.04 L1149.27 1568.04 L1149.27 1532.4 M1149.27 1518.52 L1155.13 1518.52 L1155.13 1525.93 L1149.27 1525.93 L1149.27 1518.52 Z\" fill=\"#000000\" fill-rule=\"evenodd\" fill-opacity=\"1\" /><path clip-path=\"url(#clip340)\" d=\"M1167.38 1518.52 L1173.24 1518.52 L1173.24 1568.04 L1167.38 1568.04 L1167.38 1518.52 Z\" fill=\"#000000\" fill-rule=\"evenodd\" fill-opacity=\"1\" /><path clip-path=\"url(#clip340)\" d=\"M1185.49 1518.52 L1191.35 1518.52 L1191.35 1568.04 L1185.49 1568.04 L1185.49 1518.52 Z\" fill=\"#000000\" fill-rule=\"evenodd\" fill-opacity=\"1\" /><path clip-path=\"url(#clip340)\" d=\"M1203.6 1532.4 L1209.46 1532.4 L1209.46 1568.04 L1203.6 1568.04 L1203.6 1532.4 M1203.6 1518.52 L1209.46 1518.52 L1209.46 1525.93 L1203.6 1525.93 L1203.6 1518.52 Z\" fill=\"#000000\" fill-rule=\"evenodd\" fill-opacity=\"1\" /><path clip-path=\"url(#clip340)\" d=\"M1247.37 1533.76 L1247.37 1539.24 Q1244.88 1537.87 1242.37 1537.2 Q1239.89 1536.5 1237.34 1536.5 Q1231.64 1536.5 1228.49 1540.13 Q1225.34 1543.73 1225.34 1550.25 Q1225.34 1556.78 1228.49 1560.4 Q1231.64 1564 1237.34 1564 Q1239.89 1564 1242.37 1563.33 Q1244.88 1562.63 1247.37 1561.26 L1247.37 1566.68 Q1244.92 1567.82 1242.27 1568.39 Q1239.66 1568.97 1236.7 1568.97 Q1228.65 1568.97 1223.91 1563.91 Q1219.17 1558.85 1219.17 1550.25 Q1219.17 1541.53 1223.94 1536.53 Q1228.75 1531.54 1237.09 1531.54 Q1239.79 1531.54 1242.37 1532.11 Q1244.95 1532.65 1247.37 1533.76 Z\" fill=\"#000000\" fill-rule=\"evenodd\" fill-opacity=\"1\" /><path clip-path=\"url(#clip340)\" d=\"M1280.28 1533.45 L1280.28 1538.98 Q1277.8 1537.71 1275.12 1537.07 Q1272.45 1536.44 1269.58 1536.44 Q1265.22 1536.44 1263.03 1537.77 Q1260.86 1539.11 1260.86 1541.79 Q1260.86 1543.82 1262.42 1545 Q1263.98 1546.15 1268.69 1547.2 L1270.7 1547.64 Q1276.94 1548.98 1279.55 1551.43 Q1282.19 1553.85 1282.19 1558.21 Q1282.19 1563.17 1278.24 1566.07 Q1274.33 1568.97 1267.45 1568.97 Q1264.59 1568.97 1261.47 1568.39 Q1258.38 1567.85 1254.94 1566.74 L1254.94 1560.69 Q1258.19 1562.38 1261.34 1563.24 Q1264.49 1564.07 1267.58 1564.07 Q1271.72 1564.07 1273.94 1562.66 Q1276.17 1561.23 1276.17 1558.65 Q1276.17 1556.27 1274.55 1554.99 Q1272.96 1553.72 1267.51 1552.54 L1265.48 1552.07 Q1260.04 1550.92 1257.62 1548.56 Q1255.2 1546.18 1255.2 1542.04 Q1255.2 1537.01 1258.76 1534.27 Q1262.33 1531.54 1268.88 1531.54 Q1272.13 1531.54 1274.99 1532.01 Q1277.86 1532.49 1280.28 1533.45 Z\" fill=\"#000000\" fill-rule=\"evenodd\" fill-opacity=\"1\" /><path clip-path=\"url(#clip340)\" d=\"M1322.01 1548.76 L1322.01 1551.62 L1295.08 1551.62 Q1295.46 1557.67 1298.71 1560.85 Q1301.99 1564 1307.81 1564 Q1311.18 1564 1314.33 1563.17 Q1317.52 1562.35 1320.64 1560.69 L1320.64 1566.23 Q1317.49 1567.57 1314.18 1568.27 Q1310.87 1568.97 1307.46 1568.97 Q1298.93 1568.97 1293.93 1564 Q1288.97 1559.04 1288.97 1550.57 Q1288.97 1541.82 1293.68 1536.69 Q1298.42 1531.54 1306.44 1531.54 Q1313.63 1531.54 1317.8 1536.18 Q1322.01 1540.8 1322.01 1548.76 M1316.15 1547.04 Q1316.09 1542.23 1313.44 1539.37 Q1310.83 1536.5 1306.5 1536.5 Q1301.6 1536.5 1298.64 1539.27 Q1295.71 1542.04 1295.27 1547.07 L1316.15 1547.04 Z\" fill=\"#000000\" fill-rule=\"evenodd\" fill-opacity=\"1\" /><path clip-path=\"url(#clip340)\" d=\"M1357.27 1533.76 L1357.27 1539.24 Q1354.79 1537.87 1352.27 1537.2 Q1349.79 1536.5 1347.25 1536.5 Q1341.55 1536.5 1338.4 1540.13 Q1335.25 1543.73 1335.25 1550.25 Q1335.25 1556.78 1338.4 1560.4 Q1341.55 1564 1347.25 1564 Q1349.79 1564 1352.27 1563.33 Q1354.79 1562.63 1357.27 1561.26 L1357.27 1566.68 Q1354.82 1567.82 1352.18 1568.39 Q1349.57 1568.97 1346.61 1568.97 Q1338.56 1568.97 1333.81 1563.91 Q1329.07 1558.85 1329.07 1550.25 Q1329.07 1541.53 1333.85 1536.53 Q1338.65 1531.54 1346.99 1531.54 Q1349.7 1531.54 1352.27 1532.11 Q1354.85 1532.65 1357.27 1533.76 Z\" fill=\"#000000\" fill-rule=\"evenodd\" fill-opacity=\"1\" /><path clip-path=\"url(#clip340)\" d=\"M1381.27 1536.5 Q1376.56 1536.5 1373.82 1540.19 Q1371.08 1543.85 1371.08 1550.25 Q1371.08 1556.65 1373.79 1560.34 Q1376.53 1564 1381.27 1564 Q1385.95 1564 1388.69 1560.31 Q1391.42 1556.62 1391.42 1550.25 Q1391.42 1543.92 1388.69 1540.23 Q1385.95 1536.5 1381.27 1536.5 M1381.27 1531.54 Q1388.91 1531.54 1393.27 1536.5 Q1397.63 1541.47 1397.63 1550.25 Q1397.63 1559 1393.27 1564 Q1388.91 1568.97 1381.27 1568.97 Q1373.6 1568.97 1369.24 1564 Q1364.91 1559 1364.91 1550.25 Q1364.91 1541.47 1369.24 1536.5 Q1373.6 1531.54 1381.27 1531.54 Z\" fill=\"#000000\" fill-rule=\"evenodd\" fill-opacity=\"1\" /><path clip-path=\"url(#clip340)\" d=\"M1436.97 1546.53 L1436.97 1568.04 L1431.11 1568.04 L1431.11 1546.72 Q1431.11 1541.66 1429.14 1539.14 Q1427.17 1536.63 1423.22 1536.63 Q1418.48 1536.63 1415.74 1539.65 Q1413 1542.68 1413 1547.9 L1413 1568.04 L1407.11 1568.04 L1407.11 1532.4 L1413 1532.4 L1413 1537.93 Q1415.1 1534.72 1417.94 1533.13 Q1420.8 1531.54 1424.53 1531.54 Q1430.67 1531.54 1433.82 1535.36 Q1436.97 1539.14 1436.97 1546.53 Z\" fill=\"#000000\" fill-rule=\"evenodd\" fill-opacity=\"1\" /><path clip-path=\"url(#clip340)\" d=\"M1472.11 1537.81 L1472.11 1518.52 L1477.97 1518.52 L1477.97 1568.04 L1472.11 1568.04 L1472.11 1562.7 Q1470.26 1565.88 1467.43 1567.44 Q1464.63 1568.97 1460.68 1568.97 Q1454.22 1568.97 1450.15 1563.81 Q1446.1 1558.65 1446.1 1550.25 Q1446.1 1541.85 1450.15 1536.69 Q1454.22 1531.54 1460.68 1531.54 Q1464.63 1531.54 1467.43 1533.1 Q1470.26 1534.62 1472.11 1537.81 M1452.15 1550.25 Q1452.15 1556.71 1454.79 1560.4 Q1457.47 1564.07 1462.11 1564.07 Q1466.76 1564.07 1469.44 1560.4 Q1472.11 1556.71 1472.11 1550.25 Q1472.11 1543.79 1469.44 1540.13 Q1466.76 1536.44 1462.11 1536.44 Q1457.47 1536.44 1454.79 1540.13 Q1452.15 1543.79 1452.15 1550.25 Z\" fill=\"#000000\" fill-rule=\"evenodd\" fill-opacity=\"1\" /><path clip-path=\"url(#clip340)\" d=\"M1512.75 1533.45 L1512.75 1538.98 Q1510.27 1537.71 1507.6 1537.07 Q1504.92 1536.44 1502.06 1536.44 Q1497.7 1536.44 1495.5 1537.77 Q1493.34 1539.11 1493.34 1541.79 Q1493.34 1543.82 1494.9 1545 Q1496.46 1546.15 1501.17 1547.2 L1503.17 1547.64 Q1509.41 1548.98 1512.02 1551.43 Q1514.66 1553.85 1514.66 1558.21 Q1514.66 1563.17 1510.72 1566.07 Q1506.8 1568.97 1499.93 1568.97 Q1497.06 1568.97 1493.94 1568.39 Q1490.86 1567.85 1487.42 1566.74 L1487.42 1560.69 Q1490.66 1562.38 1493.82 1563.24 Q1496.97 1564.07 1500.05 1564.07 Q1504.19 1564.07 1506.42 1562.66 Q1508.65 1561.23 1508.65 1558.65 Q1508.65 1556.27 1507.02 1554.99 Q1505.43 1553.72 1499.99 1552.54 L1497.95 1552.07 Q1492.51 1550.92 1490.09 1548.56 Q1487.67 1546.18 1487.67 1542.04 Q1487.67 1537.01 1491.24 1534.27 Q1494.8 1531.54 1501.36 1531.54 Q1504.61 1531.54 1507.47 1532.01 Q1510.33 1532.49 1512.75 1533.45 Z\" fill=\"#000000\" fill-rule=\"evenodd\" fill-opacity=\"1\" /><polyline clip-path=\"url(#clip342)\" style=\"stroke:#000000; stroke-linecap:round; stroke-linejoin:round; stroke-width:2; stroke-opacity:0.1; fill:none\" points=\"\n  247.459,1384.24 2352.76,1384.24 \n  \"/>\n<polyline clip-path=\"url(#clip342)\" style=\"stroke:#000000; stroke-linecap:round; stroke-linejoin:round; stroke-width:2; stroke-opacity:0.1; fill:none\" points=\"\n  247.459,1059.73 2352.76,1059.73 \n  \"/>\n<polyline clip-path=\"url(#clip342)\" style=\"stroke:#000000; stroke-linecap:round; stroke-linejoin:round; stroke-width:2; stroke-opacity:0.1; fill:none\" points=\"\n  247.459,735.212 2352.76,735.212 \n  \"/>\n<polyline clip-path=\"url(#clip342)\" style=\"stroke:#000000; stroke-linecap:round; stroke-linejoin:round; stroke-width:2; stroke-opacity:0.1; fill:none\" points=\"\n  247.459,410.699 2352.76,410.699 \n  \"/>\n<polyline clip-path=\"url(#clip342)\" style=\"stroke:#000000; stroke-linecap:round; stroke-linejoin:round; stroke-width:2; stroke-opacity:0.1; fill:none\" points=\"\n  247.459,86.1857 2352.76,86.1857 \n  \"/>\n<polyline clip-path=\"url(#clip340)\" style=\"stroke:#000000; stroke-linecap:round; stroke-linejoin:round; stroke-width:4; stroke-opacity:1; fill:none\" points=\"\n  247.459,1423.18 247.459,47.2441 \n  \"/>\n<polyline clip-path=\"url(#clip340)\" style=\"stroke:#000000; stroke-linecap:round; stroke-linejoin:round; stroke-width:4; stroke-opacity:1; fill:none\" points=\"\n  247.459,1384.24 266.356,1384.24 \n  \"/>\n<polyline clip-path=\"url(#clip340)\" style=\"stroke:#000000; stroke-linecap:round; stroke-linejoin:round; stroke-width:4; stroke-opacity:1; fill:none\" points=\"\n  247.459,1059.73 266.356,1059.73 \n  \"/>\n<polyline clip-path=\"url(#clip340)\" style=\"stroke:#000000; stroke-linecap:round; stroke-linejoin:round; stroke-width:4; stroke-opacity:1; fill:none\" points=\"\n  247.459,735.212 266.356,735.212 \n  \"/>\n<polyline clip-path=\"url(#clip340)\" style=\"stroke:#000000; stroke-linecap:round; stroke-linejoin:round; stroke-width:4; stroke-opacity:1; fill:none\" points=\"\n  247.459,410.699 266.356,410.699 \n  \"/>\n<polyline clip-path=\"url(#clip340)\" style=\"stroke:#000000; stroke-linecap:round; stroke-linejoin:round; stroke-width:4; stroke-opacity:1; fill:none\" points=\"\n  247.459,86.1857 266.356,86.1857 \n  \"/>\n<path clip-path=\"url(#clip340)\" d=\"M154.283 1370.04 Q150.672 1370.04 148.843 1373.6 Q147.038 1377.14 147.038 1384.27 Q147.038 1391.38 148.843 1394.94 Q150.672 1398.49 154.283 1398.49 Q157.917 1398.49 159.723 1394.94 Q161.552 1391.38 161.552 1384.27 Q161.552 1377.14 159.723 1373.6 Q157.917 1370.04 154.283 1370.04 M154.283 1366.33 Q160.093 1366.33 163.149 1370.94 Q166.227 1375.52 166.227 1384.27 Q166.227 1393 163.149 1397.61 Q160.093 1402.19 154.283 1402.19 Q148.473 1402.19 145.394 1397.61 Q142.339 1393 142.339 1384.27 Q142.339 1375.52 145.394 1370.94 Q148.473 1366.33 154.283 1366.33 Z\" fill=\"#000000\" fill-rule=\"evenodd\" fill-opacity=\"1\" /><path clip-path=\"url(#clip340)\" d=\"M174.445 1395.64 L179.329 1395.64 L179.329 1401.52 L174.445 1401.52 L174.445 1395.64 Z\" fill=\"#000000\" fill-rule=\"evenodd\" fill-opacity=\"1\" /><path clip-path=\"url(#clip340)\" d=\"M199.514 1370.04 Q195.903 1370.04 194.075 1373.6 Q192.269 1377.14 192.269 1384.27 Q192.269 1391.38 194.075 1394.94 Q195.903 1398.49 199.514 1398.49 Q203.149 1398.49 204.954 1394.94 Q206.783 1391.38 206.783 1384.27 Q206.783 1377.14 204.954 1373.6 Q203.149 1370.04 199.514 1370.04 M199.514 1366.33 Q205.324 1366.33 208.38 1370.94 Q211.459 1375.52 211.459 1384.27 Q211.459 1393 208.38 1397.61 Q205.324 1402.19 199.514 1402.19 Q193.704 1402.19 190.625 1397.61 Q187.57 1393 187.57 1384.27 Q187.57 1375.52 190.625 1370.94 Q193.704 1366.33 199.514 1366.33 Z\" fill=\"#000000\" fill-rule=\"evenodd\" fill-opacity=\"1\" /><path clip-path=\"url(#clip340)\" d=\"M149.306 1073.07 L165.626 1073.07 L165.626 1077.01 L143.681 1077.01 L143.681 1073.07 Q146.343 1070.32 150.927 1065.69 Q155.533 1061.03 156.714 1059.69 Q158.959 1057.17 159.839 1055.43 Q160.741 1053.67 160.741 1051.98 Q160.741 1049.23 158.797 1047.49 Q156.876 1045.76 153.774 1045.76 Q151.575 1045.76 149.121 1046.52 Q146.691 1047.28 143.913 1048.83 L143.913 1044.11 Q146.737 1042.98 149.191 1042.4 Q151.644 1041.82 153.681 1041.82 Q159.052 1041.82 162.246 1044.51 Q165.44 1047.19 165.44 1051.68 Q165.44 1053.81 164.63 1055.73 Q163.843 1057.63 161.737 1060.22 Q161.158 1060.89 158.056 1064.11 Q154.954 1067.31 149.306 1073.07 Z\" fill=\"#000000\" fill-rule=\"evenodd\" fill-opacity=\"1\" /><path clip-path=\"url(#clip340)\" d=\"M175.44 1071.13 L180.325 1071.13 L180.325 1077.01 L175.44 1077.01 L175.44 1071.13 Z\" fill=\"#000000\" fill-rule=\"evenodd\" fill-opacity=\"1\" /><path clip-path=\"url(#clip340)\" d=\"M190.556 1042.45 L208.912 1042.45 L208.912 1046.38 L194.838 1046.38 L194.838 1054.85 Q195.857 1054.51 196.875 1054.34 Q197.894 1054.16 198.912 1054.16 Q204.699 1054.16 208.079 1057.33 Q211.459 1060.5 211.459 1065.92 Q211.459 1071.5 207.987 1074.6 Q204.514 1077.68 198.195 1077.68 Q196.019 1077.68 193.75 1077.31 Q191.505 1076.94 189.098 1076.19 L189.098 1071.5 Q191.181 1072.63 193.403 1073.19 Q195.625 1073.74 198.102 1073.74 Q202.107 1073.74 204.445 1071.63 Q206.783 1069.53 206.783 1065.92 Q206.783 1062.31 204.445 1060.2 Q202.107 1058.09 198.102 1058.09 Q196.227 1058.09 194.352 1058.51 Q192.5 1058.93 190.556 1059.81 L190.556 1042.45 Z\" fill=\"#000000\" fill-rule=\"evenodd\" fill-opacity=\"1\" /><path clip-path=\"url(#clip340)\" d=\"M144.329 717.932 L162.686 717.932 L162.686 721.867 L148.612 721.867 L148.612 730.339 Q149.63 729.992 150.649 729.83 Q151.667 729.645 152.686 729.645 Q158.473 729.645 161.852 732.816 Q165.232 735.987 165.232 741.404 Q165.232 746.983 161.76 750.085 Q158.288 753.163 151.968 753.163 Q149.792 753.163 147.524 752.793 Q145.279 752.423 142.871 751.682 L142.871 746.983 Q144.954 748.117 147.177 748.673 Q149.399 749.228 151.876 749.228 Q155.88 749.228 158.218 747.122 Q160.556 745.015 160.556 741.404 Q160.556 737.793 158.218 735.687 Q155.88 733.58 151.876 733.58 Q150.001 733.58 148.126 733.997 Q146.274 734.413 144.329 735.293 L144.329 717.932 Z\" fill=\"#000000\" fill-rule=\"evenodd\" fill-opacity=\"1\" /><path clip-path=\"url(#clip340)\" d=\"M174.445 746.612 L179.329 746.612 L179.329 752.492 L174.445 752.492 L174.445 746.612 Z\" fill=\"#000000\" fill-rule=\"evenodd\" fill-opacity=\"1\" /><path clip-path=\"url(#clip340)\" d=\"M199.514 721.011 Q195.903 721.011 194.075 724.575 Q192.269 728.117 192.269 735.247 Q192.269 742.353 194.075 745.918 Q195.903 749.46 199.514 749.46 Q203.149 749.46 204.954 745.918 Q206.783 742.353 206.783 735.247 Q206.783 728.117 204.954 724.575 Q203.149 721.011 199.514 721.011 M199.514 717.307 Q205.324 717.307 208.38 721.913 Q211.459 726.497 211.459 735.247 Q211.459 743.973 208.38 748.58 Q205.324 753.163 199.514 753.163 Q193.704 753.163 190.625 748.58 Q187.57 743.973 187.57 735.247 Q187.57 726.497 190.625 721.913 Q193.704 717.307 199.514 717.307 Z\" fill=\"#000000\" fill-rule=\"evenodd\" fill-opacity=\"1\" /><path clip-path=\"url(#clip340)\" d=\"M144.098 393.419 L166.32 393.419 L166.32 395.41 L153.774 427.979 L148.89 427.979 L160.695 397.354 L144.098 397.354 L144.098 393.419 Z\" fill=\"#000000\" fill-rule=\"evenodd\" fill-opacity=\"1\" /><path clip-path=\"url(#clip340)\" d=\"M175.44 422.099 L180.325 422.099 L180.325 427.979 L175.44 427.979 L175.44 422.099 Z\" fill=\"#000000\" fill-rule=\"evenodd\" fill-opacity=\"1\" /><path clip-path=\"url(#clip340)\" d=\"M190.556 393.419 L208.912 393.419 L208.912 397.354 L194.838 397.354 L194.838 405.826 Q195.857 405.479 196.875 405.317 Q197.894 405.132 198.912 405.132 Q204.699 405.132 208.079 408.303 Q211.459 411.474 211.459 416.891 Q211.459 422.47 207.987 425.571 Q204.514 428.65 198.195 428.65 Q196.019 428.65 193.75 428.28 Q191.505 427.909 189.098 427.169 L189.098 422.47 Q191.181 423.604 193.403 424.159 Q195.625 424.715 198.102 424.715 Q202.107 424.715 204.445 422.608 Q206.783 420.502 206.783 416.891 Q206.783 413.28 204.445 411.173 Q202.107 409.067 198.102 409.067 Q196.227 409.067 194.352 409.484 Q192.5 409.9 190.556 410.78 L190.556 393.419 Z\" fill=\"#000000\" fill-rule=\"evenodd\" fill-opacity=\"1\" /><path clip-path=\"url(#clip340)\" d=\"M114.931 99.5305 L122.57 99.5305 L122.57 73.1649 L114.26 74.8316 L114.26 70.5723 L122.524 68.9057 L127.2 68.9057 L127.2 99.5305 L134.839 99.5305 L134.839 103.466 L114.931 103.466 L114.931 99.5305 Z\" fill=\"#000000\" fill-rule=\"evenodd\" fill-opacity=\"1\" /><path clip-path=\"url(#clip340)\" d=\"M154.283 71.9844 Q150.672 71.9844 148.843 75.5492 Q147.038 79.0908 147.038 86.2204 Q147.038 93.3268 148.843 96.8916 Q150.672 100.433 154.283 100.433 Q157.917 100.433 159.723 96.8916 Q161.552 93.3268 161.552 86.2204 Q161.552 79.0908 159.723 75.5492 Q157.917 71.9844 154.283 71.9844 M154.283 68.2807 Q160.093 68.2807 163.149 72.8871 Q166.227 77.4704 166.227 86.2204 Q166.227 94.9472 163.149 99.5537 Q160.093 104.137 154.283 104.137 Q148.473 104.137 145.394 99.5537 Q142.339 94.9472 142.339 86.2204 Q142.339 77.4704 145.394 72.8871 Q148.473 68.2807 154.283 68.2807 Z\" fill=\"#000000\" fill-rule=\"evenodd\" fill-opacity=\"1\" /><path clip-path=\"url(#clip340)\" d=\"M174.445 97.5861 L179.329 97.5861 L179.329 103.466 L174.445 103.466 L174.445 97.5861 Z\" fill=\"#000000\" fill-rule=\"evenodd\" fill-opacity=\"1\" /><path clip-path=\"url(#clip340)\" d=\"M199.514 71.9844 Q195.903 71.9844 194.075 75.5492 Q192.269 79.0908 192.269 86.2204 Q192.269 93.3268 194.075 96.8916 Q195.903 100.433 199.514 100.433 Q203.149 100.433 204.954 96.8916 Q206.783 93.3268 206.783 86.2204 Q206.783 79.0908 204.954 75.5492 Q203.149 71.9844 199.514 71.9844 M199.514 68.2807 Q205.324 68.2807 208.38 72.8871 Q211.459 77.4704 211.459 86.2204 Q211.459 94.9472 208.38 99.5537 Q205.324 104.137 199.514 104.137 Q193.704 104.137 190.625 99.5537 Q187.57 94.9472 187.57 86.2204 Q187.57 77.4704 190.625 72.8871 Q193.704 68.2807 199.514 68.2807 Z\" fill=\"#000000\" fill-rule=\"evenodd\" fill-opacity=\"1\" /><path clip-path=\"url(#clip340)\" d=\"M29.7248 796.386 L35.1993 796.386 Q33.8307 798.869 33.1623 801.383 Q32.4621 803.866 32.4621 806.412 Q32.4621 812.11 36.0905 815.261 Q39.6872 818.412 46.212 818.412 Q52.7369 818.412 56.3653 815.261 Q59.9619 812.11 59.9619 806.412 Q59.9619 803.866 59.2935 801.383 Q58.5933 798.869 57.2247 796.386 L62.6355 796.386 Q63.7814 798.837 64.3543 801.479 Q64.9272 804.089 64.9272 807.049 Q64.9272 815.102 59.8664 819.844 Q54.8057 824.586 46.212 824.586 Q37.491 824.586 32.4939 819.812 Q27.4968 815.006 27.4968 806.667 Q27.4968 803.962 28.0697 801.383 Q28.6108 798.805 29.7248 796.386 Z\" fill=\"#000000\" fill-rule=\"evenodd\" fill-opacity=\"1\" /><path clip-path=\"url(#clip340)\" d=\"M32.4621 772.388 Q32.4621 777.098 36.1542 779.836 Q39.8145 782.573 46.212 782.573 Q52.6095 782.573 56.3017 779.867 Q59.9619 777.13 59.9619 772.388 Q59.9619 767.709 56.2698 764.972 Q52.5777 762.234 46.212 762.234 Q39.8781 762.234 36.186 764.972 Q32.4621 767.709 32.4621 772.388 M27.4968 772.388 Q27.4968 764.749 32.4621 760.388 Q37.4273 756.028 46.212 756.028 Q54.9649 756.028 59.9619 760.388 Q64.9272 764.749 64.9272 772.388 Q64.9272 780.058 59.9619 784.419 Q54.9649 788.748 46.212 788.748 Q37.4273 788.748 32.4621 784.419 Q27.4968 780.058 27.4968 772.388 Z\" fill=\"#000000\" fill-rule=\"evenodd\" fill-opacity=\"1\" /><path clip-path=\"url(#clip340)\" d=\"M49.9359 746.925 L28.3562 746.925 L28.3562 741.068 L49.7131 741.068 Q54.7739 741.068 57.3202 739.095 Q59.8346 737.122 59.8346 733.175 Q59.8346 728.432 56.8109 725.695 Q53.7872 722.926 48.5673 722.926 L28.3562 722.926 L28.3562 717.07 L64.0042 717.07 L64.0042 722.926 L58.5296 722.926 Q61.7762 725.059 63.3676 727.891 Q64.9272 730.692 64.9272 734.416 Q64.9272 740.559 61.1078 743.742 Q57.2883 746.925 49.9359 746.925 M27.4968 732.188 L27.4968 732.188 Z\" fill=\"#000000\" fill-rule=\"evenodd\" fill-opacity=\"1\" /><path clip-path=\"url(#clip340)\" d=\"M42.4881 675.374 L64.0042 675.374 L64.0042 681.231 L42.679 681.231 Q37.6183 681.231 35.1038 683.204 Q32.5894 685.178 32.5894 689.124 Q32.5894 693.867 35.6131 696.604 Q38.6368 699.341 43.8567 699.341 L64.0042 699.341 L64.0042 705.229 L28.3562 705.229 L28.3562 699.341 L33.8944 699.341 Q30.6797 697.241 29.0883 694.408 Q27.4968 691.543 27.4968 687.819 Q27.4968 681.676 31.3163 678.525 Q35.1038 675.374 42.4881 675.374 Z\" fill=\"#000000\" fill-rule=\"evenodd\" fill-opacity=\"1\" /><path clip-path=\"url(#clip340)\" d=\"M18.2347 657.9 L28.3562 657.9 L28.3562 645.837 L32.9077 645.837 L32.9077 657.9 L52.2594 657.9 Q56.6199 657.9 57.8613 656.723 Q59.1026 655.513 59.1026 651.853 L59.1026 645.837 L64.0042 645.837 L64.0042 651.853 Q64.0042 658.633 61.4897 661.211 Q58.9434 663.789 52.2594 663.789 L32.9077 663.789 L32.9077 668.086 L28.3562 668.086 L28.3562 663.789 L18.2347 663.789 L18.2347 657.9 Z\" fill=\"#000000\" fill-rule=\"evenodd\" fill-opacity=\"1\" /><path clip-path=\"url(#clip342)\" d=\"\nM221.497 1254.43 L221.497 1384.24 L261.043 1384.24 L261.043 1254.43 L221.497 1254.43 L221.497 1254.43  Z\n  \" fill=\"#009af9\" fill-rule=\"evenodd\" fill-opacity=\"1\"/>\n<polyline clip-path=\"url(#clip342)\" style=\"stroke:#000000; stroke-linecap:round; stroke-linejoin:round; stroke-width:4; stroke-opacity:1; fill:none\" points=\"\n  221.497,1254.43 221.497,1384.24 261.043,1384.24 261.043,1254.43 221.497,1254.43 \n  \"/>\n<path clip-path=\"url(#clip342)\" d=\"\nM261.043 1384.24 L261.043 1384.24 L300.589 1384.24 L300.589 1384.24 L261.043 1384.24 L261.043 1384.24  Z\n  \" fill=\"#009af9\" fill-rule=\"evenodd\" fill-opacity=\"1\"/>\n<polyline clip-path=\"url(#clip342)\" style=\"stroke:#000000; stroke-linecap:round; stroke-linejoin:round; stroke-width:4; stroke-opacity:1; fill:none\" points=\"\n  261.043,1384.24 261.043,1384.24 300.589,1384.24 261.043,1384.24 \n  \"/>\n<path clip-path=\"url(#clip342)\" d=\"\nM300.589 1254.43 L300.589 1384.24 L340.135 1384.24 L340.135 1254.43 L300.589 1254.43 L300.589 1254.43  Z\n  \" fill=\"#009af9\" fill-rule=\"evenodd\" fill-opacity=\"1\"/>\n<polyline clip-path=\"url(#clip342)\" style=\"stroke:#000000; stroke-linecap:round; stroke-linejoin:round; stroke-width:4; stroke-opacity:1; fill:none\" points=\"\n  300.589,1254.43 300.589,1384.24 340.135,1384.24 340.135,1254.43 300.589,1254.43 \n  \"/>\n<path clip-path=\"url(#clip342)\" d=\"\nM340.135 1254.43 L340.135 1384.24 L379.682 1384.24 L379.682 1254.43 L340.135 1254.43 L340.135 1254.43  Z\n  \" fill=\"#009af9\" fill-rule=\"evenodd\" fill-opacity=\"1\"/>\n<polyline clip-path=\"url(#clip342)\" style=\"stroke:#000000; stroke-linecap:round; stroke-linejoin:round; stroke-width:4; stroke-opacity:1; fill:none\" points=\"\n  340.135,1254.43 340.135,1384.24 379.682,1384.24 379.682,1254.43 340.135,1254.43 \n  \"/>\n<path clip-path=\"url(#clip342)\" d=\"\nM379.682 1124.63 L379.682 1384.24 L419.228 1384.24 L419.228 1124.63 L379.682 1124.63 L379.682 1124.63  Z\n  \" fill=\"#009af9\" fill-rule=\"evenodd\" fill-opacity=\"1\"/>\n<polyline clip-path=\"url(#clip342)\" style=\"stroke:#000000; stroke-linecap:round; stroke-linejoin:round; stroke-width:4; stroke-opacity:1; fill:none\" points=\"\n  379.682,1124.63 379.682,1384.24 419.228,1384.24 419.228,1124.63 379.682,1124.63 \n  \"/>\n<path clip-path=\"url(#clip342)\" d=\"\nM419.228 1254.43 L419.228 1384.24 L458.774 1384.24 L458.774 1254.43 L419.228 1254.43 L419.228 1254.43  Z\n  \" fill=\"#009af9\" fill-rule=\"evenodd\" fill-opacity=\"1\"/>\n<polyline clip-path=\"url(#clip342)\" style=\"stroke:#000000; stroke-linecap:round; stroke-linejoin:round; stroke-width:4; stroke-opacity:1; fill:none\" points=\"\n  419.228,1254.43 419.228,1384.24 458.774,1384.24 458.774,1254.43 419.228,1254.43 \n  \"/>\n<path clip-path=\"url(#clip342)\" d=\"\nM458.774 1384.24 L458.774 1384.24 L498.321 1384.24 L498.321 1384.24 L458.774 1384.24 L458.774 1384.24  Z\n  \" fill=\"#009af9\" fill-rule=\"evenodd\" fill-opacity=\"1\"/>\n<polyline clip-path=\"url(#clip342)\" style=\"stroke:#000000; stroke-linecap:round; stroke-linejoin:round; stroke-width:4; stroke-opacity:1; fill:none\" points=\"\n  458.774,1384.24 458.774,1384.24 498.321,1384.24 458.774,1384.24 \n  \"/>\n<path clip-path=\"url(#clip342)\" d=\"\nM498.321 994.822 L498.321 1384.24 L537.867 1384.24 L537.867 994.822 L498.321 994.822 L498.321 994.822  Z\n  \" fill=\"#009af9\" fill-rule=\"evenodd\" fill-opacity=\"1\"/>\n<polyline clip-path=\"url(#clip342)\" style=\"stroke:#000000; stroke-linecap:round; stroke-linejoin:round; stroke-width:4; stroke-opacity:1; fill:none\" points=\"\n  498.321,994.822 498.321,1384.24 537.867,1384.24 537.867,994.822 498.321,994.822 \n  \"/>\n<path clip-path=\"url(#clip342)\" d=\"\nM537.867 1254.43 L537.867 1384.24 L577.413 1384.24 L577.413 1254.43 L537.867 1254.43 L537.867 1254.43  Z\n  \" fill=\"#009af9\" fill-rule=\"evenodd\" fill-opacity=\"1\"/>\n<polyline clip-path=\"url(#clip342)\" style=\"stroke:#000000; stroke-linecap:round; stroke-linejoin:round; stroke-width:4; stroke-opacity:1; fill:none\" points=\"\n  537.867,1254.43 537.867,1384.24 577.413,1384.24 577.413,1254.43 537.867,1254.43 \n  \"/>\n<path clip-path=\"url(#clip342)\" d=\"\nM577.413 994.822 L577.413 1384.24 L616.96 1384.24 L616.96 994.822 L577.413 994.822 L577.413 994.822  Z\n  \" fill=\"#009af9\" fill-rule=\"evenodd\" fill-opacity=\"1\"/>\n<polyline clip-path=\"url(#clip342)\" style=\"stroke:#000000; stroke-linecap:round; stroke-linejoin:round; stroke-width:4; stroke-opacity:1; fill:none\" points=\"\n  577.413,994.822 577.413,1384.24 616.96,1384.24 616.96,994.822 577.413,994.822 \n  \"/>\n<path clip-path=\"url(#clip342)\" d=\"\nM616.96 994.822 L616.96 1384.24 L656.506 1384.24 L656.506 994.822 L616.96 994.822 L616.96 994.822  Z\n  \" fill=\"#009af9\" fill-rule=\"evenodd\" fill-opacity=\"1\"/>\n<polyline clip-path=\"url(#clip342)\" style=\"stroke:#000000; stroke-linecap:round; stroke-linejoin:round; stroke-width:4; stroke-opacity:1; fill:none\" points=\"\n  616.96,994.822 616.96,1384.24 656.506,1384.24 656.506,994.822 616.96,994.822 \n  \"/>\n<path clip-path=\"url(#clip342)\" d=\"\nM656.506 1124.63 L656.506 1384.24 L696.052 1384.24 L696.052 1124.63 L656.506 1124.63 L656.506 1124.63  Z\n  \" fill=\"#009af9\" fill-rule=\"evenodd\" fill-opacity=\"1\"/>\n<polyline clip-path=\"url(#clip342)\" style=\"stroke:#000000; stroke-linecap:round; stroke-linejoin:round; stroke-width:4; stroke-opacity:1; fill:none\" points=\"\n  656.506,1124.63 656.506,1384.24 696.052,1384.24 696.052,1124.63 656.506,1124.63 \n  \"/>\n<path clip-path=\"url(#clip342)\" d=\"\nM696.052 1124.63 L696.052 1384.24 L735.598 1384.24 L735.598 1124.63 L696.052 1124.63 L696.052 1124.63  Z\n  \" fill=\"#009af9\" fill-rule=\"evenodd\" fill-opacity=\"1\"/>\n<polyline clip-path=\"url(#clip342)\" style=\"stroke:#000000; stroke-linecap:round; stroke-linejoin:round; stroke-width:4; stroke-opacity:1; fill:none\" points=\"\n  696.052,1124.63 696.052,1384.24 735.598,1384.24 735.598,1124.63 696.052,1124.63 \n  \"/>\n<path clip-path=\"url(#clip342)\" d=\"\nM735.598 865.017 L735.598 1384.24 L775.145 1384.24 L775.145 865.017 L735.598 865.017 L735.598 865.017  Z\n  \" fill=\"#009af9\" fill-rule=\"evenodd\" fill-opacity=\"1\"/>\n<polyline clip-path=\"url(#clip342)\" style=\"stroke:#000000; stroke-linecap:round; stroke-linejoin:round; stroke-width:4; stroke-opacity:1; fill:none\" points=\"\n  735.598,865.017 735.598,1384.24 775.145,1384.24 775.145,865.017 735.598,865.017 \n  \"/>\n<path clip-path=\"url(#clip342)\" d=\"\nM775.145 1254.43 L775.145 1384.24 L814.691 1384.24 L814.691 1254.43 L775.145 1254.43 L775.145 1254.43  Z\n  \" fill=\"#009af9\" fill-rule=\"evenodd\" fill-opacity=\"1\"/>\n<polyline clip-path=\"url(#clip342)\" style=\"stroke:#000000; stroke-linecap:round; stroke-linejoin:round; stroke-width:4; stroke-opacity:1; fill:none\" points=\"\n  775.145,1254.43 775.145,1384.24 814.691,1384.24 814.691,1254.43 775.145,1254.43 \n  \"/>\n<path clip-path=\"url(#clip342)\" d=\"\nM814.691 1124.63 L814.691 1384.24 L854.237 1384.24 L854.237 1124.63 L814.691 1124.63 L814.691 1124.63  Z\n  \" fill=\"#009af9\" fill-rule=\"evenodd\" fill-opacity=\"1\"/>\n<polyline clip-path=\"url(#clip342)\" style=\"stroke:#000000; stroke-linecap:round; stroke-linejoin:round; stroke-width:4; stroke-opacity:1; fill:none\" points=\"\n  814.691,1124.63 814.691,1384.24 854.237,1384.24 854.237,1124.63 814.691,1124.63 \n  \"/>\n<path clip-path=\"url(#clip342)\" d=\"\nM854.237 1124.63 L854.237 1384.24 L893.784 1384.24 L893.784 1124.63 L854.237 1124.63 L854.237 1124.63  Z\n  \" fill=\"#009af9\" fill-rule=\"evenodd\" fill-opacity=\"1\"/>\n<polyline clip-path=\"url(#clip342)\" style=\"stroke:#000000; stroke-linecap:round; stroke-linejoin:round; stroke-width:4; stroke-opacity:1; fill:none\" points=\"\n  854.237,1124.63 854.237,1384.24 893.784,1384.24 893.784,1124.63 854.237,1124.63 \n  \"/>\n<path clip-path=\"url(#clip342)\" d=\"\nM893.784 1384.24 L893.784 1384.24 L933.33 1384.24 L933.33 1384.24 L893.784 1384.24 L893.784 1384.24  Z\n  \" fill=\"#009af9\" fill-rule=\"evenodd\" fill-opacity=\"1\"/>\n<polyline clip-path=\"url(#clip342)\" style=\"stroke:#000000; stroke-linecap:round; stroke-linejoin:round; stroke-width:4; stroke-opacity:1; fill:none\" points=\"\n  893.784,1384.24 893.784,1384.24 933.33,1384.24 893.784,1384.24 \n  \"/>\n<path clip-path=\"url(#clip342)\" d=\"\nM933.33 1254.43 L933.33 1384.24 L972.876 1384.24 L972.876 1254.43 L933.33 1254.43 L933.33 1254.43  Z\n  \" fill=\"#009af9\" fill-rule=\"evenodd\" fill-opacity=\"1\"/>\n<polyline clip-path=\"url(#clip342)\" style=\"stroke:#000000; stroke-linecap:round; stroke-linejoin:round; stroke-width:4; stroke-opacity:1; fill:none\" points=\"\n  933.33,1254.43 933.33,1384.24 972.876,1384.24 972.876,1254.43 933.33,1254.43 \n  \"/>\n<path clip-path=\"url(#clip342)\" d=\"\nM972.876 994.822 L972.876 1384.24 L1012.42 1384.24 L1012.42 994.822 L972.876 994.822 L972.876 994.822  Z\n  \" fill=\"#009af9\" fill-rule=\"evenodd\" fill-opacity=\"1\"/>\n<polyline clip-path=\"url(#clip342)\" style=\"stroke:#000000; stroke-linecap:round; stroke-linejoin:round; stroke-width:4; stroke-opacity:1; fill:none\" points=\"\n  972.876,994.822 972.876,1384.24 1012.42,1384.24 1012.42,994.822 972.876,994.822 \n  \"/>\n<path clip-path=\"url(#clip342)\" d=\"\nM1012.42 1384.24 L1012.42 1384.24 L1051.97 1384.24 L1051.97 1384.24 L1012.42 1384.24 L1012.42 1384.24  Z\n  \" fill=\"#009af9\" fill-rule=\"evenodd\" fill-opacity=\"1\"/>\n<polyline clip-path=\"url(#clip342)\" style=\"stroke:#000000; stroke-linecap:round; stroke-linejoin:round; stroke-width:4; stroke-opacity:1; fill:none\" points=\"\n  1012.42,1384.24 1012.42,1384.24 1051.97,1384.24 1012.42,1384.24 \n  \"/>\n<path clip-path=\"url(#clip342)\" d=\"\nM1051.97 1254.43 L1051.97 1384.24 L1091.52 1384.24 L1091.52 1254.43 L1051.97 1254.43 L1051.97 1254.43  Z\n  \" fill=\"#009af9\" fill-rule=\"evenodd\" fill-opacity=\"1\"/>\n<polyline clip-path=\"url(#clip342)\" style=\"stroke:#000000; stroke-linecap:round; stroke-linejoin:round; stroke-width:4; stroke-opacity:1; fill:none\" points=\"\n  1051.97,1254.43 1051.97,1384.24 1091.52,1384.24 1091.52,1254.43 1051.97,1254.43 \n  \"/>\n<path clip-path=\"url(#clip342)\" d=\"\nM1091.52 735.212 L1091.52 1384.24 L1131.06 1384.24 L1131.06 735.212 L1091.52 735.212 L1091.52 735.212  Z\n  \" fill=\"#009af9\" fill-rule=\"evenodd\" fill-opacity=\"1\"/>\n<polyline clip-path=\"url(#clip342)\" style=\"stroke:#000000; stroke-linecap:round; stroke-linejoin:round; stroke-width:4; stroke-opacity:1; fill:none\" points=\"\n  1091.52,735.212 1091.52,1384.24 1131.06,1384.24 1131.06,735.212 1091.52,735.212 \n  \"/>\n<path clip-path=\"url(#clip342)\" d=\"\nM1131.06 1384.24 L1131.06 1384.24 L1170.61 1384.24 L1170.61 1384.24 L1131.06 1384.24 L1131.06 1384.24  Z\n  \" fill=\"#009af9\" fill-rule=\"evenodd\" fill-opacity=\"1\"/>\n<polyline clip-path=\"url(#clip342)\" style=\"stroke:#000000; stroke-linecap:round; stroke-linejoin:round; stroke-width:4; stroke-opacity:1; fill:none\" points=\"\n  1131.06,1384.24 1131.06,1384.24 1170.61,1384.24 1131.06,1384.24 \n  \"/>\n<path clip-path=\"url(#clip342)\" d=\"\nM1170.61 735.212 L1170.61 1384.24 L1210.15 1384.24 L1210.15 735.212 L1170.61 735.212 L1170.61 735.212  Z\n  \" fill=\"#009af9\" fill-rule=\"evenodd\" fill-opacity=\"1\"/>\n<polyline clip-path=\"url(#clip342)\" style=\"stroke:#000000; stroke-linecap:round; stroke-linejoin:round; stroke-width:4; stroke-opacity:1; fill:none\" points=\"\n  1170.61,735.212 1170.61,1384.24 1210.15,1384.24 1210.15,735.212 1170.61,735.212 \n  \"/>\n<path clip-path=\"url(#clip342)\" d=\"\nM1210.15 1254.43 L1210.15 1384.24 L1249.7 1384.24 L1249.7 1254.43 L1210.15 1254.43 L1210.15 1254.43  Z\n  \" fill=\"#009af9\" fill-rule=\"evenodd\" fill-opacity=\"1\"/>\n<polyline clip-path=\"url(#clip342)\" style=\"stroke:#000000; stroke-linecap:round; stroke-linejoin:round; stroke-width:4; stroke-opacity:1; fill:none\" points=\"\n  1210.15,1254.43 1210.15,1384.24 1249.7,1384.24 1249.7,1254.43 1210.15,1254.43 \n  \"/>\n<path clip-path=\"url(#clip342)\" d=\"\nM1249.7 865.017 L1249.7 1384.24 L1289.25 1384.24 L1289.25 865.017 L1249.7 865.017 L1249.7 865.017  Z\n  \" fill=\"#009af9\" fill-rule=\"evenodd\" fill-opacity=\"1\"/>\n<polyline clip-path=\"url(#clip342)\" style=\"stroke:#000000; stroke-linecap:round; stroke-linejoin:round; stroke-width:4; stroke-opacity:1; fill:none\" points=\"\n  1249.7,865.017 1249.7,1384.24 1289.25,1384.24 1289.25,865.017 1249.7,865.017 \n  \"/>\n<path clip-path=\"url(#clip342)\" d=\"\nM1289.25 994.822 L1289.25 1384.24 L1328.79 1384.24 L1328.79 994.822 L1289.25 994.822 L1289.25 994.822  Z\n  \" fill=\"#009af9\" fill-rule=\"evenodd\" fill-opacity=\"1\"/>\n<polyline clip-path=\"url(#clip342)\" style=\"stroke:#000000; stroke-linecap:round; stroke-linejoin:round; stroke-width:4; stroke-opacity:1; fill:none\" points=\"\n  1289.25,994.822 1289.25,1384.24 1328.79,1384.24 1328.79,994.822 1289.25,994.822 \n  \"/>\n<path clip-path=\"url(#clip342)\" d=\"\nM1328.79 605.407 L1328.79 1384.24 L1368.34 1384.24 L1368.34 605.407 L1328.79 605.407 L1328.79 605.407  Z\n  \" fill=\"#009af9\" fill-rule=\"evenodd\" fill-opacity=\"1\"/>\n<polyline clip-path=\"url(#clip342)\" style=\"stroke:#000000; stroke-linecap:round; stroke-linejoin:round; stroke-width:4; stroke-opacity:1; fill:none\" points=\"\n  1328.79,605.407 1328.79,1384.24 1368.34,1384.24 1368.34,605.407 1328.79,605.407 \n  \"/>\n<path clip-path=\"url(#clip342)\" d=\"\nM1368.34 475.601 L1368.34 1384.24 L1407.89 1384.24 L1407.89 475.601 L1368.34 475.601 L1368.34 475.601  Z\n  \" fill=\"#009af9\" fill-rule=\"evenodd\" fill-opacity=\"1\"/>\n<polyline clip-path=\"url(#clip342)\" style=\"stroke:#000000; stroke-linecap:round; stroke-linejoin:round; stroke-width:4; stroke-opacity:1; fill:none\" points=\"\n  1368.34,475.601 1368.34,1384.24 1407.89,1384.24 1407.89,475.601 1368.34,475.601 \n  \"/>\n<path clip-path=\"url(#clip342)\" d=\"\nM1407.89 865.017 L1407.89 1384.24 L1447.43 1384.24 L1447.43 865.017 L1407.89 865.017 L1407.89 865.017  Z\n  \" fill=\"#009af9\" fill-rule=\"evenodd\" fill-opacity=\"1\"/>\n<polyline clip-path=\"url(#clip342)\" style=\"stroke:#000000; stroke-linecap:round; stroke-linejoin:round; stroke-width:4; stroke-opacity:1; fill:none\" points=\"\n  1407.89,865.017 1407.89,1384.24 1447.43,1384.24 1447.43,865.017 1407.89,865.017 \n  \"/>\n<path clip-path=\"url(#clip342)\" d=\"\nM1447.43 86.1857 L1447.43 1384.24 L1486.98 1384.24 L1486.98 86.1857 L1447.43 86.1857 L1447.43 86.1857  Z\n  \" fill=\"#009af9\" fill-rule=\"evenodd\" fill-opacity=\"1\"/>\n<polyline clip-path=\"url(#clip342)\" style=\"stroke:#000000; stroke-linecap:round; stroke-linejoin:round; stroke-width:4; stroke-opacity:1; fill:none\" points=\"\n  1447.43,86.1857 1447.43,1384.24 1486.98,1384.24 1486.98,86.1857 1447.43,86.1857 \n  \"/>\n<path clip-path=\"url(#clip342)\" d=\"\nM1486.98 1124.63 L1486.98 1384.24 L1526.52 1384.24 L1526.52 1124.63 L1486.98 1124.63 L1486.98 1124.63  Z\n  \" fill=\"#009af9\" fill-rule=\"evenodd\" fill-opacity=\"1\"/>\n<polyline clip-path=\"url(#clip342)\" style=\"stroke:#000000; stroke-linecap:round; stroke-linejoin:round; stroke-width:4; stroke-opacity:1; fill:none\" points=\"\n  1486.98,1124.63 1486.98,1384.24 1526.52,1384.24 1526.52,1124.63 1486.98,1124.63 \n  \"/>\n<path clip-path=\"url(#clip342)\" d=\"\nM1526.52 865.017 L1526.52 1384.24 L1566.07 1384.24 L1566.07 865.017 L1526.52 865.017 L1526.52 865.017  Z\n  \" fill=\"#009af9\" fill-rule=\"evenodd\" fill-opacity=\"1\"/>\n<polyline clip-path=\"url(#clip342)\" style=\"stroke:#000000; stroke-linecap:round; stroke-linejoin:round; stroke-width:4; stroke-opacity:1; fill:none\" points=\"\n  1526.52,865.017 1526.52,1384.24 1566.07,1384.24 1566.07,865.017 1526.52,865.017 \n  \"/>\n<path clip-path=\"url(#clip342)\" d=\"\nM1566.07 865.017 L1566.07 1384.24 L1605.62 1384.24 L1605.62 865.017 L1566.07 865.017 L1566.07 865.017  Z\n  \" fill=\"#009af9\" fill-rule=\"evenodd\" fill-opacity=\"1\"/>\n<polyline clip-path=\"url(#clip342)\" style=\"stroke:#000000; stroke-linecap:round; stroke-linejoin:round; stroke-width:4; stroke-opacity:1; fill:none\" points=\"\n  1566.07,865.017 1566.07,1384.24 1605.62,1384.24 1605.62,865.017 1566.07,865.017 \n  \"/>\n<path clip-path=\"url(#clip342)\" d=\"\nM1605.62 735.212 L1605.62 1384.24 L1645.16 1384.24 L1645.16 735.212 L1605.62 735.212 L1605.62 735.212  Z\n  \" fill=\"#009af9\" fill-rule=\"evenodd\" fill-opacity=\"1\"/>\n<polyline clip-path=\"url(#clip342)\" style=\"stroke:#000000; stroke-linecap:round; stroke-linejoin:round; stroke-width:4; stroke-opacity:1; fill:none\" points=\"\n  1605.62,735.212 1605.62,1384.24 1645.16,1384.24 1645.16,735.212 1605.62,735.212 \n  \"/>\n<path clip-path=\"url(#clip342)\" d=\"\nM1645.16 1124.63 L1645.16 1384.24 L1684.71 1384.24 L1684.71 1124.63 L1645.16 1124.63 L1645.16 1124.63  Z\n  \" fill=\"#009af9\" fill-rule=\"evenodd\" fill-opacity=\"1\"/>\n<polyline clip-path=\"url(#clip342)\" style=\"stroke:#000000; stroke-linecap:round; stroke-linejoin:round; stroke-width:4; stroke-opacity:1; fill:none\" points=\"\n  1645.16,1124.63 1645.16,1384.24 1684.71,1384.24 1684.71,1124.63 1645.16,1124.63 \n  \"/>\n<path clip-path=\"url(#clip342)\" d=\"\nM1684.71 865.017 L1684.71 1384.24 L1724.26 1384.24 L1724.26 865.017 L1684.71 865.017 L1684.71 865.017  Z\n  \" fill=\"#009af9\" fill-rule=\"evenodd\" fill-opacity=\"1\"/>\n<polyline clip-path=\"url(#clip342)\" style=\"stroke:#000000; stroke-linecap:round; stroke-linejoin:round; stroke-width:4; stroke-opacity:1; fill:none\" points=\"\n  1684.71,865.017 1684.71,1384.24 1724.26,1384.24 1724.26,865.017 1684.71,865.017 \n  \"/>\n<path clip-path=\"url(#clip342)\" d=\"\nM1724.26 735.212 L1724.26 1384.24 L1763.8 1384.24 L1763.8 735.212 L1724.26 735.212 L1724.26 735.212  Z\n  \" fill=\"#009af9\" fill-rule=\"evenodd\" fill-opacity=\"1\"/>\n<polyline clip-path=\"url(#clip342)\" style=\"stroke:#000000; stroke-linecap:round; stroke-linejoin:round; stroke-width:4; stroke-opacity:1; fill:none\" points=\"\n  1724.26,735.212 1724.26,1384.24 1763.8,1384.24 1763.8,735.212 1724.26,735.212 \n  \"/>\n<path clip-path=\"url(#clip342)\" d=\"\nM1763.8 994.822 L1763.8 1384.24 L1803.35 1384.24 L1803.35 994.822 L1763.8 994.822 L1763.8 994.822  Z\n  \" fill=\"#009af9\" fill-rule=\"evenodd\" fill-opacity=\"1\"/>\n<polyline clip-path=\"url(#clip342)\" style=\"stroke:#000000; stroke-linecap:round; stroke-linejoin:round; stroke-width:4; stroke-opacity:1; fill:none\" points=\"\n  1763.8,994.822 1763.8,1384.24 1803.35,1384.24 1803.35,994.822 1763.8,994.822 \n  \"/>\n<path clip-path=\"url(#clip342)\" d=\"\nM1803.35 1254.43 L1803.35 1384.24 L1842.89 1384.24 L1842.89 1254.43 L1803.35 1254.43 L1803.35 1254.43  Z\n  \" fill=\"#009af9\" fill-rule=\"evenodd\" fill-opacity=\"1\"/>\n<polyline clip-path=\"url(#clip342)\" style=\"stroke:#000000; stroke-linecap:round; stroke-linejoin:round; stroke-width:4; stroke-opacity:1; fill:none\" points=\"\n  1803.35,1254.43 1803.35,1384.24 1842.89,1384.24 1842.89,1254.43 1803.35,1254.43 \n  \"/>\n<path clip-path=\"url(#clip342)\" d=\"\nM1842.89 994.822 L1842.89 1384.24 L1882.44 1384.24 L1882.44 994.822 L1842.89 994.822 L1842.89 994.822  Z\n  \" fill=\"#009af9\" fill-rule=\"evenodd\" fill-opacity=\"1\"/>\n<polyline clip-path=\"url(#clip342)\" style=\"stroke:#000000; stroke-linecap:round; stroke-linejoin:round; stroke-width:4; stroke-opacity:1; fill:none\" points=\"\n  1842.89,994.822 1842.89,1384.24 1882.44,1384.24 1882.44,994.822 1842.89,994.822 \n  \"/>\n<path clip-path=\"url(#clip342)\" d=\"\nM1882.44 1124.63 L1882.44 1384.24 L1921.99 1384.24 L1921.99 1124.63 L1882.44 1124.63 L1882.44 1124.63  Z\n  \" fill=\"#009af9\" fill-rule=\"evenodd\" fill-opacity=\"1\"/>\n<polyline clip-path=\"url(#clip342)\" style=\"stroke:#000000; stroke-linecap:round; stroke-linejoin:round; stroke-width:4; stroke-opacity:1; fill:none\" points=\"\n  1882.44,1124.63 1882.44,1384.24 1921.99,1384.24 1921.99,1124.63 1882.44,1124.63 \n  \"/>\n<path clip-path=\"url(#clip342)\" d=\"\nM1921.99 994.822 L1921.99 1384.24 L1961.53 1384.24 L1961.53 994.822 L1921.99 994.822 L1921.99 994.822  Z\n  \" fill=\"#009af9\" fill-rule=\"evenodd\" fill-opacity=\"1\"/>\n<polyline clip-path=\"url(#clip342)\" style=\"stroke:#000000; stroke-linecap:round; stroke-linejoin:round; stroke-width:4; stroke-opacity:1; fill:none\" points=\"\n  1921.99,994.822 1921.99,1384.24 1961.53,1384.24 1961.53,994.822 1921.99,994.822 \n  \"/>\n<path clip-path=\"url(#clip342)\" d=\"\nM1961.53 994.822 L1961.53 1384.24 L2001.08 1384.24 L2001.08 994.822 L1961.53 994.822 L1961.53 994.822  Z\n  \" fill=\"#009af9\" fill-rule=\"evenodd\" fill-opacity=\"1\"/>\n<polyline clip-path=\"url(#clip342)\" style=\"stroke:#000000; stroke-linecap:round; stroke-linejoin:round; stroke-width:4; stroke-opacity:1; fill:none\" points=\"\n  1961.53,994.822 1961.53,1384.24 2001.08,1384.24 2001.08,994.822 1961.53,994.822 \n  \"/>\n<path clip-path=\"url(#clip342)\" d=\"\nM2001.08 865.017 L2001.08 1384.24 L2040.63 1384.24 L2040.63 865.017 L2001.08 865.017 L2001.08 865.017  Z\n  \" fill=\"#009af9\" fill-rule=\"evenodd\" fill-opacity=\"1\"/>\n<polyline clip-path=\"url(#clip342)\" style=\"stroke:#000000; stroke-linecap:round; stroke-linejoin:round; stroke-width:4; stroke-opacity:1; fill:none\" points=\"\n  2001.08,865.017 2001.08,1384.24 2040.63,1384.24 2040.63,865.017 2001.08,865.017 \n  \"/>\n<path clip-path=\"url(#clip342)\" d=\"\nM2040.63 605.407 L2040.63 1384.24 L2080.17 1384.24 L2080.17 605.407 L2040.63 605.407 L2040.63 605.407  Z\n  \" fill=\"#009af9\" fill-rule=\"evenodd\" fill-opacity=\"1\"/>\n<polyline clip-path=\"url(#clip342)\" style=\"stroke:#000000; stroke-linecap:round; stroke-linejoin:round; stroke-width:4; stroke-opacity:1; fill:none\" points=\"\n  2040.63,605.407 2040.63,1384.24 2080.17,1384.24 2080.17,605.407 2040.63,605.407 \n  \"/>\n<path clip-path=\"url(#clip342)\" d=\"\nM2080.17 1124.63 L2080.17 1384.24 L2119.72 1384.24 L2119.72 1124.63 L2080.17 1124.63 L2080.17 1124.63  Z\n  \" fill=\"#009af9\" fill-rule=\"evenodd\" fill-opacity=\"1\"/>\n<polyline clip-path=\"url(#clip342)\" style=\"stroke:#000000; stroke-linecap:round; stroke-linejoin:round; stroke-width:4; stroke-opacity:1; fill:none\" points=\"\n  2080.17,1124.63 2080.17,1384.24 2119.72,1384.24 2119.72,1124.63 2080.17,1124.63 \n  \"/>\n<path clip-path=\"url(#clip342)\" d=\"\nM2119.72 1254.43 L2119.72 1384.24 L2159.27 1384.24 L2159.27 1254.43 L2119.72 1254.43 L2119.72 1254.43  Z\n  \" fill=\"#009af9\" fill-rule=\"evenodd\" fill-opacity=\"1\"/>\n<polyline clip-path=\"url(#clip342)\" style=\"stroke:#000000; stroke-linecap:round; stroke-linejoin:round; stroke-width:4; stroke-opacity:1; fill:none\" points=\"\n  2119.72,1254.43 2119.72,1384.24 2159.27,1384.24 2159.27,1254.43 2119.72,1254.43 \n  \"/>\n<path clip-path=\"url(#clip342)\" d=\"\nM2159.27 994.822 L2159.27 1384.24 L2198.81 1384.24 L2198.81 994.822 L2159.27 994.822 L2159.27 994.822  Z\n  \" fill=\"#009af9\" fill-rule=\"evenodd\" fill-opacity=\"1\"/>\n<polyline clip-path=\"url(#clip342)\" style=\"stroke:#000000; stroke-linecap:round; stroke-linejoin:round; stroke-width:4; stroke-opacity:1; fill:none\" points=\"\n  2159.27,994.822 2159.27,1384.24 2198.81,1384.24 2198.81,994.822 2159.27,994.822 \n  \"/>\n<path clip-path=\"url(#clip342)\" d=\"\nM2198.81 1124.63 L2198.81 1384.24 L2238.36 1384.24 L2238.36 1124.63 L2198.81 1124.63 L2198.81 1124.63  Z\n  \" fill=\"#009af9\" fill-rule=\"evenodd\" fill-opacity=\"1\"/>\n<polyline clip-path=\"url(#clip342)\" style=\"stroke:#000000; stroke-linecap:round; stroke-linejoin:round; stroke-width:4; stroke-opacity:1; fill:none\" points=\"\n  2198.81,1124.63 2198.81,1384.24 2238.36,1384.24 2238.36,1124.63 2198.81,1124.63 \n  \"/>\n<path clip-path=\"url(#clip342)\" d=\"\nM2238.36 1384.24 L2238.36 1384.24 L2277.9 1384.24 L2277.9 1384.24 L2238.36 1384.24 L2238.36 1384.24  Z\n  \" fill=\"#009af9\" fill-rule=\"evenodd\" fill-opacity=\"1\"/>\n<polyline clip-path=\"url(#clip342)\" style=\"stroke:#000000; stroke-linecap:round; stroke-linejoin:round; stroke-width:4; stroke-opacity:1; fill:none\" points=\"\n  2238.36,1384.24 2238.36,1384.24 2277.9,1384.24 2238.36,1384.24 \n  \"/>\n<path clip-path=\"url(#clip342)\" d=\"\nM2277.9 1254.43 L2277.9 1384.24 L2317.45 1384.24 L2317.45 1254.43 L2277.9 1254.43 L2277.9 1254.43  Z\n  \" fill=\"#009af9\" fill-rule=\"evenodd\" fill-opacity=\"1\"/>\n<polyline clip-path=\"url(#clip342)\" style=\"stroke:#000000; stroke-linecap:round; stroke-linejoin:round; stroke-width:4; stroke-opacity:1; fill:none\" points=\"\n  2277.9,1254.43 2277.9,1384.24 2317.45,1384.24 2317.45,1254.43 2277.9,1254.43 \n  \"/>\n<path clip-path=\"url(#clip342)\" d=\"\nM2317.45 994.822 L2317.45 1384.24 L2357 1384.24 L2357 994.822 L2317.45 994.822 L2317.45 994.822  Z\n  \" fill=\"#009af9\" fill-rule=\"evenodd\" fill-opacity=\"1\"/>\n<polyline clip-path=\"url(#clip342)\" style=\"stroke:#000000; stroke-linecap:round; stroke-linejoin:round; stroke-width:4; stroke-opacity:1; fill:none\" points=\"\n  2317.45,994.822 2317.45,1384.24 2357,1384.24 2357,994.822 2317.45,994.822 \n  \"/>\n<path clip-path=\"url(#clip342)\" d=\"\nM2357 1124.63 L2357 1384.24 L2396.54 1384.24 L2396.54 1124.63 L2357 1124.63 L2357 1124.63  Z\n  \" fill=\"#009af9\" fill-rule=\"evenodd\" fill-opacity=\"1\"/>\n<polyline clip-path=\"url(#clip342)\" style=\"stroke:#000000; stroke-linecap:round; stroke-linejoin:round; stroke-width:4; stroke-opacity:1; fill:none\" points=\"\n  2357,1124.63 2357,1384.24 2396.54,1384.24 2396.54,1124.63 2357,1124.63 \n  \"/>\n<path clip-path=\"url(#clip342)\" d=\"\nM2396.54 1124.63 L2396.54 1384.24 L2436.09 1384.24 L2436.09 1124.63 L2396.54 1124.63 L2396.54 1124.63  Z\n  \" fill=\"#009af9\" fill-rule=\"evenodd\" fill-opacity=\"1\"/>\n<polyline clip-path=\"url(#clip342)\" style=\"stroke:#000000; stroke-linecap:round; stroke-linejoin:round; stroke-width:4; stroke-opacity:1; fill:none\" points=\"\n  2396.54,1124.63 2396.54,1384.24 2436.09,1384.24 2436.09,1124.63 2396.54,1124.63 \n  \"/>\n<path clip-path=\"url(#clip342)\" d=\"\nM2436.09 1254.43 L2436.09 1384.24 L2475.64 1384.24 L2475.64 1254.43 L2436.09 1254.43 L2436.09 1254.43  Z\n  \" fill=\"#009af9\" fill-rule=\"evenodd\" fill-opacity=\"1\"/>\n<polyline clip-path=\"url(#clip342)\" style=\"stroke:#000000; stroke-linecap:round; stroke-linejoin:round; stroke-width:4; stroke-opacity:1; fill:none\" points=\"\n  2436.09,1254.43 2436.09,1384.24 2475.64,1384.24 2475.64,1254.43 2436.09,1254.43 \n  \"/>\n<path clip-path=\"url(#clip342)\" d=\"\nM2475.64 1124.63 L2475.64 1384.24 L2515.18 1384.24 L2515.18 1124.63 L2475.64 1124.63 L2475.64 1124.63  Z\n  \" fill=\"#009af9\" fill-rule=\"evenodd\" fill-opacity=\"1\"/>\n<polyline clip-path=\"url(#clip342)\" style=\"stroke:#000000; stroke-linecap:round; stroke-linejoin:round; stroke-width:4; stroke-opacity:1; fill:none\" points=\"\n  2475.64,1124.63 2475.64,1384.24 2515.18,1384.24 2515.18,1124.63 2475.64,1124.63 \n  \"/>\n<path clip-path=\"url(#clip342)\" d=\"\nM2515.18 1384.24 L2515.18 1384.24 L2554.73 1384.24 L2554.73 1384.24 L2515.18 1384.24 L2515.18 1384.24  Z\n  \" fill=\"#009af9\" fill-rule=\"evenodd\" fill-opacity=\"1\"/>\n<polyline clip-path=\"url(#clip342)\" style=\"stroke:#000000; stroke-linecap:round; stroke-linejoin:round; stroke-width:4; stroke-opacity:1; fill:none\" points=\"\n  2515.18,1384.24 2515.18,1384.24 2554.73,1384.24 2515.18,1384.24 \n  \"/>\n<path clip-path=\"url(#clip342)\" d=\"\nM2554.73 1254.43 L2554.73 1384.24 L2594.27 1384.24 L2594.27 1254.43 L2554.73 1254.43 L2554.73 1254.43  Z\n  \" fill=\"#009af9\" fill-rule=\"evenodd\" fill-opacity=\"1\"/>\n<polyline clip-path=\"url(#clip342)\" style=\"stroke:#000000; stroke-linecap:round; stroke-linejoin:round; stroke-width:4; stroke-opacity:1; fill:none\" points=\"\n  2554.73,1254.43 2554.73,1384.24 2594.27,1384.24 2594.27,1254.43 2554.73,1254.43 \n  \"/>\n<path clip-path=\"url(#clip342)\" d=\"\nM2594.27 1124.63 L2594.27 1384.24 L2633.82 1384.24 L2633.82 1124.63 L2594.27 1124.63 L2594.27 1124.63  Z\n  \" fill=\"#009af9\" fill-rule=\"evenodd\" fill-opacity=\"1\"/>\n<polyline clip-path=\"url(#clip342)\" style=\"stroke:#000000; stroke-linecap:round; stroke-linejoin:round; stroke-width:4; stroke-opacity:1; fill:none\" points=\"\n  2594.27,1124.63 2594.27,1384.24 2633.82,1384.24 2633.82,1124.63 2594.27,1124.63 \n  \"/>\n<path clip-path=\"url(#clip342)\" d=\"\nM2633.82 1124.63 L2633.82 1384.24 L2673.37 1384.24 L2673.37 1124.63 L2633.82 1124.63 L2633.82 1124.63  Z\n  \" fill=\"#009af9\" fill-rule=\"evenodd\" fill-opacity=\"1\"/>\n<polyline clip-path=\"url(#clip342)\" style=\"stroke:#000000; stroke-linecap:round; stroke-linejoin:round; stroke-width:4; stroke-opacity:1; fill:none\" points=\"\n  2633.82,1124.63 2633.82,1384.24 2673.37,1384.24 2673.37,1124.63 2633.82,1124.63 \n  \"/>\n<path clip-path=\"url(#clip342)\" d=\"\nM2673.37 1384.24 L2673.37 1384.24 L2712.91 1384.24 L2712.91 1384.24 L2673.37 1384.24 L2673.37 1384.24  Z\n  \" fill=\"#009af9\" fill-rule=\"evenodd\" fill-opacity=\"1\"/>\n<polyline clip-path=\"url(#clip342)\" style=\"stroke:#000000; stroke-linecap:round; stroke-linejoin:round; stroke-width:4; stroke-opacity:1; fill:none\" points=\"\n  2673.37,1384.24 2673.37,1384.24 2712.91,1384.24 2673.37,1384.24 \n  \"/>\n<path clip-path=\"url(#clip342)\" d=\"\nM2712.91 1254.43 L2712.91 1384.24 L2752.46 1384.24 L2752.46 1254.43 L2712.91 1254.43 L2712.91 1254.43  Z\n  \" fill=\"#009af9\" fill-rule=\"evenodd\" fill-opacity=\"1\"/>\n<polyline clip-path=\"url(#clip342)\" style=\"stroke:#000000; stroke-linecap:round; stroke-linejoin:round; stroke-width:4; stroke-opacity:1; fill:none\" points=\"\n  2712.91,1254.43 2712.91,1384.24 2752.46,1384.24 2752.46,1254.43 2712.91,1254.43 \n  \"/>\n<path clip-path=\"url(#clip342)\" d=\"\nM2752.46 994.822 L2752.46 1384.24 L2792.01 1384.24 L2792.01 994.822 L2752.46 994.822 L2752.46 994.822  Z\n  \" fill=\"#009af9\" fill-rule=\"evenodd\" fill-opacity=\"1\"/>\n<polyline clip-path=\"url(#clip342)\" style=\"stroke:#000000; stroke-linecap:round; stroke-linejoin:round; stroke-width:4; stroke-opacity:1; fill:none\" points=\"\n  2752.46,994.822 2752.46,1384.24 2792.01,1384.24 2792.01,994.822 2752.46,994.822 \n  \"/>\n<path clip-path=\"url(#clip342)\" d=\"\nM2792.01 1254.43 L2792.01 1384.24 L2831.55 1384.24 L2831.55 1254.43 L2792.01 1254.43 L2792.01 1254.43  Z\n  \" fill=\"#009af9\" fill-rule=\"evenodd\" fill-opacity=\"1\"/>\n<polyline clip-path=\"url(#clip342)\" style=\"stroke:#000000; stroke-linecap:round; stroke-linejoin:round; stroke-width:4; stroke-opacity:1; fill:none\" points=\"\n  2792.01,1254.43 2792.01,1384.24 2831.55,1384.24 2831.55,1254.43 2792.01,1254.43 \n  \"/>\n<path clip-path=\"url(#clip342)\" d=\"\nM2831.55 1384.24 L2831.55 1384.24 L2871.1 1384.24 L2871.1 1384.24 L2831.55 1384.24 L2831.55 1384.24  Z\n  \" fill=\"#009af9\" fill-rule=\"evenodd\" fill-opacity=\"1\"/>\n<polyline clip-path=\"url(#clip342)\" style=\"stroke:#000000; stroke-linecap:round; stroke-linejoin:round; stroke-width:4; stroke-opacity:1; fill:none\" points=\"\n  2831.55,1384.24 2831.55,1384.24 2871.1,1384.24 2831.55,1384.24 \n  \"/>\n<path clip-path=\"url(#clip342)\" d=\"\nM2871.1 1124.63 L2871.1 1384.24 L2910.64 1384.24 L2910.64 1124.63 L2871.1 1124.63 L2871.1 1124.63  Z\n  \" fill=\"#009af9\" fill-rule=\"evenodd\" fill-opacity=\"1\"/>\n<polyline clip-path=\"url(#clip342)\" style=\"stroke:#000000; stroke-linecap:round; stroke-linejoin:round; stroke-width:4; stroke-opacity:1; fill:none\" points=\"\n  2871.1,1124.63 2871.1,1384.24 2910.64,1384.24 2910.64,1124.63 2871.1,1124.63 \n  \"/>\n<path clip-path=\"url(#clip342)\" d=\"\nM2910.64 1384.24 L2910.64 1384.24 L2950.19 1384.24 L2950.19 1384.24 L2910.64 1384.24 L2910.64 1384.24  Z\n  \" fill=\"#009af9\" fill-rule=\"evenodd\" fill-opacity=\"1\"/>\n<polyline clip-path=\"url(#clip342)\" style=\"stroke:#000000; stroke-linecap:round; stroke-linejoin:round; stroke-width:4; stroke-opacity:1; fill:none\" points=\"\n  2910.64,1384.24 2910.64,1384.24 2950.19,1384.24 2910.64,1384.24 \n  \"/>\n<path clip-path=\"url(#clip342)\" d=\"\nM2950.19 1124.63 L2950.19 1384.24 L2989.74 1384.24 L2989.74 1124.63 L2950.19 1124.63 L2950.19 1124.63  Z\n  \" fill=\"#009af9\" fill-rule=\"evenodd\" fill-opacity=\"1\"/>\n<polyline clip-path=\"url(#clip342)\" style=\"stroke:#000000; stroke-linecap:round; stroke-linejoin:round; stroke-width:4; stroke-opacity:1; fill:none\" points=\"\n  2950.19,1124.63 2950.19,1384.24 2989.74,1384.24 2989.74,1124.63 2950.19,1124.63 \n  \"/>\n<path clip-path=\"url(#clip342)\" d=\"\nM2989.74 1254.43 L2989.74 1384.24 L3029.28 1384.24 L3029.28 1254.43 L2989.74 1254.43 L2989.74 1254.43  Z\n  \" fill=\"#009af9\" fill-rule=\"evenodd\" fill-opacity=\"1\"/>\n<polyline clip-path=\"url(#clip342)\" style=\"stroke:#000000; stroke-linecap:round; stroke-linejoin:round; stroke-width:4; stroke-opacity:1; fill:none\" points=\"\n  2989.74,1254.43 2989.74,1384.24 3029.28,1384.24 3029.28,1254.43 2989.74,1254.43 \n  \"/>\n<path clip-path=\"url(#clip342)\" d=\"\nM3029.28 1384.24 L3029.28 1384.24 L3068.83 1384.24 L3068.83 1384.24 L3029.28 1384.24 L3029.28 1384.24  Z\n  \" fill=\"#009af9\" fill-rule=\"evenodd\" fill-opacity=\"1\"/>\n<polyline clip-path=\"url(#clip342)\" style=\"stroke:#000000; stroke-linecap:round; stroke-linejoin:round; stroke-width:4; stroke-opacity:1; fill:none\" points=\"\n  3029.28,1384.24 3029.28,1384.24 3068.83,1384.24 3029.28,1384.24 \n  \"/>\n<path clip-path=\"url(#clip342)\" d=\"\nM3068.83 1254.43 L3068.83 1384.24 L3108.38 1384.24 L3108.38 1254.43 L3068.83 1254.43 L3068.83 1254.43  Z\n  \" fill=\"#009af9\" fill-rule=\"evenodd\" fill-opacity=\"1\"/>\n<polyline clip-path=\"url(#clip342)\" style=\"stroke:#000000; stroke-linecap:round; stroke-linejoin:round; stroke-width:4; stroke-opacity:1; fill:none\" points=\"\n  3068.83,1254.43 3068.83,1384.24 3108.38,1384.24 3108.38,1254.43 3068.83,1254.43 \n  \"/>\n<path clip-path=\"url(#clip342)\" d=\"\nM3108.38 1384.24 L3108.38 1384.24 L3147.92 1384.24 L3147.92 1384.24 L3108.38 1384.24 L3108.38 1384.24  Z\n  \" fill=\"#009af9\" fill-rule=\"evenodd\" fill-opacity=\"1\"/>\n<polyline clip-path=\"url(#clip342)\" style=\"stroke:#000000; stroke-linecap:round; stroke-linejoin:round; stroke-width:4; stroke-opacity:1; fill:none\" points=\"\n  3108.38,1384.24 3108.38,1384.24 3147.92,1384.24 3108.38,1384.24 \n  \"/>\n<path clip-path=\"url(#clip342)\" d=\"\nM3147.92 1384.24 L3147.92 1384.24 L3187.47 1384.24 L3187.47 1384.24 L3147.92 1384.24 L3147.92 1384.24  Z\n  \" fill=\"#009af9\" fill-rule=\"evenodd\" fill-opacity=\"1\"/>\n<polyline clip-path=\"url(#clip342)\" style=\"stroke:#000000; stroke-linecap:round; stroke-linejoin:round; stroke-width:4; stroke-opacity:1; fill:none\" points=\"\n  3147.92,1384.24 3147.92,1384.24 3187.47,1384.24 3147.92,1384.24 \n  \"/>\n<path clip-path=\"url(#clip342)\" d=\"\nM3187.47 1384.24 L3187.47 1384.24 L3227.02 1384.24 L3227.02 1384.24 L3187.47 1384.24 L3187.47 1384.24  Z\n  \" fill=\"#009af9\" fill-rule=\"evenodd\" fill-opacity=\"1\"/>\n<polyline clip-path=\"url(#clip342)\" style=\"stroke:#000000; stroke-linecap:round; stroke-linejoin:round; stroke-width:4; stroke-opacity:1; fill:none\" points=\"\n  3187.47,1384.24 3187.47,1384.24 3227.02,1384.24 3187.47,1384.24 \n  \"/>\n<path clip-path=\"url(#clip342)\" d=\"\nM3227.02 1384.24 L3227.02 1384.24 L3266.56 1384.24 L3266.56 1384.24 L3227.02 1384.24 L3227.02 1384.24  Z\n  \" fill=\"#009af9\" fill-rule=\"evenodd\" fill-opacity=\"1\"/>\n<polyline clip-path=\"url(#clip342)\" style=\"stroke:#000000; stroke-linecap:round; stroke-linejoin:round; stroke-width:4; stroke-opacity:1; fill:none\" points=\"\n  3227.02,1384.24 3227.02,1384.24 3266.56,1384.24 3227.02,1384.24 \n  \"/>\n<path clip-path=\"url(#clip342)\" d=\"\nM3266.56 1384.24 L3266.56 1384.24 L3306.11 1384.24 L3306.11 1384.24 L3266.56 1384.24 L3266.56 1384.24  Z\n  \" fill=\"#009af9\" fill-rule=\"evenodd\" fill-opacity=\"1\"/>\n<polyline clip-path=\"url(#clip342)\" style=\"stroke:#000000; stroke-linecap:round; stroke-linejoin:round; stroke-width:4; stroke-opacity:1; fill:none\" points=\"\n  3266.56,1384.24 3266.56,1384.24 3306.11,1384.24 3266.56,1384.24 \n  \"/>\n<path clip-path=\"url(#clip342)\" d=\"\nM3306.11 1384.24 L3306.11 1384.24 L3345.65 1384.24 L3345.65 1384.24 L3306.11 1384.24 L3306.11 1384.24  Z\n  \" fill=\"#009af9\" fill-rule=\"evenodd\" fill-opacity=\"1\"/>\n<polyline clip-path=\"url(#clip342)\" style=\"stroke:#000000; stroke-linecap:round; stroke-linejoin:round; stroke-width:4; stroke-opacity:1; fill:none\" points=\"\n  3306.11,1384.24 3306.11,1384.24 3345.65,1384.24 3306.11,1384.24 \n  \"/>\n<path clip-path=\"url(#clip342)\" d=\"\nM3345.65 1384.24 L3345.65 1384.24 L3385.2 1384.24 L3385.2 1384.24 L3345.65 1384.24 L3345.65 1384.24  Z\n  \" fill=\"#009af9\" fill-rule=\"evenodd\" fill-opacity=\"1\"/>\n<polyline clip-path=\"url(#clip342)\" style=\"stroke:#000000; stroke-linecap:round; stroke-linejoin:round; stroke-width:4; stroke-opacity:1; fill:none\" points=\"\n  3345.65,1384.24 3345.65,1384.24 3385.2,1384.24 3345.65,1384.24 \n  \"/>\n<path clip-path=\"url(#clip342)\" d=\"\nM3385.2 1254.43 L3385.2 1384.24 L3424.75 1384.24 L3424.75 1254.43 L3385.2 1254.43 L3385.2 1254.43  Z\n  \" fill=\"#009af9\" fill-rule=\"evenodd\" fill-opacity=\"1\"/>\n<polyline clip-path=\"url(#clip342)\" style=\"stroke:#000000; stroke-linecap:round; stroke-linejoin:round; stroke-width:4; stroke-opacity:1; fill:none\" points=\"\n  3385.2,1254.43 3385.2,1384.24 3424.75,1384.24 3424.75,1254.43 3385.2,1254.43 \n  \"/>\n<path clip-path=\"url(#clip342)\" d=\"\nM3424.75 1384.24 L3424.75 1384.24 L3464.29 1384.24 L3464.29 1384.24 L3424.75 1384.24 L3424.75 1384.24  Z\n  \" fill=\"#009af9\" fill-rule=\"evenodd\" fill-opacity=\"1\"/>\n<polyline clip-path=\"url(#clip342)\" style=\"stroke:#000000; stroke-linecap:round; stroke-linejoin:round; stroke-width:4; stroke-opacity:1; fill:none\" points=\"\n  3424.75,1384.24 3424.75,1384.24 3464.29,1384.24 3424.75,1384.24 \n  \"/>\n<path clip-path=\"url(#clip342)\" d=\"\nM3464.29 1384.24 L3464.29 1384.24 L3503.84 1384.24 L3503.84 1384.24 L3464.29 1384.24 L3464.29 1384.24  Z\n  \" fill=\"#009af9\" fill-rule=\"evenodd\" fill-opacity=\"1\"/>\n<polyline clip-path=\"url(#clip342)\" style=\"stroke:#000000; stroke-linecap:round; stroke-linejoin:round; stroke-width:4; stroke-opacity:1; fill:none\" points=\"\n  3464.29,1384.24 3464.29,1384.24 3503.84,1384.24 3464.29,1384.24 \n  \"/>\n<path clip-path=\"url(#clip342)\" d=\"\nM3503.84 994.822 L3503.84 1384.24 L3543.39 1384.24 L3543.39 994.822 L3503.84 994.822 L3503.84 994.822  Z\n  \" fill=\"#009af9\" fill-rule=\"evenodd\" fill-opacity=\"1\"/>\n<polyline clip-path=\"url(#clip342)\" style=\"stroke:#000000; stroke-linecap:round; stroke-linejoin:round; stroke-width:4; stroke-opacity:1; fill:none\" points=\"\n  3503.84,994.822 3503.84,1384.24 3543.39,1384.24 3543.39,994.822 3503.84,994.822 \n  \"/>\n<path clip-path=\"url(#clip342)\" d=\"\nM3543.39 1384.24 L3543.39 1384.24 L3582.93 1384.24 L3582.93 1384.24 L3543.39 1384.24 L3543.39 1384.24  Z\n  \" fill=\"#009af9\" fill-rule=\"evenodd\" fill-opacity=\"1\"/>\n<polyline clip-path=\"url(#clip342)\" style=\"stroke:#000000; stroke-linecap:round; stroke-linejoin:round; stroke-width:4; stroke-opacity:1; fill:none\" points=\"\n  3543.39,1384.24 3543.39,1384.24 3582.93,1384.24 3543.39,1384.24 \n  \"/>\n<path clip-path=\"url(#clip342)\" d=\"\nM3582.93 1384.24 L3582.93 1384.24 L3622.48 1384.24 L3622.48 1384.24 L3582.93 1384.24 L3582.93 1384.24  Z\n  \" fill=\"#009af9\" fill-rule=\"evenodd\" fill-opacity=\"1\"/>\n<polyline clip-path=\"url(#clip342)\" style=\"stroke:#000000; stroke-linecap:round; stroke-linejoin:round; stroke-width:4; stroke-opacity:1; fill:none\" points=\"\n  3582.93,1384.24 3582.93,1384.24 3622.48,1384.24 3582.93,1384.24 \n  \"/>\n<path clip-path=\"url(#clip342)\" d=\"\nM3622.48 1384.24 L3622.48 1384.24 L3662.02 1384.24 L3662.02 1384.24 L3622.48 1384.24 L3622.48 1384.24  Z\n  \" fill=\"#009af9\" fill-rule=\"evenodd\" fill-opacity=\"1\"/>\n<polyline clip-path=\"url(#clip342)\" style=\"stroke:#000000; stroke-linecap:round; stroke-linejoin:round; stroke-width:4; stroke-opacity:1; fill:none\" points=\"\n  3622.48,1384.24 3622.48,1384.24 3662.02,1384.24 3622.48,1384.24 \n  \"/>\n<path clip-path=\"url(#clip342)\" d=\"\nM3662.02 1384.24 L3662.02 1384.24 L3701.57 1384.24 L3701.57 1384.24 L3662.02 1384.24 L3662.02 1384.24  Z\n  \" fill=\"#009af9\" fill-rule=\"evenodd\" fill-opacity=\"1\"/>\n<polyline clip-path=\"url(#clip342)\" style=\"stroke:#000000; stroke-linecap:round; stroke-linejoin:round; stroke-width:4; stroke-opacity:1; fill:none\" points=\"\n  3662.02,1384.24 3662.02,1384.24 3701.57,1384.24 3662.02,1384.24 \n  \"/>\n<path clip-path=\"url(#clip342)\" d=\"\nM3701.57 1254.43 L3701.57 1384.24 L3741.12 1384.24 L3741.12 1254.43 L3701.57 1254.43 L3701.57 1254.43  Z\n  \" fill=\"#009af9\" fill-rule=\"evenodd\" fill-opacity=\"1\"/>\n<polyline clip-path=\"url(#clip342)\" style=\"stroke:#000000; stroke-linecap:round; stroke-linejoin:round; stroke-width:4; stroke-opacity:1; fill:none\" points=\"\n  3701.57,1254.43 3701.57,1384.24 3741.12,1384.24 3741.12,1254.43 3701.57,1254.43 \n  \"/>\n<path clip-path=\"url(#clip342)\" d=\"\nM3741.12 1384.24 L3741.12 1384.24 L3780.66 1384.24 L3780.66 1384.24 L3741.12 1384.24 L3741.12 1384.24  Z\n  \" fill=\"#009af9\" fill-rule=\"evenodd\" fill-opacity=\"1\"/>\n<polyline clip-path=\"url(#clip342)\" style=\"stroke:#000000; stroke-linecap:round; stroke-linejoin:round; stroke-width:4; stroke-opacity:1; fill:none\" points=\"\n  3741.12,1384.24 3741.12,1384.24 3780.66,1384.24 3741.12,1384.24 \n  \"/>\n<path clip-path=\"url(#clip342)\" d=\"\nM3780.66 1384.24 L3780.66 1384.24 L3820.21 1384.24 L3820.21 1384.24 L3780.66 1384.24 L3780.66 1384.24  Z\n  \" fill=\"#009af9\" fill-rule=\"evenodd\" fill-opacity=\"1\"/>\n<polyline clip-path=\"url(#clip342)\" style=\"stroke:#000000; stroke-linecap:round; stroke-linejoin:round; stroke-width:4; stroke-opacity:1; fill:none\" points=\"\n  3780.66,1384.24 3780.66,1384.24 3820.21,1384.24 3780.66,1384.24 \n  \"/>\n<path clip-path=\"url(#clip342)\" d=\"\nM3820.21 1254.43 L3820.21 1384.24 L3859.76 1384.24 L3859.76 1254.43 L3820.21 1254.43 L3820.21 1254.43  Z\n  \" fill=\"#009af9\" fill-rule=\"evenodd\" fill-opacity=\"1\"/>\n<polyline clip-path=\"url(#clip342)\" style=\"stroke:#000000; stroke-linecap:round; stroke-linejoin:round; stroke-width:4; stroke-opacity:1; fill:none\" points=\"\n  3820.21,1254.43 3820.21,1384.24 3859.76,1384.24 3859.76,1254.43 3820.21,1254.43 \n  \"/>\n<path clip-path=\"url(#clip342)\" d=\"\nM3859.76 1384.24 L3859.76 1384.24 L3899.3 1384.24 L3899.3 1384.24 L3859.76 1384.24 L3859.76 1384.24  Z\n  \" fill=\"#009af9\" fill-rule=\"evenodd\" fill-opacity=\"1\"/>\n<polyline clip-path=\"url(#clip342)\" style=\"stroke:#000000; stroke-linecap:round; stroke-linejoin:round; stroke-width:4; stroke-opacity:1; fill:none\" points=\"\n  3859.76,1384.24 3859.76,1384.24 3899.3,1384.24 3859.76,1384.24 \n  \"/>\n<path clip-path=\"url(#clip342)\" d=\"\nM3899.3 1384.24 L3899.3 1384.24 L3938.85 1384.24 L3938.85 1384.24 L3899.3 1384.24 L3899.3 1384.24  Z\n  \" fill=\"#009af9\" fill-rule=\"evenodd\" fill-opacity=\"1\"/>\n<polyline clip-path=\"url(#clip342)\" style=\"stroke:#000000; stroke-linecap:round; stroke-linejoin:round; stroke-width:4; stroke-opacity:1; fill:none\" points=\"\n  3899.3,1384.24 3899.3,1384.24 3938.85,1384.24 3899.3,1384.24 \n  \"/>\n<path clip-path=\"url(#clip342)\" d=\"\nM3938.85 1384.24 L3938.85 1384.24 L3978.39 1384.24 L3978.39 1384.24 L3938.85 1384.24 L3938.85 1384.24  Z\n  \" fill=\"#009af9\" fill-rule=\"evenodd\" fill-opacity=\"1\"/>\n<polyline clip-path=\"url(#clip342)\" style=\"stroke:#000000; stroke-linecap:round; stroke-linejoin:round; stroke-width:4; stroke-opacity:1; fill:none\" points=\"\n  3938.85,1384.24 3938.85,1384.24 3978.39,1384.24 3938.85,1384.24 \n  \"/>\n<path clip-path=\"url(#clip342)\" d=\"\nM3978.39 1254.43 L3978.39 1384.24 L4017.94 1384.24 L4017.94 1254.43 L3978.39 1254.43 L3978.39 1254.43  Z\n  \" fill=\"#009af9\" fill-rule=\"evenodd\" fill-opacity=\"1\"/>\n<polyline clip-path=\"url(#clip342)\" style=\"stroke:#000000; stroke-linecap:round; stroke-linejoin:round; stroke-width:4; stroke-opacity:1; fill:none\" points=\"\n  3978.39,1254.43 3978.39,1384.24 4017.94,1384.24 4017.94,1254.43 3978.39,1254.43 \n  \"/>\n<path clip-path=\"url(#clip342)\" d=\"\nM4017.94 1254.43 L4017.94 1384.24 L4057.49 1384.24 L4057.49 1254.43 L4017.94 1254.43 L4017.94 1254.43  Z\n  \" fill=\"#009af9\" fill-rule=\"evenodd\" fill-opacity=\"1\"/>\n<polyline clip-path=\"url(#clip342)\" style=\"stroke:#000000; stroke-linecap:round; stroke-linejoin:round; stroke-width:4; stroke-opacity:1; fill:none\" points=\"\n  4017.94,1254.43 4017.94,1384.24 4057.49,1384.24 4057.49,1254.43 4017.94,1254.43 \n  \"/>\n<path clip-path=\"url(#clip342)\" d=\"\nM4057.49 1384.24 L4057.49 1384.24 L4097.03 1384.24 L4097.03 1384.24 L4057.49 1384.24 L4057.49 1384.24  Z\n  \" fill=\"#009af9\" fill-rule=\"evenodd\" fill-opacity=\"1\"/>\n<polyline clip-path=\"url(#clip342)\" style=\"stroke:#000000; stroke-linecap:round; stroke-linejoin:round; stroke-width:4; stroke-opacity:1; fill:none\" points=\"\n  4057.49,1384.24 4057.49,1384.24 4097.03,1384.24 4057.49,1384.24 \n  \"/>\n<path clip-path=\"url(#clip342)\" d=\"\nM4097.03 1384.24 L4097.03 1384.24 L4136.58 1384.24 L4136.58 1384.24 L4097.03 1384.24 L4097.03 1384.24  Z\n  \" fill=\"#009af9\" fill-rule=\"evenodd\" fill-opacity=\"1\"/>\n<polyline clip-path=\"url(#clip342)\" style=\"stroke:#000000; stroke-linecap:round; stroke-linejoin:round; stroke-width:4; stroke-opacity:1; fill:none\" points=\"\n  4097.03,1384.24 4097.03,1384.24 4136.58,1384.24 4097.03,1384.24 \n  \"/>\n<path clip-path=\"url(#clip342)\" d=\"\nM4136.58 1254.43 L4136.58 1384.24 L4176.13 1384.24 L4176.13 1254.43 L4136.58 1254.43 L4136.58 1254.43  Z\n  \" fill=\"#009af9\" fill-rule=\"evenodd\" fill-opacity=\"1\"/>\n<polyline clip-path=\"url(#clip342)\" style=\"stroke:#000000; stroke-linecap:round; stroke-linejoin:round; stroke-width:4; stroke-opacity:1; fill:none\" points=\"\n  4136.58,1254.43 4136.58,1384.24 4176.13,1384.24 4176.13,1254.43 4136.58,1254.43 \n  \"/>\n<path clip-path=\"url(#clip342)\" d=\"\nM4176.13 1384.24 L4176.13 1384.24 L4215.67 1384.24 L4215.67 1384.24 L4176.13 1384.24 L4176.13 1384.24  Z\n  \" fill=\"#009af9\" fill-rule=\"evenodd\" fill-opacity=\"1\"/>\n<polyline clip-path=\"url(#clip342)\" style=\"stroke:#000000; stroke-linecap:round; stroke-linejoin:round; stroke-width:4; stroke-opacity:1; fill:none\" points=\"\n  4176.13,1384.24 4176.13,1384.24 4215.67,1384.24 4176.13,1384.24 \n  \"/>\n<path clip-path=\"url(#clip342)\" d=\"\nM4215.67 1384.24 L4215.67 1384.24 L4255.22 1384.24 L4255.22 1384.24 L4215.67 1384.24 L4215.67 1384.24  Z\n  \" fill=\"#009af9\" fill-rule=\"evenodd\" fill-opacity=\"1\"/>\n<polyline clip-path=\"url(#clip342)\" style=\"stroke:#000000; stroke-linecap:round; stroke-linejoin:round; stroke-width:4; stroke-opacity:1; fill:none\" points=\"\n  4215.67,1384.24 4215.67,1384.24 4255.22,1384.24 4215.67,1384.24 \n  \"/>\n<path clip-path=\"url(#clip342)\" d=\"\nM4255.22 1384.24 L4255.22 1384.24 L4294.77 1384.24 L4294.77 1384.24 L4255.22 1384.24 L4255.22 1384.24  Z\n  \" fill=\"#009af9\" fill-rule=\"evenodd\" fill-opacity=\"1\"/>\n<polyline clip-path=\"url(#clip342)\" style=\"stroke:#000000; stroke-linecap:round; stroke-linejoin:round; stroke-width:4; stroke-opacity:1; fill:none\" points=\"\n  4255.22,1384.24 4255.22,1384.24 4294.77,1384.24 4255.22,1384.24 \n  \"/>\n<path clip-path=\"url(#clip342)\" d=\"\nM4294.77 1254.43 L4294.77 1384.24 L4334.31 1384.24 L4334.31 1254.43 L4294.77 1254.43 L4294.77 1254.43  Z\n  \" fill=\"#009af9\" fill-rule=\"evenodd\" fill-opacity=\"1\"/>\n<polyline clip-path=\"url(#clip342)\" style=\"stroke:#000000; stroke-linecap:round; stroke-linejoin:round; stroke-width:4; stroke-opacity:1; fill:none\" points=\"\n  4294.77,1254.43 4294.77,1384.24 4334.31,1384.24 4334.31,1254.43 4294.77,1254.43 \n  \"/>\n<path clip-path=\"url(#clip342)\" d=\"\nM4334.31 1384.24 L4334.31 1384.24 L4373.86 1384.24 L4373.86 1384.24 L4334.31 1384.24 L4334.31 1384.24  Z\n  \" fill=\"#009af9\" fill-rule=\"evenodd\" fill-opacity=\"1\"/>\n<polyline clip-path=\"url(#clip342)\" style=\"stroke:#000000; stroke-linecap:round; stroke-linejoin:round; stroke-width:4; stroke-opacity:1; fill:none\" points=\"\n  4334.31,1384.24 4334.31,1384.24 4373.86,1384.24 4334.31,1384.24 \n  \"/>\n<path clip-path=\"url(#clip342)\" d=\"\nM4373.86 1384.24 L4373.86 1384.24 L4413.4 1384.24 L4413.4 1384.24 L4373.86 1384.24 L4373.86 1384.24  Z\n  \" fill=\"#009af9\" fill-rule=\"evenodd\" fill-opacity=\"1\"/>\n<polyline clip-path=\"url(#clip342)\" style=\"stroke:#000000; stroke-linecap:round; stroke-linejoin:round; stroke-width:4; stroke-opacity:1; fill:none\" points=\"\n  4373.86,1384.24 4373.86,1384.24 4413.4,1384.24 4373.86,1384.24 \n  \"/>\n<path clip-path=\"url(#clip342)\" d=\"\nM4413.4 1384.24 L4413.4 1384.24 L4452.95 1384.24 L4452.95 1384.24 L4413.4 1384.24 L4413.4 1384.24  Z\n  \" fill=\"#009af9\" fill-rule=\"evenodd\" fill-opacity=\"1\"/>\n<polyline clip-path=\"url(#clip342)\" style=\"stroke:#000000; stroke-linecap:round; stroke-linejoin:round; stroke-width:4; stroke-opacity:1; fill:none\" points=\"\n  4413.4,1384.24 4413.4,1384.24 4452.95,1384.24 4413.4,1384.24 \n  \"/>\n<path clip-path=\"url(#clip342)\" d=\"\nM4452.95 1254.43 L4452.95 1384.24 L4492.5 1384.24 L4492.5 1254.43 L4452.95 1254.43 L4452.95 1254.43  Z\n  \" fill=\"#009af9\" fill-rule=\"evenodd\" fill-opacity=\"1\"/>\n<polyline clip-path=\"url(#clip342)\" style=\"stroke:#000000; stroke-linecap:round; stroke-linejoin:round; stroke-width:4; stroke-opacity:1; fill:none\" points=\"\n  4452.95,1254.43 4452.95,1384.24 4492.5,1384.24 4492.5,1254.43 4452.95,1254.43 \n  \"/>\n<path clip-path=\"url(#clip342)\" d=\"\nM4492.5 1384.24 L4492.5 1384.24 L4532.04 1384.24 L4532.04 1384.24 L4492.5 1384.24 L4492.5 1384.24  Z\n  \" fill=\"#009af9\" fill-rule=\"evenodd\" fill-opacity=\"1\"/>\n<polyline clip-path=\"url(#clip342)\" style=\"stroke:#000000; stroke-linecap:round; stroke-linejoin:round; stroke-width:4; stroke-opacity:1; fill:none\" points=\"\n  4492.5,1384.24 4492.5,1384.24 4532.04,1384.24 4492.5,1384.24 \n  \"/>\n<path clip-path=\"url(#clip342)\" d=\"\nM4532.04 1384.24 L4532.04 1384.24 L4571.59 1384.24 L4571.59 1384.24 L4532.04 1384.24 L4532.04 1384.24  Z\n  \" fill=\"#009af9\" fill-rule=\"evenodd\" fill-opacity=\"1\"/>\n<polyline clip-path=\"url(#clip342)\" style=\"stroke:#000000; stroke-linecap:round; stroke-linejoin:round; stroke-width:4; stroke-opacity:1; fill:none\" points=\"\n  4532.04,1384.24 4532.04,1384.24 4571.59,1384.24 4532.04,1384.24 \n  \"/>\n<path clip-path=\"url(#clip342)\" d=\"\nM4571.59 1384.24 L4571.59 1384.24 L4611.14 1384.24 L4611.14 1384.24 L4571.59 1384.24 L4571.59 1384.24  Z\n  \" fill=\"#009af9\" fill-rule=\"evenodd\" fill-opacity=\"1\"/>\n<polyline clip-path=\"url(#clip342)\" style=\"stroke:#000000; stroke-linecap:round; stroke-linejoin:round; stroke-width:4; stroke-opacity:1; fill:none\" points=\"\n  4571.59,1384.24 4571.59,1384.24 4611.14,1384.24 4571.59,1384.24 \n  \"/>\n<path clip-path=\"url(#clip342)\" d=\"\nM4611.14 1384.24 L4611.14 1384.24 L4650.68 1384.24 L4650.68 1384.24 L4611.14 1384.24 L4611.14 1384.24  Z\n  \" fill=\"#009af9\" fill-rule=\"evenodd\" fill-opacity=\"1\"/>\n<polyline clip-path=\"url(#clip342)\" style=\"stroke:#000000; stroke-linecap:round; stroke-linejoin:round; stroke-width:4; stroke-opacity:1; fill:none\" points=\"\n  4611.14,1384.24 4611.14,1384.24 4650.68,1384.24 4611.14,1384.24 \n  \"/>\n<path clip-path=\"url(#clip342)\" d=\"\nM4650.68 1384.24 L4650.68 1384.24 L4690.23 1384.24 L4690.23 1384.24 L4650.68 1384.24 L4650.68 1384.24  Z\n  \" fill=\"#009af9\" fill-rule=\"evenodd\" fill-opacity=\"1\"/>\n<polyline clip-path=\"url(#clip342)\" style=\"stroke:#000000; stroke-linecap:round; stroke-linejoin:round; stroke-width:4; stroke-opacity:1; fill:none\" points=\"\n  4650.68,1384.24 4650.68,1384.24 4690.23,1384.24 4650.68,1384.24 \n  \"/>\n<path clip-path=\"url(#clip342)\" d=\"\nM4690.23 1254.43 L4690.23 1384.24 L4729.77 1384.24 L4729.77 1254.43 L4690.23 1254.43 L4690.23 1254.43  Z\n  \" fill=\"#009af9\" fill-rule=\"evenodd\" fill-opacity=\"1\"/>\n<polyline clip-path=\"url(#clip342)\" style=\"stroke:#000000; stroke-linecap:round; stroke-linejoin:round; stroke-width:4; stroke-opacity:1; fill:none\" points=\"\n  4690.23,1254.43 4690.23,1384.24 4729.77,1384.24 4729.77,1254.43 4690.23,1254.43 \n  \"/>\n<path clip-path=\"url(#clip342)\" d=\"\nM4729.77 1384.24 L4729.77 1384.24 L4769.32 1384.24 L4769.32 1384.24 L4729.77 1384.24 L4729.77 1384.24  Z\n  \" fill=\"#009af9\" fill-rule=\"evenodd\" fill-opacity=\"1\"/>\n<polyline clip-path=\"url(#clip342)\" style=\"stroke:#000000; stroke-linecap:round; stroke-linejoin:round; stroke-width:4; stroke-opacity:1; fill:none\" points=\"\n  4729.77,1384.24 4729.77,1384.24 4769.32,1384.24 4729.77,1384.24 \n  \"/>\n<path clip-path=\"url(#clip342)\" d=\"\nM4769.32 1384.24 L4769.32 1384.24 L4808.87 1384.24 L4808.87 1384.24 L4769.32 1384.24 L4769.32 1384.24  Z\n  \" fill=\"#009af9\" fill-rule=\"evenodd\" fill-opacity=\"1\"/>\n<polyline clip-path=\"url(#clip342)\" style=\"stroke:#000000; stroke-linecap:round; stroke-linejoin:round; stroke-width:4; stroke-opacity:1; fill:none\" points=\"\n  4769.32,1384.24 4769.32,1384.24 4808.87,1384.24 4769.32,1384.24 \n  \"/>\n<path clip-path=\"url(#clip342)\" d=\"\nM4808.87 1384.24 L4808.87 1384.24 L4848.41 1384.24 L4848.41 1384.24 L4808.87 1384.24 L4808.87 1384.24  Z\n  \" fill=\"#009af9\" fill-rule=\"evenodd\" fill-opacity=\"1\"/>\n<polyline clip-path=\"url(#clip342)\" style=\"stroke:#000000; stroke-linecap:round; stroke-linejoin:round; stroke-width:4; stroke-opacity:1; fill:none\" points=\"\n  4808.87,1384.24 4808.87,1384.24 4848.41,1384.24 4808.87,1384.24 \n  \"/>\n<path clip-path=\"url(#clip342)\" d=\"\nM4848.41 1254.43 L4848.41 1384.24 L4887.96 1384.24 L4887.96 1254.43 L4848.41 1254.43 L4848.41 1254.43  Z\n  \" fill=\"#009af9\" fill-rule=\"evenodd\" fill-opacity=\"1\"/>\n<polyline clip-path=\"url(#clip342)\" style=\"stroke:#000000; stroke-linecap:round; stroke-linejoin:round; stroke-width:4; stroke-opacity:1; fill:none\" points=\"\n  4848.41,1254.43 4848.41,1384.24 4887.96,1384.24 4887.96,1254.43 4848.41,1254.43 \n  \"/>\n<path clip-path=\"url(#clip342)\" d=\"\nM4887.96 1254.43 L4887.96 1384.24 L4927.51 1384.24 L4927.51 1254.43 L4887.96 1254.43 L4887.96 1254.43  Z\n  \" fill=\"#009af9\" fill-rule=\"evenodd\" fill-opacity=\"1\"/>\n<polyline clip-path=\"url(#clip342)\" style=\"stroke:#000000; stroke-linecap:round; stroke-linejoin:round; stroke-width:4; stroke-opacity:1; fill:none\" points=\"\n  4887.96,1254.43 4887.96,1384.24 4927.51,1384.24 4927.51,1254.43 4887.96,1254.43 \n  \"/>\n<path clip-path=\"url(#clip342)\" d=\"\nM4927.51 1384.24 L4927.51 1384.24 L4967.05 1384.24 L4967.05 1384.24 L4927.51 1384.24 L4927.51 1384.24  Z\n  \" fill=\"#009af9\" fill-rule=\"evenodd\" fill-opacity=\"1\"/>\n<polyline clip-path=\"url(#clip342)\" style=\"stroke:#000000; stroke-linecap:round; stroke-linejoin:round; stroke-width:4; stroke-opacity:1; fill:none\" points=\"\n  4927.51,1384.24 4927.51,1384.24 4967.05,1384.24 4927.51,1384.24 \n  \"/>\n<path clip-path=\"url(#clip342)\" d=\"\nM4967.05 1384.24 L4967.05 1384.24 L5006.6 1384.24 L5006.6 1384.24 L4967.05 1384.24 L4967.05 1384.24  Z\n  \" fill=\"#009af9\" fill-rule=\"evenodd\" fill-opacity=\"1\"/>\n<polyline clip-path=\"url(#clip342)\" style=\"stroke:#000000; stroke-linecap:round; stroke-linejoin:round; stroke-width:4; stroke-opacity:1; fill:none\" points=\"\n  4967.05,1384.24 4967.05,1384.24 5006.6,1384.24 4967.05,1384.24 \n  \"/>\n<path clip-path=\"url(#clip342)\" d=\"\nM5006.6 1254.43 L5006.6 1384.24 L5046.14 1384.24 L5046.14 1254.43 L5006.6 1254.43 L5006.6 1254.43  Z\n  \" fill=\"#009af9\" fill-rule=\"evenodd\" fill-opacity=\"1\"/>\n<polyline clip-path=\"url(#clip342)\" style=\"stroke:#000000; stroke-linecap:round; stroke-linejoin:round; stroke-width:4; stroke-opacity:1; fill:none\" points=\"\n  5006.6,1254.43 5006.6,1384.24 5046.14,1384.24 5046.14,1254.43 5006.6,1254.43 \n  \"/>\n<path clip-path=\"url(#clip342)\" d=\"\nM5046.14 1384.24 L5046.14 1384.24 L5085.69 1384.24 L5085.69 1384.24 L5046.14 1384.24 L5046.14 1384.24  Z\n  \" fill=\"#009af9\" fill-rule=\"evenodd\" fill-opacity=\"1\"/>\n<polyline clip-path=\"url(#clip342)\" style=\"stroke:#000000; stroke-linecap:round; stroke-linejoin:round; stroke-width:4; stroke-opacity:1; fill:none\" points=\"\n  5046.14,1384.24 5046.14,1384.24 5085.69,1384.24 5046.14,1384.24 \n  \"/>\n<path clip-path=\"url(#clip342)\" d=\"\nM5085.69 1384.24 L5085.69 1384.24 L5125.24 1384.24 L5125.24 1384.24 L5085.69 1384.24 L5085.69 1384.24  Z\n  \" fill=\"#009af9\" fill-rule=\"evenodd\" fill-opacity=\"1\"/>\n<polyline clip-path=\"url(#clip342)\" style=\"stroke:#000000; stroke-linecap:round; stroke-linejoin:round; stroke-width:4; stroke-opacity:1; fill:none\" points=\"\n  5085.69,1384.24 5085.69,1384.24 5125.24,1384.24 5085.69,1384.24 \n  \"/>\n<path clip-path=\"url(#clip342)\" d=\"\nM5125.24 1384.24 L5125.24 1384.24 L5164.78 1384.24 L5164.78 1384.24 L5125.24 1384.24 L5125.24 1384.24  Z\n  \" fill=\"#009af9\" fill-rule=\"evenodd\" fill-opacity=\"1\"/>\n<polyline clip-path=\"url(#clip342)\" style=\"stroke:#000000; stroke-linecap:round; stroke-linejoin:round; stroke-width:4; stroke-opacity:1; fill:none\" points=\"\n  5125.24,1384.24 5125.24,1384.24 5164.78,1384.24 5125.24,1384.24 \n  \"/>\n<path clip-path=\"url(#clip342)\" d=\"\nM5164.78 1384.24 L5164.78 1384.24 L5204.33 1384.24 L5204.33 1384.24 L5164.78 1384.24 L5164.78 1384.24  Z\n  \" fill=\"#009af9\" fill-rule=\"evenodd\" fill-opacity=\"1\"/>\n<polyline clip-path=\"url(#clip342)\" style=\"stroke:#000000; stroke-linecap:round; stroke-linejoin:round; stroke-width:4; stroke-opacity:1; fill:none\" points=\"\n  5164.78,1384.24 5164.78,1384.24 5204.33,1384.24 5164.78,1384.24 \n  \"/>\n<path clip-path=\"url(#clip342)\" d=\"\nM5204.33 1384.24 L5204.33 1384.24 L5243.88 1384.24 L5243.88 1384.24 L5204.33 1384.24 L5204.33 1384.24  Z\n  \" fill=\"#009af9\" fill-rule=\"evenodd\" fill-opacity=\"1\"/>\n<polyline clip-path=\"url(#clip342)\" style=\"stroke:#000000; stroke-linecap:round; stroke-linejoin:round; stroke-width:4; stroke-opacity:1; fill:none\" points=\"\n  5204.33,1384.24 5204.33,1384.24 5243.88,1384.24 5204.33,1384.24 \n  \"/>\n<path clip-path=\"url(#clip342)\" d=\"\nM5243.88 1384.24 L5243.88 1384.24 L5283.42 1384.24 L5283.42 1384.24 L5243.88 1384.24 L5243.88 1384.24  Z\n  \" fill=\"#009af9\" fill-rule=\"evenodd\" fill-opacity=\"1\"/>\n<polyline clip-path=\"url(#clip342)\" style=\"stroke:#000000; stroke-linecap:round; stroke-linejoin:round; stroke-width:4; stroke-opacity:1; fill:none\" points=\"\n  5243.88,1384.24 5243.88,1384.24 5283.42,1384.24 5243.88,1384.24 \n  \"/>\n<path clip-path=\"url(#clip342)\" d=\"\nM5283.42 1384.24 L5283.42 1384.24 L5322.97 1384.24 L5322.97 1384.24 L5283.42 1384.24 L5283.42 1384.24  Z\n  \" fill=\"#009af9\" fill-rule=\"evenodd\" fill-opacity=\"1\"/>\n<polyline clip-path=\"url(#clip342)\" style=\"stroke:#000000; stroke-linecap:round; stroke-linejoin:round; stroke-width:4; stroke-opacity:1; fill:none\" points=\"\n  5283.42,1384.24 5283.42,1384.24 5322.97,1384.24 5283.42,1384.24 \n  \"/>\n<path clip-path=\"url(#clip342)\" d=\"\nM5322.97 1384.24 L5322.97 1384.24 L5362.52 1384.24 L5362.52 1384.24 L5322.97 1384.24 L5322.97 1384.24  Z\n  \" fill=\"#009af9\" fill-rule=\"evenodd\" fill-opacity=\"1\"/>\n<polyline clip-path=\"url(#clip342)\" style=\"stroke:#000000; stroke-linecap:round; stroke-linejoin:round; stroke-width:4; stroke-opacity:1; fill:none\" points=\"\n  5322.97,1384.24 5322.97,1384.24 5362.52,1384.24 5322.97,1384.24 \n  \"/>\n<path clip-path=\"url(#clip342)\" d=\"\nM5362.52 1384.24 L5362.52 1384.24 L5402.06 1384.24 L5402.06 1384.24 L5362.52 1384.24 L5362.52 1384.24  Z\n  \" fill=\"#009af9\" fill-rule=\"evenodd\" fill-opacity=\"1\"/>\n<polyline clip-path=\"url(#clip342)\" style=\"stroke:#000000; stroke-linecap:round; stroke-linejoin:round; stroke-width:4; stroke-opacity:1; fill:none\" points=\"\n  5362.52,1384.24 5362.52,1384.24 5402.06,1384.24 5362.52,1384.24 \n  \"/>\n<path clip-path=\"url(#clip342)\" d=\"\nM5402.06 1384.24 L5402.06 1384.24 L5441.61 1384.24 L5441.61 1384.24 L5402.06 1384.24 L5402.06 1384.24  Z\n  \" fill=\"#009af9\" fill-rule=\"evenodd\" fill-opacity=\"1\"/>\n<polyline clip-path=\"url(#clip342)\" style=\"stroke:#000000; stroke-linecap:round; stroke-linejoin:round; stroke-width:4; stroke-opacity:1; fill:none\" points=\"\n  5402.06,1384.24 5402.06,1384.24 5441.61,1384.24 5402.06,1384.24 \n  \"/>\n<path clip-path=\"url(#clip342)\" d=\"\nM5441.61 1384.24 L5441.61 1384.24 L5481.15 1384.24 L5481.15 1384.24 L5441.61 1384.24 L5441.61 1384.24  Z\n  \" fill=\"#009af9\" fill-rule=\"evenodd\" fill-opacity=\"1\"/>\n<polyline clip-path=\"url(#clip342)\" style=\"stroke:#000000; stroke-linecap:round; stroke-linejoin:round; stroke-width:4; stroke-opacity:1; fill:none\" points=\"\n  5441.61,1384.24 5441.61,1384.24 5481.15,1384.24 5441.61,1384.24 \n  \"/>\n<path clip-path=\"url(#clip342)\" d=\"\nM5481.15 1254.43 L5481.15 1384.24 L5520.7 1384.24 L5520.7 1254.43 L5481.15 1254.43 L5481.15 1254.43  Z\n  \" fill=\"#009af9\" fill-rule=\"evenodd\" fill-opacity=\"1\"/>\n<polyline clip-path=\"url(#clip342)\" style=\"stroke:#000000; stroke-linecap:round; stroke-linejoin:round; stroke-width:4; stroke-opacity:1; fill:none\" points=\"\n  5481.15,1254.43 5481.15,1384.24 5520.7,1384.24 5520.7,1254.43 5481.15,1254.43 \n  \"/>\n<path clip-path=\"url(#clip342)\" d=\"\nM5520.7 1384.24 L5520.7 1384.24 L5560.25 1384.24 L5560.25 1384.24 L5520.7 1384.24 L5520.7 1384.24  Z\n  \" fill=\"#009af9\" fill-rule=\"evenodd\" fill-opacity=\"1\"/>\n<polyline clip-path=\"url(#clip342)\" style=\"stroke:#000000; stroke-linecap:round; stroke-linejoin:round; stroke-width:4; stroke-opacity:1; fill:none\" points=\"\n  5520.7,1384.24 5520.7,1384.24 5560.25,1384.24 5520.7,1384.24 \n  \"/>\n<path clip-path=\"url(#clip342)\" d=\"\nM5560.25 1384.24 L5560.25 1384.24 L5599.79 1384.24 L5599.79 1384.24 L5560.25 1384.24 L5560.25 1384.24  Z\n  \" fill=\"#009af9\" fill-rule=\"evenodd\" fill-opacity=\"1\"/>\n<polyline clip-path=\"url(#clip342)\" style=\"stroke:#000000; stroke-linecap:round; stroke-linejoin:round; stroke-width:4; stroke-opacity:1; fill:none\" points=\"\n  5560.25,1384.24 5560.25,1384.24 5599.79,1384.24 5560.25,1384.24 \n  \"/>\n<path clip-path=\"url(#clip342)\" d=\"\nM5599.79 1384.24 L5599.79 1384.24 L5639.34 1384.24 L5639.34 1384.24 L5599.79 1384.24 L5599.79 1384.24  Z\n  \" fill=\"#009af9\" fill-rule=\"evenodd\" fill-opacity=\"1\"/>\n<polyline clip-path=\"url(#clip342)\" style=\"stroke:#000000; stroke-linecap:round; stroke-linejoin:round; stroke-width:4; stroke-opacity:1; fill:none\" points=\"\n  5599.79,1384.24 5599.79,1384.24 5639.34,1384.24 5599.79,1384.24 \n  \"/>\n<path clip-path=\"url(#clip342)\" d=\"\nM5639.34 1384.24 L5639.34 1384.24 L5678.89 1384.24 L5678.89 1384.24 L5639.34 1384.24 L5639.34 1384.24  Z\n  \" fill=\"#009af9\" fill-rule=\"evenodd\" fill-opacity=\"1\"/>\n<polyline clip-path=\"url(#clip342)\" style=\"stroke:#000000; stroke-linecap:round; stroke-linejoin:round; stroke-width:4; stroke-opacity:1; fill:none\" points=\"\n  5639.34,1384.24 5639.34,1384.24 5678.89,1384.24 5639.34,1384.24 \n  \"/>\n<path clip-path=\"url(#clip342)\" d=\"\nM5678.89 1384.24 L5678.89 1384.24 L5718.43 1384.24 L5718.43 1384.24 L5678.89 1384.24 L5678.89 1384.24  Z\n  \" fill=\"#009af9\" fill-rule=\"evenodd\" fill-opacity=\"1\"/>\n<polyline clip-path=\"url(#clip342)\" style=\"stroke:#000000; stroke-linecap:round; stroke-linejoin:round; stroke-width:4; stroke-opacity:1; fill:none\" points=\"\n  5678.89,1384.24 5678.89,1384.24 5718.43,1384.24 5678.89,1384.24 \n  \"/>\n<path clip-path=\"url(#clip342)\" d=\"\nM5718.43 1384.24 L5718.43 1384.24 L5757.98 1384.24 L5757.98 1384.24 L5718.43 1384.24 L5718.43 1384.24  Z\n  \" fill=\"#009af9\" fill-rule=\"evenodd\" fill-opacity=\"1\"/>\n<polyline clip-path=\"url(#clip342)\" style=\"stroke:#000000; stroke-linecap:round; stroke-linejoin:round; stroke-width:4; stroke-opacity:1; fill:none\" points=\"\n  5718.43,1384.24 5718.43,1384.24 5757.98,1384.24 5718.43,1384.24 \n  \"/>\n<path clip-path=\"url(#clip342)\" d=\"\nM5757.98 1384.24 L5757.98 1384.24 L5797.52 1384.24 L5797.52 1384.24 L5757.98 1384.24 L5757.98 1384.24  Z\n  \" fill=\"#009af9\" fill-rule=\"evenodd\" fill-opacity=\"1\"/>\n<polyline clip-path=\"url(#clip342)\" style=\"stroke:#000000; stroke-linecap:round; stroke-linejoin:round; stroke-width:4; stroke-opacity:1; fill:none\" points=\"\n  5757.98,1384.24 5757.98,1384.24 5797.52,1384.24 5757.98,1384.24 \n  \"/>\n<path clip-path=\"url(#clip342)\" d=\"\nM5797.52 1384.24 L5797.52 1384.24 L5837.07 1384.24 L5837.07 1384.24 L5797.52 1384.24 L5797.52 1384.24  Z\n  \" fill=\"#009af9\" fill-rule=\"evenodd\" fill-opacity=\"1\"/>\n<polyline clip-path=\"url(#clip342)\" style=\"stroke:#000000; stroke-linecap:round; stroke-linejoin:round; stroke-width:4; stroke-opacity:1; fill:none\" points=\"\n  5797.52,1384.24 5797.52,1384.24 5837.07,1384.24 5797.52,1384.24 \n  \"/>\n<path clip-path=\"url(#clip342)\" d=\"\nM5837.07 1384.24 L5837.07 1384.24 L5876.62 1384.24 L5876.62 1384.24 L5837.07 1384.24 L5837.07 1384.24  Z\n  \" fill=\"#009af9\" fill-rule=\"evenodd\" fill-opacity=\"1\"/>\n<polyline clip-path=\"url(#clip342)\" style=\"stroke:#000000; stroke-linecap:round; stroke-linejoin:round; stroke-width:4; stroke-opacity:1; fill:none\" points=\"\n  5837.07,1384.24 5837.07,1384.24 5876.62,1384.24 5837.07,1384.24 \n  \"/>\n<path clip-path=\"url(#clip342)\" d=\"\nM5876.62 1254.43 L5876.62 1384.24 L5916.16 1384.24 L5916.16 1254.43 L5876.62 1254.43 L5876.62 1254.43  Z\n  \" fill=\"#009af9\" fill-rule=\"evenodd\" fill-opacity=\"1\"/>\n<polyline clip-path=\"url(#clip342)\" style=\"stroke:#000000; stroke-linecap:round; stroke-linejoin:round; stroke-width:4; stroke-opacity:1; fill:none\" points=\"\n  5876.62,1254.43 5876.62,1384.24 5916.16,1384.24 5916.16,1254.43 5876.62,1254.43 \n  \"/>\n<path clip-path=\"url(#clip342)\" d=\"\nM5916.16 1384.24 L5916.16 1384.24 L5955.71 1384.24 L5955.71 1384.24 L5916.16 1384.24 L5916.16 1384.24  Z\n  \" fill=\"#009af9\" fill-rule=\"evenodd\" fill-opacity=\"1\"/>\n<polyline clip-path=\"url(#clip342)\" style=\"stroke:#000000; stroke-linecap:round; stroke-linejoin:round; stroke-width:4; stroke-opacity:1; fill:none\" points=\"\n  5916.16,1384.24 5916.16,1384.24 5955.71,1384.24 5916.16,1384.24 \n  \"/>\n<path clip-path=\"url(#clip342)\" d=\"\nM5955.71 1384.24 L5955.71 1384.24 L5995.26 1384.24 L5995.26 1384.24 L5955.71 1384.24 L5955.71 1384.24  Z\n  \" fill=\"#009af9\" fill-rule=\"evenodd\" fill-opacity=\"1\"/>\n<polyline clip-path=\"url(#clip342)\" style=\"stroke:#000000; stroke-linecap:round; stroke-linejoin:round; stroke-width:4; stroke-opacity:1; fill:none\" points=\"\n  5955.71,1384.24 5955.71,1384.24 5995.26,1384.24 5955.71,1384.24 \n  \"/>\n<path clip-path=\"url(#clip342)\" d=\"\nM5995.26 1384.24 L5995.26 1384.24 L6034.8 1384.24 L6034.8 1384.24 L5995.26 1384.24 L5995.26 1384.24  Z\n  \" fill=\"#009af9\" fill-rule=\"evenodd\" fill-opacity=\"1\"/>\n<polyline clip-path=\"url(#clip342)\" style=\"stroke:#000000; stroke-linecap:round; stroke-linejoin:round; stroke-width:4; stroke-opacity:1; fill:none\" points=\"\n  5995.26,1384.24 5995.26,1384.24 6034.8,1384.24 5995.26,1384.24 \n  \"/>\n<path clip-path=\"url(#clip342)\" d=\"\nM6034.8 1384.24 L6034.8 1384.24 L6074.35 1384.24 L6074.35 1384.24 L6034.8 1384.24 L6034.8 1384.24  Z\n  \" fill=\"#009af9\" fill-rule=\"evenodd\" fill-opacity=\"1\"/>\n<polyline clip-path=\"url(#clip342)\" style=\"stroke:#000000; stroke-linecap:round; stroke-linejoin:round; stroke-width:4; stroke-opacity:1; fill:none\" points=\"\n  6034.8,1384.24 6034.8,1384.24 6074.35,1384.24 6034.8,1384.24 \n  \"/>\n<path clip-path=\"url(#clip342)\" d=\"\nM6074.35 1254.43 L6074.35 1384.24 L6113.89 1384.24 L6113.89 1254.43 L6074.35 1254.43 L6074.35 1254.43  Z\n  \" fill=\"#009af9\" fill-rule=\"evenodd\" fill-opacity=\"1\"/>\n<polyline clip-path=\"url(#clip342)\" style=\"stroke:#000000; stroke-linecap:round; stroke-linejoin:round; stroke-width:4; stroke-opacity:1; fill:none\" points=\"\n  6074.35,1254.43 6074.35,1384.24 6113.89,1384.24 6113.89,1254.43 6074.35,1254.43 \n  \"/>\n<path clip-path=\"url(#clip342)\" d=\"\nM6113.89 1384.24 L6113.89 1384.24 L6153.44 1384.24 L6153.44 1384.24 L6113.89 1384.24 L6113.89 1384.24  Z\n  \" fill=\"#009af9\" fill-rule=\"evenodd\" fill-opacity=\"1\"/>\n<polyline clip-path=\"url(#clip342)\" style=\"stroke:#000000; stroke-linecap:round; stroke-linejoin:round; stroke-width:4; stroke-opacity:1; fill:none\" points=\"\n  6113.89,1384.24 6113.89,1384.24 6153.44,1384.24 6113.89,1384.24 \n  \"/>\n<path clip-path=\"url(#clip342)\" d=\"\nM6153.44 1384.24 L6153.44 1384.24 L6192.99 1384.24 L6192.99 1384.24 L6153.44 1384.24 L6153.44 1384.24  Z\n  \" fill=\"#009af9\" fill-rule=\"evenodd\" fill-opacity=\"1\"/>\n<polyline clip-path=\"url(#clip342)\" style=\"stroke:#000000; stroke-linecap:round; stroke-linejoin:round; stroke-width:4; stroke-opacity:1; fill:none\" points=\"\n  6153.44,1384.24 6153.44,1384.24 6192.99,1384.24 6153.44,1384.24 \n  \"/>\n<path clip-path=\"url(#clip342)\" d=\"\nM6192.99 1384.24 L6192.99 1384.24 L6232.53 1384.24 L6232.53 1384.24 L6192.99 1384.24 L6192.99 1384.24  Z\n  \" fill=\"#009af9\" fill-rule=\"evenodd\" fill-opacity=\"1\"/>\n<polyline clip-path=\"url(#clip342)\" style=\"stroke:#000000; stroke-linecap:round; stroke-linejoin:round; stroke-width:4; stroke-opacity:1; fill:none\" points=\"\n  6192.99,1384.24 6192.99,1384.24 6232.53,1384.24 6192.99,1384.24 \n  \"/>\n<path clip-path=\"url(#clip342)\" d=\"\nM6232.53 1384.24 L6232.53 1384.24 L6272.08 1384.24 L6272.08 1384.24 L6232.53 1384.24 L6232.53 1384.24  Z\n  \" fill=\"#009af9\" fill-rule=\"evenodd\" fill-opacity=\"1\"/>\n<polyline clip-path=\"url(#clip342)\" style=\"stroke:#000000; stroke-linecap:round; stroke-linejoin:round; stroke-width:4; stroke-opacity:1; fill:none\" points=\"\n  6232.53,1384.24 6232.53,1384.24 6272.08,1384.24 6232.53,1384.24 \n  \"/>\n<path clip-path=\"url(#clip342)\" d=\"\nM6272.08 1384.24 L6272.08 1384.24 L6311.63 1384.24 L6311.63 1384.24 L6272.08 1384.24 L6272.08 1384.24  Z\n  \" fill=\"#009af9\" fill-rule=\"evenodd\" fill-opacity=\"1\"/>\n<polyline clip-path=\"url(#clip342)\" style=\"stroke:#000000; stroke-linecap:round; stroke-linejoin:round; stroke-width:4; stroke-opacity:1; fill:none\" points=\"\n  6272.08,1384.24 6272.08,1384.24 6311.63,1384.24 6272.08,1384.24 \n  \"/>\n<path clip-path=\"url(#clip342)\" d=\"\nM6311.63 1254.43 L6311.63 1384.24 L6351.17 1384.24 L6351.17 1254.43 L6311.63 1254.43 L6311.63 1254.43  Z\n  \" fill=\"#009af9\" fill-rule=\"evenodd\" fill-opacity=\"1\"/>\n<polyline clip-path=\"url(#clip342)\" style=\"stroke:#000000; stroke-linecap:round; stroke-linejoin:round; stroke-width:4; stroke-opacity:1; fill:none\" points=\"\n  6311.63,1254.43 6311.63,1384.24 6351.17,1384.24 6351.17,1254.43 6311.63,1254.43 \n  \"/>\n<path clip-path=\"url(#clip342)\" d=\"\nM6351.17 1384.24 L6351.17 1384.24 L6390.72 1384.24 L6390.72 1384.24 L6351.17 1384.24 L6351.17 1384.24  Z\n  \" fill=\"#009af9\" fill-rule=\"evenodd\" fill-opacity=\"1\"/>\n<polyline clip-path=\"url(#clip342)\" style=\"stroke:#000000; stroke-linecap:round; stroke-linejoin:round; stroke-width:4; stroke-opacity:1; fill:none\" points=\"\n  6351.17,1384.24 6351.17,1384.24 6390.72,1384.24 6351.17,1384.24 \n  \"/>\n<path clip-path=\"url(#clip342)\" d=\"\nM6390.72 1384.24 L6390.72 1384.24 L6430.26 1384.24 L6430.26 1384.24 L6390.72 1384.24 L6390.72 1384.24  Z\n  \" fill=\"#009af9\" fill-rule=\"evenodd\" fill-opacity=\"1\"/>\n<polyline clip-path=\"url(#clip342)\" style=\"stroke:#000000; stroke-linecap:round; stroke-linejoin:round; stroke-width:4; stroke-opacity:1; fill:none\" points=\"\n  6390.72,1384.24 6390.72,1384.24 6430.26,1384.24 6390.72,1384.24 \n  \"/>\n<path clip-path=\"url(#clip342)\" d=\"\nM6430.26 1384.24 L6430.26 1384.24 L6469.81 1384.24 L6469.81 1384.24 L6430.26 1384.24 L6430.26 1384.24  Z\n  \" fill=\"#009af9\" fill-rule=\"evenodd\" fill-opacity=\"1\"/>\n<polyline clip-path=\"url(#clip342)\" style=\"stroke:#000000; stroke-linecap:round; stroke-linejoin:round; stroke-width:4; stroke-opacity:1; fill:none\" points=\"\n  6430.26,1384.24 6430.26,1384.24 6469.81,1384.24 6430.26,1384.24 \n  \"/>\n<path clip-path=\"url(#clip342)\" d=\"\nM6469.81 1384.24 L6469.81 1384.24 L6509.36 1384.24 L6509.36 1384.24 L6469.81 1384.24 L6469.81 1384.24  Z\n  \" fill=\"#009af9\" fill-rule=\"evenodd\" fill-opacity=\"1\"/>\n<polyline clip-path=\"url(#clip342)\" style=\"stroke:#000000; stroke-linecap:round; stroke-linejoin:round; stroke-width:4; stroke-opacity:1; fill:none\" points=\"\n  6469.81,1384.24 6469.81,1384.24 6509.36,1384.24 6469.81,1384.24 \n  \"/>\n<path clip-path=\"url(#clip342)\" d=\"\nM6509.36 1384.24 L6509.36 1384.24 L6548.9 1384.24 L6548.9 1384.24 L6509.36 1384.24 L6509.36 1384.24  Z\n  \" fill=\"#009af9\" fill-rule=\"evenodd\" fill-opacity=\"1\"/>\n<polyline clip-path=\"url(#clip342)\" style=\"stroke:#000000; stroke-linecap:round; stroke-linejoin:round; stroke-width:4; stroke-opacity:1; fill:none\" points=\"\n  6509.36,1384.24 6509.36,1384.24 6548.9,1384.24 6509.36,1384.24 \n  \"/>\n<path clip-path=\"url(#clip342)\" d=\"\nM6548.9 1384.24 L6548.9 1384.24 L6588.45 1384.24 L6588.45 1384.24 L6548.9 1384.24 L6548.9 1384.24  Z\n  \" fill=\"#009af9\" fill-rule=\"evenodd\" fill-opacity=\"1\"/>\n<polyline clip-path=\"url(#clip342)\" style=\"stroke:#000000; stroke-linecap:round; stroke-linejoin:round; stroke-width:4; stroke-opacity:1; fill:none\" points=\"\n  6548.9,1384.24 6548.9,1384.24 6588.45,1384.24 6548.9,1384.24 \n  \"/>\n<path clip-path=\"url(#clip342)\" d=\"\nM6588.45 1384.24 L6588.45 1384.24 L6628 1384.24 L6628 1384.24 L6588.45 1384.24 L6588.45 1384.24  Z\n  \" fill=\"#009af9\" fill-rule=\"evenodd\" fill-opacity=\"1\"/>\n<polyline clip-path=\"url(#clip342)\" style=\"stroke:#000000; stroke-linecap:round; stroke-linejoin:round; stroke-width:4; stroke-opacity:1; fill:none\" points=\"\n  6588.45,1384.24 6588.45,1384.24 6628,1384.24 6588.45,1384.24 \n  \"/>\n<path clip-path=\"url(#clip342)\" d=\"\nM6628 1254.43 L6628 1384.24 L6667.54 1384.24 L6667.54 1254.43 L6628 1254.43 L6628 1254.43  Z\n  \" fill=\"#009af9\" fill-rule=\"evenodd\" fill-opacity=\"1\"/>\n<polyline clip-path=\"url(#clip342)\" style=\"stroke:#000000; stroke-linecap:round; stroke-linejoin:round; stroke-width:4; stroke-opacity:1; fill:none\" points=\"\n  6628,1254.43 6628,1384.24 6667.54,1384.24 6667.54,1254.43 6628,1254.43 \n  \"/>\n<path clip-path=\"url(#clip342)\" d=\"\nM6667.54 1384.24 L6667.54 1384.24 L6707.09 1384.24 L6707.09 1384.24 L6667.54 1384.24 L6667.54 1384.24  Z\n  \" fill=\"#009af9\" fill-rule=\"evenodd\" fill-opacity=\"1\"/>\n<polyline clip-path=\"url(#clip342)\" style=\"stroke:#000000; stroke-linecap:round; stroke-linejoin:round; stroke-width:4; stroke-opacity:1; fill:none\" points=\"\n  6667.54,1384.24 6667.54,1384.24 6707.09,1384.24 6667.54,1384.24 \n  \"/>\n<path clip-path=\"url(#clip342)\" d=\"\nM6707.09 1384.24 L6707.09 1384.24 L6746.64 1384.24 L6746.64 1384.24 L6707.09 1384.24 L6707.09 1384.24  Z\n  \" fill=\"#009af9\" fill-rule=\"evenodd\" fill-opacity=\"1\"/>\n<polyline clip-path=\"url(#clip342)\" style=\"stroke:#000000; stroke-linecap:round; stroke-linejoin:round; stroke-width:4; stroke-opacity:1; fill:none\" points=\"\n  6707.09,1384.24 6707.09,1384.24 6746.64,1384.24 6707.09,1384.24 \n  \"/>\n<path clip-path=\"url(#clip342)\" d=\"\nM6746.64 1384.24 L6746.64 1384.24 L6786.18 1384.24 L6786.18 1384.24 L6746.64 1384.24 L6746.64 1384.24  Z\n  \" fill=\"#009af9\" fill-rule=\"evenodd\" fill-opacity=\"1\"/>\n<polyline clip-path=\"url(#clip342)\" style=\"stroke:#000000; stroke-linecap:round; stroke-linejoin:round; stroke-width:4; stroke-opacity:1; fill:none\" points=\"\n  6746.64,1384.24 6746.64,1384.24 6786.18,1384.24 6746.64,1384.24 \n  \"/>\n<path clip-path=\"url(#clip342)\" d=\"\nM6786.18 1384.24 L6786.18 1384.24 L6825.73 1384.24 L6825.73 1384.24 L6786.18 1384.24 L6786.18 1384.24  Z\n  \" fill=\"#009af9\" fill-rule=\"evenodd\" fill-opacity=\"1\"/>\n<polyline clip-path=\"url(#clip342)\" style=\"stroke:#000000; stroke-linecap:round; stroke-linejoin:round; stroke-width:4; stroke-opacity:1; fill:none\" points=\"\n  6786.18,1384.24 6786.18,1384.24 6825.73,1384.24 6786.18,1384.24 \n  \"/>\n<path clip-path=\"url(#clip342)\" d=\"\nM6825.73 1384.24 L6825.73 1384.24 L6865.27 1384.24 L6865.27 1384.24 L6825.73 1384.24 L6825.73 1384.24  Z\n  \" fill=\"#009af9\" fill-rule=\"evenodd\" fill-opacity=\"1\"/>\n<polyline clip-path=\"url(#clip342)\" style=\"stroke:#000000; stroke-linecap:round; stroke-linejoin:round; stroke-width:4; stroke-opacity:1; fill:none\" points=\"\n  6825.73,1384.24 6825.73,1384.24 6865.27,1384.24 6825.73,1384.24 \n  \"/>\n<path clip-path=\"url(#clip342)\" d=\"\nM6865.27 1384.24 L6865.27 1384.24 L6904.82 1384.24 L6904.82 1384.24 L6865.27 1384.24 L6865.27 1384.24  Z\n  \" fill=\"#009af9\" fill-rule=\"evenodd\" fill-opacity=\"1\"/>\n<polyline clip-path=\"url(#clip342)\" style=\"stroke:#000000; stroke-linecap:round; stroke-linejoin:round; stroke-width:4; stroke-opacity:1; fill:none\" points=\"\n  6865.27,1384.24 6865.27,1384.24 6904.82,1384.24 6865.27,1384.24 \n  \"/>\n<path clip-path=\"url(#clip342)\" d=\"\nM6904.82 1384.24 L6904.82 1384.24 L6944.37 1384.24 L6944.37 1384.24 L6904.82 1384.24 L6904.82 1384.24  Z\n  \" fill=\"#009af9\" fill-rule=\"evenodd\" fill-opacity=\"1\"/>\n<polyline clip-path=\"url(#clip342)\" style=\"stroke:#000000; stroke-linecap:round; stroke-linejoin:round; stroke-width:4; stroke-opacity:1; fill:none\" points=\"\n  6904.82,1384.24 6904.82,1384.24 6944.37,1384.24 6904.82,1384.24 \n  \"/>\n<path clip-path=\"url(#clip342)\" d=\"\nM6944.37 1384.24 L6944.37 1384.24 L6983.91 1384.24 L6983.91 1384.24 L6944.37 1384.24 L6944.37 1384.24  Z\n  \" fill=\"#009af9\" fill-rule=\"evenodd\" fill-opacity=\"1\"/>\n<polyline clip-path=\"url(#clip342)\" style=\"stroke:#000000; stroke-linecap:round; stroke-linejoin:round; stroke-width:4; stroke-opacity:1; fill:none\" points=\"\n  6944.37,1384.24 6944.37,1384.24 6983.91,1384.24 6944.37,1384.24 \n  \"/>\n<path clip-path=\"url(#clip342)\" d=\"\nM6983.91 1254.43 L6983.91 1384.24 L7023.46 1384.24 L7023.46 1254.43 L6983.91 1254.43 L6983.91 1254.43  Z\n  \" fill=\"#009af9\" fill-rule=\"evenodd\" fill-opacity=\"1\"/>\n<polyline clip-path=\"url(#clip342)\" style=\"stroke:#000000; stroke-linecap:round; stroke-linejoin:round; stroke-width:4; stroke-opacity:1; fill:none\" points=\"\n  6983.91,1254.43 6983.91,1384.24 7023.46,1384.24 7023.46,1254.43 6983.91,1254.43 \n  \"/>\n<path clip-path=\"url(#clip342)\" d=\"\nM7023.46 1384.24 L7023.46 1384.24 L7063.01 1384.24 L7063.01 1384.24 L7023.46 1384.24 L7023.46 1384.24  Z\n  \" fill=\"#009af9\" fill-rule=\"evenodd\" fill-opacity=\"1\"/>\n<polyline clip-path=\"url(#clip342)\" style=\"stroke:#000000; stroke-linecap:round; stroke-linejoin:round; stroke-width:4; stroke-opacity:1; fill:none\" points=\"\n  7023.46,1384.24 7023.46,1384.24 7063.01,1384.24 7023.46,1384.24 \n  \"/>\n<path clip-path=\"url(#clip342)\" d=\"\nM7063.01 1384.24 L7063.01 1384.24 L7102.55 1384.24 L7102.55 1384.24 L7063.01 1384.24 L7063.01 1384.24  Z\n  \" fill=\"#009af9\" fill-rule=\"evenodd\" fill-opacity=\"1\"/>\n<polyline clip-path=\"url(#clip342)\" style=\"stroke:#000000; stroke-linecap:round; stroke-linejoin:round; stroke-width:4; stroke-opacity:1; fill:none\" points=\"\n  7063.01,1384.24 7063.01,1384.24 7102.55,1384.24 7063.01,1384.24 \n  \"/>\n<path clip-path=\"url(#clip342)\" d=\"\nM7102.55 1384.24 L7102.55 1384.24 L7142.1 1384.24 L7142.1 1384.24 L7102.55 1384.24 L7102.55 1384.24  Z\n  \" fill=\"#009af9\" fill-rule=\"evenodd\" fill-opacity=\"1\"/>\n<polyline clip-path=\"url(#clip342)\" style=\"stroke:#000000; stroke-linecap:round; stroke-linejoin:round; stroke-width:4; stroke-opacity:1; fill:none\" points=\"\n  7102.55,1384.24 7102.55,1384.24 7142.1,1384.24 7102.55,1384.24 \n  \"/>\n<path clip-path=\"url(#clip342)\" d=\"\nM7142.1 1384.24 L7142.1 1384.24 L7181.64 1384.24 L7181.64 1384.24 L7142.1 1384.24 L7142.1 1384.24  Z\n  \" fill=\"#009af9\" fill-rule=\"evenodd\" fill-opacity=\"1\"/>\n<polyline clip-path=\"url(#clip342)\" style=\"stroke:#000000; stroke-linecap:round; stroke-linejoin:round; stroke-width:4; stroke-opacity:1; fill:none\" points=\"\n  7142.1,1384.24 7142.1,1384.24 7181.64,1384.24 7142.1,1384.24 \n  \"/>\n<path clip-path=\"url(#clip342)\" d=\"\nM7181.64 1384.24 L7181.64 1384.24 L7221.19 1384.24 L7221.19 1384.24 L7181.64 1384.24 L7181.64 1384.24  Z\n  \" fill=\"#009af9\" fill-rule=\"evenodd\" fill-opacity=\"1\"/>\n<polyline clip-path=\"url(#clip342)\" style=\"stroke:#000000; stroke-linecap:round; stroke-linejoin:round; stroke-width:4; stroke-opacity:1; fill:none\" points=\"\n  7181.64,1384.24 7181.64,1384.24 7221.19,1384.24 7181.64,1384.24 \n  \"/>\n<path clip-path=\"url(#clip342)\" d=\"\nM7221.19 1384.24 L7221.19 1384.24 L7260.74 1384.24 L7260.74 1384.24 L7221.19 1384.24 L7221.19 1384.24  Z\n  \" fill=\"#009af9\" fill-rule=\"evenodd\" fill-opacity=\"1\"/>\n<polyline clip-path=\"url(#clip342)\" style=\"stroke:#000000; stroke-linecap:round; stroke-linejoin:round; stroke-width:4; stroke-opacity:1; fill:none\" points=\"\n  7221.19,1384.24 7221.19,1384.24 7260.74,1384.24 7221.19,1384.24 \n  \"/>\n<path clip-path=\"url(#clip342)\" d=\"\nM7260.74 1384.24 L7260.74 1384.24 L7300.28 1384.24 L7300.28 1384.24 L7260.74 1384.24 L7260.74 1384.24  Z\n  \" fill=\"#009af9\" fill-rule=\"evenodd\" fill-opacity=\"1\"/>\n<polyline clip-path=\"url(#clip342)\" style=\"stroke:#000000; stroke-linecap:round; stroke-linejoin:round; stroke-width:4; stroke-opacity:1; fill:none\" points=\"\n  7260.74,1384.24 7260.74,1384.24 7300.28,1384.24 7260.74,1384.24 \n  \"/>\n<path clip-path=\"url(#clip342)\" d=\"\nM7300.28 1384.24 L7300.28 1384.24 L7339.83 1384.24 L7339.83 1384.24 L7300.28 1384.24 L7300.28 1384.24  Z\n  \" fill=\"#009af9\" fill-rule=\"evenodd\" fill-opacity=\"1\"/>\n<polyline clip-path=\"url(#clip342)\" style=\"stroke:#000000; stroke-linecap:round; stroke-linejoin:round; stroke-width:4; stroke-opacity:1; fill:none\" points=\"\n  7300.28,1384.24 7300.28,1384.24 7339.83,1384.24 7300.28,1384.24 \n  \"/>\n<path clip-path=\"url(#clip342)\" d=\"\nM7339.83 1384.24 L7339.83 1384.24 L7379.38 1384.24 L7379.38 1384.24 L7339.83 1384.24 L7339.83 1384.24  Z\n  \" fill=\"#009af9\" fill-rule=\"evenodd\" fill-opacity=\"1\"/>\n<polyline clip-path=\"url(#clip342)\" style=\"stroke:#000000; stroke-linecap:round; stroke-linejoin:round; stroke-width:4; stroke-opacity:1; fill:none\" points=\"\n  7339.83,1384.24 7339.83,1384.24 7379.38,1384.24 7339.83,1384.24 \n  \"/>\n<path clip-path=\"url(#clip342)\" d=\"\nM7379.38 1384.24 L7379.38 1384.24 L7418.92 1384.24 L7418.92 1384.24 L7379.38 1384.24 L7379.38 1384.24  Z\n  \" fill=\"#009af9\" fill-rule=\"evenodd\" fill-opacity=\"1\"/>\n<polyline clip-path=\"url(#clip342)\" style=\"stroke:#000000; stroke-linecap:round; stroke-linejoin:round; stroke-width:4; stroke-opacity:1; fill:none\" points=\"\n  7379.38,1384.24 7379.38,1384.24 7418.92,1384.24 7379.38,1384.24 \n  \"/>\n<path clip-path=\"url(#clip342)\" d=\"\nM7418.92 1384.24 L7418.92 1384.24 L7458.47 1384.24 L7458.47 1384.24 L7418.92 1384.24 L7418.92 1384.24  Z\n  \" fill=\"#009af9\" fill-rule=\"evenodd\" fill-opacity=\"1\"/>\n<polyline clip-path=\"url(#clip342)\" style=\"stroke:#000000; stroke-linecap:round; stroke-linejoin:round; stroke-width:4; stroke-opacity:1; fill:none\" points=\"\n  7418.92,1384.24 7418.92,1384.24 7458.47,1384.24 7418.92,1384.24 \n  \"/>\n<path clip-path=\"url(#clip342)\" d=\"\nM7458.47 1384.24 L7458.47 1384.24 L7498.01 1384.24 L7498.01 1384.24 L7458.47 1384.24 L7458.47 1384.24  Z\n  \" fill=\"#009af9\" fill-rule=\"evenodd\" fill-opacity=\"1\"/>\n<polyline clip-path=\"url(#clip342)\" style=\"stroke:#000000; stroke-linecap:round; stroke-linejoin:round; stroke-width:4; stroke-opacity:1; fill:none\" points=\"\n  7458.47,1384.24 7458.47,1384.24 7498.01,1384.24 7458.47,1384.24 \n  \"/>\n<path clip-path=\"url(#clip342)\" d=\"\nM7498.01 1384.24 L7498.01 1384.24 L7537.56 1384.24 L7537.56 1384.24 L7498.01 1384.24 L7498.01 1384.24  Z\n  \" fill=\"#009af9\" fill-rule=\"evenodd\" fill-opacity=\"1\"/>\n<polyline clip-path=\"url(#clip342)\" style=\"stroke:#000000; stroke-linecap:round; stroke-linejoin:round; stroke-width:4; stroke-opacity:1; fill:none\" points=\"\n  7498.01,1384.24 7498.01,1384.24 7537.56,1384.24 7498.01,1384.24 \n  \"/>\n<path clip-path=\"url(#clip342)\" d=\"\nM7537.56 1384.24 L7537.56 1384.24 L7577.11 1384.24 L7577.11 1384.24 L7537.56 1384.24 L7537.56 1384.24  Z\n  \" fill=\"#009af9\" fill-rule=\"evenodd\" fill-opacity=\"1\"/>\n<polyline clip-path=\"url(#clip342)\" style=\"stroke:#000000; stroke-linecap:round; stroke-linejoin:round; stroke-width:4; stroke-opacity:1; fill:none\" points=\"\n  7537.56,1384.24 7537.56,1384.24 7577.11,1384.24 7537.56,1384.24 \n  \"/>\n<path clip-path=\"url(#clip342)\" d=\"\nM7577.11 1384.24 L7577.11 1384.24 L7616.65 1384.24 L7616.65 1384.24 L7577.11 1384.24 L7577.11 1384.24  Z\n  \" fill=\"#009af9\" fill-rule=\"evenodd\" fill-opacity=\"1\"/>\n<polyline clip-path=\"url(#clip342)\" style=\"stroke:#000000; stroke-linecap:round; stroke-linejoin:round; stroke-width:4; stroke-opacity:1; fill:none\" points=\"\n  7577.11,1384.24 7577.11,1384.24 7616.65,1384.24 7577.11,1384.24 \n  \"/>\n<path clip-path=\"url(#clip342)\" d=\"\nM7616.65 1384.24 L7616.65 1384.24 L7656.2 1384.24 L7656.2 1384.24 L7616.65 1384.24 L7616.65 1384.24  Z\n  \" fill=\"#009af9\" fill-rule=\"evenodd\" fill-opacity=\"1\"/>\n<polyline clip-path=\"url(#clip342)\" style=\"stroke:#000000; stroke-linecap:round; stroke-linejoin:round; stroke-width:4; stroke-opacity:1; fill:none\" points=\"\n  7616.65,1384.24 7616.65,1384.24 7656.2,1384.24 7616.65,1384.24 \n  \"/>\n<path clip-path=\"url(#clip342)\" d=\"\nM7656.2 1384.24 L7656.2 1384.24 L7695.75 1384.24 L7695.75 1384.24 L7656.2 1384.24 L7656.2 1384.24  Z\n  \" fill=\"#009af9\" fill-rule=\"evenodd\" fill-opacity=\"1\"/>\n<polyline clip-path=\"url(#clip342)\" style=\"stroke:#000000; stroke-linecap:round; stroke-linejoin:round; stroke-width:4; stroke-opacity:1; fill:none\" points=\"\n  7656.2,1384.24 7656.2,1384.24 7695.75,1384.24 7656.2,1384.24 \n  \"/>\n<path clip-path=\"url(#clip342)\" d=\"\nM7695.75 1384.24 L7695.75 1384.24 L7735.29 1384.24 L7735.29 1384.24 L7695.75 1384.24 L7695.75 1384.24  Z\n  \" fill=\"#009af9\" fill-rule=\"evenodd\" fill-opacity=\"1\"/>\n<polyline clip-path=\"url(#clip342)\" style=\"stroke:#000000; stroke-linecap:round; stroke-linejoin:round; stroke-width:4; stroke-opacity:1; fill:none\" points=\"\n  7695.75,1384.24 7695.75,1384.24 7735.29,1384.24 7695.75,1384.24 \n  \"/>\n<path clip-path=\"url(#clip342)\" d=\"\nM7735.29 1384.24 L7735.29 1384.24 L7774.84 1384.24 L7774.84 1384.24 L7735.29 1384.24 L7735.29 1384.24  Z\n  \" fill=\"#009af9\" fill-rule=\"evenodd\" fill-opacity=\"1\"/>\n<polyline clip-path=\"url(#clip342)\" style=\"stroke:#000000; stroke-linecap:round; stroke-linejoin:round; stroke-width:4; stroke-opacity:1; fill:none\" points=\"\n  7735.29,1384.24 7735.29,1384.24 7774.84,1384.24 7735.29,1384.24 \n  \"/>\n<path clip-path=\"url(#clip342)\" d=\"\nM7774.84 1384.24 L7774.84 1384.24 L7814.39 1384.24 L7814.39 1384.24 L7774.84 1384.24 L7774.84 1384.24  Z\n  \" fill=\"#009af9\" fill-rule=\"evenodd\" fill-opacity=\"1\"/>\n<polyline clip-path=\"url(#clip342)\" style=\"stroke:#000000; stroke-linecap:round; stroke-linejoin:round; stroke-width:4; stroke-opacity:1; fill:none\" points=\"\n  7774.84,1384.24 7774.84,1384.24 7814.39,1384.24 7774.84,1384.24 \n  \"/>\n<path clip-path=\"url(#clip342)\" d=\"\nM7814.39 1384.24 L7814.39 1384.24 L7853.93 1384.24 L7853.93 1384.24 L7814.39 1384.24 L7814.39 1384.24  Z\n  \" fill=\"#009af9\" fill-rule=\"evenodd\" fill-opacity=\"1\"/>\n<polyline clip-path=\"url(#clip342)\" style=\"stroke:#000000; stroke-linecap:round; stroke-linejoin:round; stroke-width:4; stroke-opacity:1; fill:none\" points=\"\n  7814.39,1384.24 7814.39,1384.24 7853.93,1384.24 7814.39,1384.24 \n  \"/>\n<path clip-path=\"url(#clip342)\" d=\"\nM7853.93 1384.24 L7853.93 1384.24 L7893.48 1384.24 L7893.48 1384.24 L7853.93 1384.24 L7853.93 1384.24  Z\n  \" fill=\"#009af9\" fill-rule=\"evenodd\" fill-opacity=\"1\"/>\n<polyline clip-path=\"url(#clip342)\" style=\"stroke:#000000; stroke-linecap:round; stroke-linejoin:round; stroke-width:4; stroke-opacity:1; fill:none\" points=\"\n  7853.93,1384.24 7853.93,1384.24 7893.48,1384.24 7853.93,1384.24 \n  \"/>\n<path clip-path=\"url(#clip342)\" d=\"\nM7893.48 1384.24 L7893.48 1384.24 L7933.02 1384.24 L7933.02 1384.24 L7893.48 1384.24 L7893.48 1384.24  Z\n  \" fill=\"#009af9\" fill-rule=\"evenodd\" fill-opacity=\"1\"/>\n<polyline clip-path=\"url(#clip342)\" style=\"stroke:#000000; stroke-linecap:round; stroke-linejoin:round; stroke-width:4; stroke-opacity:1; fill:none\" points=\"\n  7893.48,1384.24 7893.48,1384.24 7933.02,1384.24 7893.48,1384.24 \n  \"/>\n<path clip-path=\"url(#clip342)\" d=\"\nM7933.02 1384.24 L7933.02 1384.24 L7972.57 1384.24 L7972.57 1384.24 L7933.02 1384.24 L7933.02 1384.24  Z\n  \" fill=\"#009af9\" fill-rule=\"evenodd\" fill-opacity=\"1\"/>\n<polyline clip-path=\"url(#clip342)\" style=\"stroke:#000000; stroke-linecap:round; stroke-linejoin:round; stroke-width:4; stroke-opacity:1; fill:none\" points=\"\n  7933.02,1384.24 7933.02,1384.24 7972.57,1384.24 7933.02,1384.24 \n  \"/>\n<path clip-path=\"url(#clip342)\" d=\"\nM7972.57 1384.24 L7972.57 1384.24 L8012.12 1384.24 L8012.12 1384.24 L7972.57 1384.24 L7972.57 1384.24  Z\n  \" fill=\"#009af9\" fill-rule=\"evenodd\" fill-opacity=\"1\"/>\n<polyline clip-path=\"url(#clip342)\" style=\"stroke:#000000; stroke-linecap:round; stroke-linejoin:round; stroke-width:4; stroke-opacity:1; fill:none\" points=\"\n  7972.57,1384.24 7972.57,1384.24 8012.12,1384.24 7972.57,1384.24 \n  \"/>\n<path clip-path=\"url(#clip342)\" d=\"\nM8012.12 1384.24 L8012.12 1384.24 L8051.66 1384.24 L8051.66 1384.24 L8012.12 1384.24 L8012.12 1384.24  Z\n  \" fill=\"#009af9\" fill-rule=\"evenodd\" fill-opacity=\"1\"/>\n<polyline clip-path=\"url(#clip342)\" style=\"stroke:#000000; stroke-linecap:round; stroke-linejoin:round; stroke-width:4; stroke-opacity:1; fill:none\" points=\"\n  8012.12,1384.24 8012.12,1384.24 8051.66,1384.24 8012.12,1384.24 \n  \"/>\n<path clip-path=\"url(#clip342)\" d=\"\nM8051.66 1384.24 L8051.66 1384.24 L8091.21 1384.24 L8091.21 1384.24 L8051.66 1384.24 L8051.66 1384.24  Z\n  \" fill=\"#009af9\" fill-rule=\"evenodd\" fill-opacity=\"1\"/>\n<polyline clip-path=\"url(#clip342)\" style=\"stroke:#000000; stroke-linecap:round; stroke-linejoin:round; stroke-width:4; stroke-opacity:1; fill:none\" points=\"\n  8051.66,1384.24 8051.66,1384.24 8091.21,1384.24 8051.66,1384.24 \n  \"/>\n<path clip-path=\"url(#clip342)\" d=\"\nM8091.21 1384.24 L8091.21 1384.24 L8130.76 1384.24 L8130.76 1384.24 L8091.21 1384.24 L8091.21 1384.24  Z\n  \" fill=\"#009af9\" fill-rule=\"evenodd\" fill-opacity=\"1\"/>\n<polyline clip-path=\"url(#clip342)\" style=\"stroke:#000000; stroke-linecap:round; stroke-linejoin:round; stroke-width:4; stroke-opacity:1; fill:none\" points=\"\n  8091.21,1384.24 8091.21,1384.24 8130.76,1384.24 8091.21,1384.24 \n  \"/>\n<path clip-path=\"url(#clip342)\" d=\"\nM8130.76 1384.24 L8130.76 1384.24 L8170.3 1384.24 L8170.3 1384.24 L8130.76 1384.24 L8130.76 1384.24  Z\n  \" fill=\"#009af9\" fill-rule=\"evenodd\" fill-opacity=\"1\"/>\n<polyline clip-path=\"url(#clip342)\" style=\"stroke:#000000; stroke-linecap:round; stroke-linejoin:round; stroke-width:4; stroke-opacity:1; fill:none\" points=\"\n  8130.76,1384.24 8130.76,1384.24 8170.3,1384.24 8130.76,1384.24 \n  \"/>\n<path clip-path=\"url(#clip342)\" d=\"\nM8170.3 1384.24 L8170.3 1384.24 L8209.85 1384.24 L8209.85 1384.24 L8170.3 1384.24 L8170.3 1384.24  Z\n  \" fill=\"#009af9\" fill-rule=\"evenodd\" fill-opacity=\"1\"/>\n<polyline clip-path=\"url(#clip342)\" style=\"stroke:#000000; stroke-linecap:round; stroke-linejoin:round; stroke-width:4; stroke-opacity:1; fill:none\" points=\"\n  8170.3,1384.24 8170.3,1384.24 8209.85,1384.24 8170.3,1384.24 \n  \"/>\n<path clip-path=\"url(#clip342)\" d=\"\nM8209.85 1384.24 L8209.85 1384.24 L8249.39 1384.24 L8249.39 1384.24 L8209.85 1384.24 L8209.85 1384.24  Z\n  \" fill=\"#009af9\" fill-rule=\"evenodd\" fill-opacity=\"1\"/>\n<polyline clip-path=\"url(#clip342)\" style=\"stroke:#000000; stroke-linecap:round; stroke-linejoin:round; stroke-width:4; stroke-opacity:1; fill:none\" points=\"\n  8209.85,1384.24 8209.85,1384.24 8249.39,1384.24 8209.85,1384.24 \n  \"/>\n<path clip-path=\"url(#clip342)\" d=\"\nM8249.39 1384.24 L8249.39 1384.24 L8288.94 1384.24 L8288.94 1384.24 L8249.39 1384.24 L8249.39 1384.24  Z\n  \" fill=\"#009af9\" fill-rule=\"evenodd\" fill-opacity=\"1\"/>\n<polyline clip-path=\"url(#clip342)\" style=\"stroke:#000000; stroke-linecap:round; stroke-linejoin:round; stroke-width:4; stroke-opacity:1; fill:none\" points=\"\n  8249.39,1384.24 8249.39,1384.24 8288.94,1384.24 8249.39,1384.24 \n  \"/>\n<path clip-path=\"url(#clip342)\" d=\"\nM8288.94 1384.24 L8288.94 1384.24 L8328.49 1384.24 L8328.49 1384.24 L8288.94 1384.24 L8288.94 1384.24  Z\n  \" fill=\"#009af9\" fill-rule=\"evenodd\" fill-opacity=\"1\"/>\n<polyline clip-path=\"url(#clip342)\" style=\"stroke:#000000; stroke-linecap:round; stroke-linejoin:round; stroke-width:4; stroke-opacity:1; fill:none\" points=\"\n  8288.94,1384.24 8288.94,1384.24 8328.49,1384.24 8288.94,1384.24 \n  \"/>\n<path clip-path=\"url(#clip342)\" d=\"\nM8328.49 1384.24 L8328.49 1384.24 L8368.03 1384.24 L8368.03 1384.24 L8328.49 1384.24 L8328.49 1384.24  Z\n  \" fill=\"#009af9\" fill-rule=\"evenodd\" fill-opacity=\"1\"/>\n<polyline clip-path=\"url(#clip342)\" style=\"stroke:#000000; stroke-linecap:round; stroke-linejoin:round; stroke-width:4; stroke-opacity:1; fill:none\" points=\"\n  8328.49,1384.24 8328.49,1384.24 8368.03,1384.24 8328.49,1384.24 \n  \"/>\n<path clip-path=\"url(#clip342)\" d=\"\nM8368.03 1384.24 L8368.03 1384.24 L8407.58 1384.24 L8407.58 1384.24 L8368.03 1384.24 L8368.03 1384.24  Z\n  \" fill=\"#009af9\" fill-rule=\"evenodd\" fill-opacity=\"1\"/>\n<polyline clip-path=\"url(#clip342)\" style=\"stroke:#000000; stroke-linecap:round; stroke-linejoin:round; stroke-width:4; stroke-opacity:1; fill:none\" points=\"\n  8368.03,1384.24 8368.03,1384.24 8407.58,1384.24 8368.03,1384.24 \n  \"/>\n<path clip-path=\"url(#clip342)\" d=\"\nM8407.58 1384.24 L8407.58 1384.24 L8447.13 1384.24 L8447.13 1384.24 L8407.58 1384.24 L8407.58 1384.24  Z\n  \" fill=\"#009af9\" fill-rule=\"evenodd\" fill-opacity=\"1\"/>\n<polyline clip-path=\"url(#clip342)\" style=\"stroke:#000000; stroke-linecap:round; stroke-linejoin:round; stroke-width:4; stroke-opacity:1; fill:none\" points=\"\n  8407.58,1384.24 8407.58,1384.24 8447.13,1384.24 8407.58,1384.24 \n  \"/>\n<path clip-path=\"url(#clip342)\" d=\"\nM8447.13 1384.24 L8447.13 1384.24 L8486.67 1384.24 L8486.67 1384.24 L8447.13 1384.24 L8447.13 1384.24  Z\n  \" fill=\"#009af9\" fill-rule=\"evenodd\" fill-opacity=\"1\"/>\n<polyline clip-path=\"url(#clip342)\" style=\"stroke:#000000; stroke-linecap:round; stroke-linejoin:round; stroke-width:4; stroke-opacity:1; fill:none\" points=\"\n  8447.13,1384.24 8447.13,1384.24 8486.67,1384.24 8447.13,1384.24 \n  \"/>\n<path clip-path=\"url(#clip342)\" d=\"\nM8486.67 1384.24 L8486.67 1384.24 L8526.22 1384.24 L8526.22 1384.24 L8486.67 1384.24 L8486.67 1384.24  Z\n  \" fill=\"#009af9\" fill-rule=\"evenodd\" fill-opacity=\"1\"/>\n<polyline clip-path=\"url(#clip342)\" style=\"stroke:#000000; stroke-linecap:round; stroke-linejoin:round; stroke-width:4; stroke-opacity:1; fill:none\" points=\"\n  8486.67,1384.24 8486.67,1384.24 8526.22,1384.24 8486.67,1384.24 \n  \"/>\n<path clip-path=\"url(#clip342)\" d=\"\nM8526.22 1384.24 L8526.22 1384.24 L8565.76 1384.24 L8565.76 1384.24 L8526.22 1384.24 L8526.22 1384.24  Z\n  \" fill=\"#009af9\" fill-rule=\"evenodd\" fill-opacity=\"1\"/>\n<polyline clip-path=\"url(#clip342)\" style=\"stroke:#000000; stroke-linecap:round; stroke-linejoin:round; stroke-width:4; stroke-opacity:1; fill:none\" points=\"\n  8526.22,1384.24 8526.22,1384.24 8565.76,1384.24 8526.22,1384.24 \n  \"/>\n<path clip-path=\"url(#clip342)\" d=\"\nM8565.76 1384.24 L8565.76 1384.24 L8605.31 1384.24 L8605.31 1384.24 L8565.76 1384.24 L8565.76 1384.24  Z\n  \" fill=\"#009af9\" fill-rule=\"evenodd\" fill-opacity=\"1\"/>\n<polyline clip-path=\"url(#clip342)\" style=\"stroke:#000000; stroke-linecap:round; stroke-linejoin:round; stroke-width:4; stroke-opacity:1; fill:none\" points=\"\n  8565.76,1384.24 8565.76,1384.24 8605.31,1384.24 8565.76,1384.24 \n  \"/>\n<path clip-path=\"url(#clip342)\" d=\"\nM8605.31 1384.24 L8605.31 1384.24 L8644.86 1384.24 L8644.86 1384.24 L8605.31 1384.24 L8605.31 1384.24  Z\n  \" fill=\"#009af9\" fill-rule=\"evenodd\" fill-opacity=\"1\"/>\n<polyline clip-path=\"url(#clip342)\" style=\"stroke:#000000; stroke-linecap:round; stroke-linejoin:round; stroke-width:4; stroke-opacity:1; fill:none\" points=\"\n  8605.31,1384.24 8605.31,1384.24 8644.86,1384.24 8605.31,1384.24 \n  \"/>\n<path clip-path=\"url(#clip342)\" d=\"\nM8644.86 1384.24 L8644.86 1384.24 L8684.4 1384.24 L8684.4 1384.24 L8644.86 1384.24 L8644.86 1384.24  Z\n  \" fill=\"#009af9\" fill-rule=\"evenodd\" fill-opacity=\"1\"/>\n<polyline clip-path=\"url(#clip342)\" style=\"stroke:#000000; stroke-linecap:round; stroke-linejoin:round; stroke-width:4; stroke-opacity:1; fill:none\" points=\"\n  8644.86,1384.24 8644.86,1384.24 8684.4,1384.24 8644.86,1384.24 \n  \"/>\n<path clip-path=\"url(#clip342)\" d=\"\nM8684.4 1384.24 L8684.4 1384.24 L8723.95 1384.24 L8723.95 1384.24 L8684.4 1384.24 L8684.4 1384.24  Z\n  \" fill=\"#009af9\" fill-rule=\"evenodd\" fill-opacity=\"1\"/>\n<polyline clip-path=\"url(#clip342)\" style=\"stroke:#000000; stroke-linecap:round; stroke-linejoin:round; stroke-width:4; stroke-opacity:1; fill:none\" points=\"\n  8684.4,1384.24 8684.4,1384.24 8723.95,1384.24 8684.4,1384.24 \n  \"/>\n<path clip-path=\"url(#clip342)\" d=\"\nM8723.95 1384.24 L8723.95 1384.24 L8763.5 1384.24 L8763.5 1384.24 L8723.95 1384.24 L8723.95 1384.24  Z\n  \" fill=\"#009af9\" fill-rule=\"evenodd\" fill-opacity=\"1\"/>\n<polyline clip-path=\"url(#clip342)\" style=\"stroke:#000000; stroke-linecap:round; stroke-linejoin:round; stroke-width:4; stroke-opacity:1; fill:none\" points=\"\n  8723.95,1384.24 8723.95,1384.24 8763.5,1384.24 8723.95,1384.24 \n  \"/>\n<path clip-path=\"url(#clip342)\" d=\"\nM8763.5 1384.24 L8763.5 1384.24 L8803.04 1384.24 L8803.04 1384.24 L8763.5 1384.24 L8763.5 1384.24  Z\n  \" fill=\"#009af9\" fill-rule=\"evenodd\" fill-opacity=\"1\"/>\n<polyline clip-path=\"url(#clip342)\" style=\"stroke:#000000; stroke-linecap:round; stroke-linejoin:round; stroke-width:4; stroke-opacity:1; fill:none\" points=\"\n  8763.5,1384.24 8763.5,1384.24 8803.04,1384.24 8763.5,1384.24 \n  \"/>\n<path clip-path=\"url(#clip342)\" d=\"\nM8803.04 1384.24 L8803.04 1384.24 L8842.59 1384.24 L8842.59 1384.24 L8803.04 1384.24 L8803.04 1384.24  Z\n  \" fill=\"#009af9\" fill-rule=\"evenodd\" fill-opacity=\"1\"/>\n<polyline clip-path=\"url(#clip342)\" style=\"stroke:#000000; stroke-linecap:round; stroke-linejoin:round; stroke-width:4; stroke-opacity:1; fill:none\" points=\"\n  8803.04,1384.24 8803.04,1384.24 8842.59,1384.24 8803.04,1384.24 \n  \"/>\n<path clip-path=\"url(#clip342)\" d=\"\nM8842.59 1384.24 L8842.59 1384.24 L8882.14 1384.24 L8882.14 1384.24 L8842.59 1384.24 L8842.59 1384.24  Z\n  \" fill=\"#009af9\" fill-rule=\"evenodd\" fill-opacity=\"1\"/>\n<polyline clip-path=\"url(#clip342)\" style=\"stroke:#000000; stroke-linecap:round; stroke-linejoin:round; stroke-width:4; stroke-opacity:1; fill:none\" points=\"\n  8842.59,1384.24 8842.59,1384.24 8882.14,1384.24 8842.59,1384.24 \n  \"/>\n<path clip-path=\"url(#clip342)\" d=\"\nM8882.14 1384.24 L8882.14 1384.24 L8921.68 1384.24 L8921.68 1384.24 L8882.14 1384.24 L8882.14 1384.24  Z\n  \" fill=\"#009af9\" fill-rule=\"evenodd\" fill-opacity=\"1\"/>\n<polyline clip-path=\"url(#clip342)\" style=\"stroke:#000000; stroke-linecap:round; stroke-linejoin:round; stroke-width:4; stroke-opacity:1; fill:none\" points=\"\n  8882.14,1384.24 8882.14,1384.24 8921.68,1384.24 8882.14,1384.24 \n  \"/>\n<path clip-path=\"url(#clip342)\" d=\"\nM8921.68 1384.24 L8921.68 1384.24 L8961.23 1384.24 L8961.23 1384.24 L8921.68 1384.24 L8921.68 1384.24  Z\n  \" fill=\"#009af9\" fill-rule=\"evenodd\" fill-opacity=\"1\"/>\n<polyline clip-path=\"url(#clip342)\" style=\"stroke:#000000; stroke-linecap:round; stroke-linejoin:round; stroke-width:4; stroke-opacity:1; fill:none\" points=\"\n  8921.68,1384.24 8921.68,1384.24 8961.23,1384.24 8921.68,1384.24 \n  \"/>\n<path clip-path=\"url(#clip342)\" d=\"\nM8961.23 1384.24 L8961.23 1384.24 L9000.77 1384.24 L9000.77 1384.24 L8961.23 1384.24 L8961.23 1384.24  Z\n  \" fill=\"#009af9\" fill-rule=\"evenodd\" fill-opacity=\"1\"/>\n<polyline clip-path=\"url(#clip342)\" style=\"stroke:#000000; stroke-linecap:round; stroke-linejoin:round; stroke-width:4; stroke-opacity:1; fill:none\" points=\"\n  8961.23,1384.24 8961.23,1384.24 9000.77,1384.24 8961.23,1384.24 \n  \"/>\n<path clip-path=\"url(#clip342)\" d=\"\nM9000.77 1384.24 L9000.77 1384.24 L9040.32 1384.24 L9040.32 1384.24 L9000.77 1384.24 L9000.77 1384.24  Z\n  \" fill=\"#009af9\" fill-rule=\"evenodd\" fill-opacity=\"1\"/>\n<polyline clip-path=\"url(#clip342)\" style=\"stroke:#000000; stroke-linecap:round; stroke-linejoin:round; stroke-width:4; stroke-opacity:1; fill:none\" points=\"\n  9000.77,1384.24 9000.77,1384.24 9040.32,1384.24 9000.77,1384.24 \n  \"/>\n<path clip-path=\"url(#clip342)\" d=\"\nM9040.32 1384.24 L9040.32 1384.24 L9079.87 1384.24 L9079.87 1384.24 L9040.32 1384.24 L9040.32 1384.24  Z\n  \" fill=\"#009af9\" fill-rule=\"evenodd\" fill-opacity=\"1\"/>\n<polyline clip-path=\"url(#clip342)\" style=\"stroke:#000000; stroke-linecap:round; stroke-linejoin:round; stroke-width:4; stroke-opacity:1; fill:none\" points=\"\n  9040.32,1384.24 9040.32,1384.24 9079.87,1384.24 9040.32,1384.24 \n  \"/>\n<path clip-path=\"url(#clip342)\" d=\"\nM9079.87 1384.24 L9079.87 1384.24 L9119.41 1384.24 L9119.41 1384.24 L9079.87 1384.24 L9079.87 1384.24  Z\n  \" fill=\"#009af9\" fill-rule=\"evenodd\" fill-opacity=\"1\"/>\n<polyline clip-path=\"url(#clip342)\" style=\"stroke:#000000; stroke-linecap:round; stroke-linejoin:round; stroke-width:4; stroke-opacity:1; fill:none\" points=\"\n  9079.87,1384.24 9079.87,1384.24 9119.41,1384.24 9079.87,1384.24 \n  \"/>\n<path clip-path=\"url(#clip342)\" d=\"\nM9119.41 1384.24 L9119.41 1384.24 L9158.96 1384.24 L9158.96 1384.24 L9119.41 1384.24 L9119.41 1384.24  Z\n  \" fill=\"#009af9\" fill-rule=\"evenodd\" fill-opacity=\"1\"/>\n<polyline clip-path=\"url(#clip342)\" style=\"stroke:#000000; stroke-linecap:round; stroke-linejoin:round; stroke-width:4; stroke-opacity:1; fill:none\" points=\"\n  9119.41,1384.24 9119.41,1384.24 9158.96,1384.24 9119.41,1384.24 \n  \"/>\n<path clip-path=\"url(#clip342)\" d=\"\nM9158.96 1384.24 L9158.96 1384.24 L9198.51 1384.24 L9198.51 1384.24 L9158.96 1384.24 L9158.96 1384.24  Z\n  \" fill=\"#009af9\" fill-rule=\"evenodd\" fill-opacity=\"1\"/>\n<polyline clip-path=\"url(#clip342)\" style=\"stroke:#000000; stroke-linecap:round; stroke-linejoin:round; stroke-width:4; stroke-opacity:1; fill:none\" points=\"\n  9158.96,1384.24 9158.96,1384.24 9198.51,1384.24 9158.96,1384.24 \n  \"/>\n<path clip-path=\"url(#clip342)\" d=\"\nM9198.51 1384.24 L9198.51 1384.24 L9238.05 1384.24 L9238.05 1384.24 L9198.51 1384.24 L9198.51 1384.24  Z\n  \" fill=\"#009af9\" fill-rule=\"evenodd\" fill-opacity=\"1\"/>\n<polyline clip-path=\"url(#clip342)\" style=\"stroke:#000000; stroke-linecap:round; stroke-linejoin:round; stroke-width:4; stroke-opacity:1; fill:none\" points=\"\n  9198.51,1384.24 9198.51,1384.24 9238.05,1384.24 9198.51,1384.24 \n  \"/>\n<path clip-path=\"url(#clip342)\" d=\"\nM9238.05 1384.24 L9238.05 1384.24 L9277.6 1384.24 L9277.6 1384.24 L9238.05 1384.24 L9238.05 1384.24  Z\n  \" fill=\"#009af9\" fill-rule=\"evenodd\" fill-opacity=\"1\"/>\n<polyline clip-path=\"url(#clip342)\" style=\"stroke:#000000; stroke-linecap:round; stroke-linejoin:round; stroke-width:4; stroke-opacity:1; fill:none\" points=\"\n  9238.05,1384.24 9238.05,1384.24 9277.6,1384.24 9238.05,1384.24 \n  \"/>\n<path clip-path=\"url(#clip342)\" d=\"\nM9277.6 1384.24 L9277.6 1384.24 L9317.14 1384.24 L9317.14 1384.24 L9277.6 1384.24 L9277.6 1384.24  Z\n  \" fill=\"#009af9\" fill-rule=\"evenodd\" fill-opacity=\"1\"/>\n<polyline clip-path=\"url(#clip342)\" style=\"stroke:#000000; stroke-linecap:round; stroke-linejoin:round; stroke-width:4; stroke-opacity:1; fill:none\" points=\"\n  9277.6,1384.24 9277.6,1384.24 9317.14,1384.24 9277.6,1384.24 \n  \"/>\n<path clip-path=\"url(#clip342)\" d=\"\nM9317.14 1384.24 L9317.14 1384.24 L9356.69 1384.24 L9356.69 1384.24 L9317.14 1384.24 L9317.14 1384.24  Z\n  \" fill=\"#009af9\" fill-rule=\"evenodd\" fill-opacity=\"1\"/>\n<polyline clip-path=\"url(#clip342)\" style=\"stroke:#000000; stroke-linecap:round; stroke-linejoin:round; stroke-width:4; stroke-opacity:1; fill:none\" points=\"\n  9317.14,1384.24 9317.14,1384.24 9356.69,1384.24 9317.14,1384.24 \n  \"/>\n<path clip-path=\"url(#clip342)\" d=\"\nM9356.69 1384.24 L9356.69 1384.24 L9396.24 1384.24 L9396.24 1384.24 L9356.69 1384.24 L9356.69 1384.24  Z\n  \" fill=\"#009af9\" fill-rule=\"evenodd\" fill-opacity=\"1\"/>\n<polyline clip-path=\"url(#clip342)\" style=\"stroke:#000000; stroke-linecap:round; stroke-linejoin:round; stroke-width:4; stroke-opacity:1; fill:none\" points=\"\n  9356.69,1384.24 9356.69,1384.24 9396.24,1384.24 9356.69,1384.24 \n  \"/>\n<path clip-path=\"url(#clip342)\" d=\"\nM9396.24 1384.24 L9396.24 1384.24 L9435.78 1384.24 L9435.78 1384.24 L9396.24 1384.24 L9396.24 1384.24  Z\n  \" fill=\"#009af9\" fill-rule=\"evenodd\" fill-opacity=\"1\"/>\n<polyline clip-path=\"url(#clip342)\" style=\"stroke:#000000; stroke-linecap:round; stroke-linejoin:round; stroke-width:4; stroke-opacity:1; fill:none\" points=\"\n  9396.24,1384.24 9396.24,1384.24 9435.78,1384.24 9396.24,1384.24 \n  \"/>\n<path clip-path=\"url(#clip342)\" d=\"\nM9435.78 1384.24 L9435.78 1384.24 L9475.33 1384.24 L9475.33 1384.24 L9435.78 1384.24 L9435.78 1384.24  Z\n  \" fill=\"#009af9\" fill-rule=\"evenodd\" fill-opacity=\"1\"/>\n<polyline clip-path=\"url(#clip342)\" style=\"stroke:#000000; stroke-linecap:round; stroke-linejoin:round; stroke-width:4; stroke-opacity:1; fill:none\" points=\"\n  9435.78,1384.24 9435.78,1384.24 9475.33,1384.24 9435.78,1384.24 \n  \"/>\n<path clip-path=\"url(#clip342)\" d=\"\nM9475.33 1384.24 L9475.33 1384.24 L9514.88 1384.24 L9514.88 1384.24 L9475.33 1384.24 L9475.33 1384.24  Z\n  \" fill=\"#009af9\" fill-rule=\"evenodd\" fill-opacity=\"1\"/>\n<polyline clip-path=\"url(#clip342)\" style=\"stroke:#000000; stroke-linecap:round; stroke-linejoin:round; stroke-width:4; stroke-opacity:1; fill:none\" points=\"\n  9475.33,1384.24 9475.33,1384.24 9514.88,1384.24 9475.33,1384.24 \n  \"/>\n<path clip-path=\"url(#clip342)\" d=\"\nM9514.88 1384.24 L9514.88 1384.24 L9554.42 1384.24 L9554.42 1384.24 L9514.88 1384.24 L9514.88 1384.24  Z\n  \" fill=\"#009af9\" fill-rule=\"evenodd\" fill-opacity=\"1\"/>\n<polyline clip-path=\"url(#clip342)\" style=\"stroke:#000000; stroke-linecap:round; stroke-linejoin:round; stroke-width:4; stroke-opacity:1; fill:none\" points=\"\n  9514.88,1384.24 9514.88,1384.24 9554.42,1384.24 9514.88,1384.24 \n  \"/>\n<path clip-path=\"url(#clip342)\" d=\"\nM9554.42 1384.24 L9554.42 1384.24 L9593.97 1384.24 L9593.97 1384.24 L9554.42 1384.24 L9554.42 1384.24  Z\n  \" fill=\"#009af9\" fill-rule=\"evenodd\" fill-opacity=\"1\"/>\n<polyline clip-path=\"url(#clip342)\" style=\"stroke:#000000; stroke-linecap:round; stroke-linejoin:round; stroke-width:4; stroke-opacity:1; fill:none\" points=\"\n  9554.42,1384.24 9554.42,1384.24 9593.97,1384.24 9554.42,1384.24 \n  \"/>\n<path clip-path=\"url(#clip342)\" d=\"\nM9593.97 1384.24 L9593.97 1384.24 L9633.51 1384.24 L9633.51 1384.24 L9593.97 1384.24 L9593.97 1384.24  Z\n  \" fill=\"#009af9\" fill-rule=\"evenodd\" fill-opacity=\"1\"/>\n<polyline clip-path=\"url(#clip342)\" style=\"stroke:#000000; stroke-linecap:round; stroke-linejoin:round; stroke-width:4; stroke-opacity:1; fill:none\" points=\"\n  9593.97,1384.24 9593.97,1384.24 9633.51,1384.24 9593.97,1384.24 \n  \"/>\n<path clip-path=\"url(#clip342)\" d=\"\nM9633.51 1384.24 L9633.51 1384.24 L9673.06 1384.24 L9673.06 1384.24 L9633.51 1384.24 L9633.51 1384.24  Z\n  \" fill=\"#009af9\" fill-rule=\"evenodd\" fill-opacity=\"1\"/>\n<polyline clip-path=\"url(#clip342)\" style=\"stroke:#000000; stroke-linecap:round; stroke-linejoin:round; stroke-width:4; stroke-opacity:1; fill:none\" points=\"\n  9633.51,1384.24 9633.51,1384.24 9673.06,1384.24 9633.51,1384.24 \n  \"/>\n<path clip-path=\"url(#clip342)\" d=\"\nM9673.06 1384.24 L9673.06 1384.24 L9712.61 1384.24 L9712.61 1384.24 L9673.06 1384.24 L9673.06 1384.24  Z\n  \" fill=\"#009af9\" fill-rule=\"evenodd\" fill-opacity=\"1\"/>\n<polyline clip-path=\"url(#clip342)\" style=\"stroke:#000000; stroke-linecap:round; stroke-linejoin:round; stroke-width:4; stroke-opacity:1; fill:none\" points=\"\n  9673.06,1384.24 9673.06,1384.24 9712.61,1384.24 9673.06,1384.24 \n  \"/>\n<path clip-path=\"url(#clip342)\" d=\"\nM9712.61 1384.24 L9712.61 1384.24 L9752.15 1384.24 L9752.15 1384.24 L9712.61 1384.24 L9712.61 1384.24  Z\n  \" fill=\"#009af9\" fill-rule=\"evenodd\" fill-opacity=\"1\"/>\n<polyline clip-path=\"url(#clip342)\" style=\"stroke:#000000; stroke-linecap:round; stroke-linejoin:round; stroke-width:4; stroke-opacity:1; fill:none\" points=\"\n  9712.61,1384.24 9712.61,1384.24 9752.15,1384.24 9712.61,1384.24 \n  \"/>\n<path clip-path=\"url(#clip342)\" d=\"\nM9752.15 1384.24 L9752.15 1384.24 L9791.7 1384.24 L9791.7 1384.24 L9752.15 1384.24 L9752.15 1384.24  Z\n  \" fill=\"#009af9\" fill-rule=\"evenodd\" fill-opacity=\"1\"/>\n<polyline clip-path=\"url(#clip342)\" style=\"stroke:#000000; stroke-linecap:round; stroke-linejoin:round; stroke-width:4; stroke-opacity:1; fill:none\" points=\"\n  9752.15,1384.24 9752.15,1384.24 9791.7,1384.24 9752.15,1384.24 \n  \"/>\n<path clip-path=\"url(#clip342)\" d=\"\nM9791.7 1384.24 L9791.7 1384.24 L9831.25 1384.24 L9831.25 1384.24 L9791.7 1384.24 L9791.7 1384.24  Z\n  \" fill=\"#009af9\" fill-rule=\"evenodd\" fill-opacity=\"1\"/>\n<polyline clip-path=\"url(#clip342)\" style=\"stroke:#000000; stroke-linecap:round; stroke-linejoin:round; stroke-width:4; stroke-opacity:1; fill:none\" points=\"\n  9791.7,1384.24 9791.7,1384.24 9831.25,1384.24 9791.7,1384.24 \n  \"/>\n<path clip-path=\"url(#clip342)\" d=\"\nM9831.25 1384.24 L9831.25 1384.24 L9870.79 1384.24 L9870.79 1384.24 L9831.25 1384.24 L9831.25 1384.24  Z\n  \" fill=\"#009af9\" fill-rule=\"evenodd\" fill-opacity=\"1\"/>\n<polyline clip-path=\"url(#clip342)\" style=\"stroke:#000000; stroke-linecap:round; stroke-linejoin:round; stroke-width:4; stroke-opacity:1; fill:none\" points=\"\n  9831.25,1384.24 9831.25,1384.24 9870.79,1384.24 9831.25,1384.24 \n  \"/>\n<path clip-path=\"url(#clip342)\" d=\"\nM9870.79 1384.24 L9870.79 1384.24 L9910.34 1384.24 L9910.34 1384.24 L9870.79 1384.24 L9870.79 1384.24  Z\n  \" fill=\"#009af9\" fill-rule=\"evenodd\" fill-opacity=\"1\"/>\n<polyline clip-path=\"url(#clip342)\" style=\"stroke:#000000; stroke-linecap:round; stroke-linejoin:round; stroke-width:4; stroke-opacity:1; fill:none\" points=\"\n  9870.79,1384.24 9870.79,1384.24 9910.34,1384.24 9870.79,1384.24 \n  \"/>\n<path clip-path=\"url(#clip342)\" d=\"\nM9910.34 1384.24 L9910.34 1384.24 L9949.89 1384.24 L9949.89 1384.24 L9910.34 1384.24 L9910.34 1384.24  Z\n  \" fill=\"#009af9\" fill-rule=\"evenodd\" fill-opacity=\"1\"/>\n<polyline clip-path=\"url(#clip342)\" style=\"stroke:#000000; stroke-linecap:round; stroke-linejoin:round; stroke-width:4; stroke-opacity:1; fill:none\" points=\"\n  9910.34,1384.24 9910.34,1384.24 9949.89,1384.24 9910.34,1384.24 \n  \"/>\n<path clip-path=\"url(#clip342)\" d=\"\nM9949.89 1254.43 L9949.89 1384.24 L9989.43 1384.24 L9989.43 1254.43 L9949.89 1254.43 L9949.89 1254.43  Z\n  \" fill=\"#009af9\" fill-rule=\"evenodd\" fill-opacity=\"1\"/>\n<polyline clip-path=\"url(#clip342)\" style=\"stroke:#000000; stroke-linecap:round; stroke-linejoin:round; stroke-width:4; stroke-opacity:1; fill:none\" points=\"\n  9949.89,1254.43 9949.89,1384.24 9989.43,1384.24 9989.43,1254.43 9949.89,1254.43 \n  \"/>\n<path clip-path=\"url(#clip342)\" d=\"\nM9989.43 1384.24 L9989.43 1384.24 L10029 1384.24 L10029 1384.24 L9989.43 1384.24 L9989.43 1384.24  Z\n  \" fill=\"#009af9\" fill-rule=\"evenodd\" fill-opacity=\"1\"/>\n<polyline clip-path=\"url(#clip342)\" style=\"stroke:#000000; stroke-linecap:round; stroke-linejoin:round; stroke-width:4; stroke-opacity:1; fill:none\" points=\"\n  9989.43,1384.24 9989.43,1384.24 10029,1384.24 9989.43,1384.24 \n  \"/>\n<path clip-path=\"url(#clip342)\" d=\"\nM10029 1384.24 L10029 1384.24 L10068.5 1384.24 L10068.5 1384.24 L10029 1384.24 L10029 1384.24  Z\n  \" fill=\"#009af9\" fill-rule=\"evenodd\" fill-opacity=\"1\"/>\n<polyline clip-path=\"url(#clip342)\" style=\"stroke:#000000; stroke-linecap:round; stroke-linejoin:round; stroke-width:4; stroke-opacity:1; fill:none\" points=\"\n  10029,1384.24 10029,1384.24 10068.5,1384.24 10029,1384.24 \n  \"/>\n<path clip-path=\"url(#clip342)\" d=\"\nM10068.5 1384.24 L10068.5 1384.24 L10108.1 1384.24 L10108.1 1384.24 L10068.5 1384.24 L10068.5 1384.24  Z\n  \" fill=\"#009af9\" fill-rule=\"evenodd\" fill-opacity=\"1\"/>\n<polyline clip-path=\"url(#clip342)\" style=\"stroke:#000000; stroke-linecap:round; stroke-linejoin:round; stroke-width:4; stroke-opacity:1; fill:none\" points=\"\n  10068.5,1384.24 10068.5,1384.24 10108.1,1384.24 10068.5,1384.24 \n  \"/>\n<path clip-path=\"url(#clip342)\" d=\"\nM10108.1 1384.24 L10108.1 1384.24 L10147.6 1384.24 L10147.6 1384.24 L10108.1 1384.24 L10108.1 1384.24  Z\n  \" fill=\"#009af9\" fill-rule=\"evenodd\" fill-opacity=\"1\"/>\n<polyline clip-path=\"url(#clip342)\" style=\"stroke:#000000; stroke-linecap:round; stroke-linejoin:round; stroke-width:4; stroke-opacity:1; fill:none\" points=\"\n  10108.1,1384.24 10108.1,1384.24 10147.6,1384.24 10108.1,1384.24 \n  \"/>\n<path clip-path=\"url(#clip342)\" d=\"\nM10147.6 1384.24 L10147.6 1384.24 L10187.2 1384.24 L10187.2 1384.24 L10147.6 1384.24 L10147.6 1384.24  Z\n  \" fill=\"#009af9\" fill-rule=\"evenodd\" fill-opacity=\"1\"/>\n<polyline clip-path=\"url(#clip342)\" style=\"stroke:#000000; stroke-linecap:round; stroke-linejoin:round; stroke-width:4; stroke-opacity:1; fill:none\" points=\"\n  10147.6,1384.24 10147.6,1384.24 10187.2,1384.24 10147.6,1384.24 \n  \"/>\n<path clip-path=\"url(#clip342)\" d=\"\nM10187.2 1384.24 L10187.2 1384.24 L10226.7 1384.24 L10226.7 1384.24 L10187.2 1384.24 L10187.2 1384.24  Z\n  \" fill=\"#009af9\" fill-rule=\"evenodd\" fill-opacity=\"1\"/>\n<polyline clip-path=\"url(#clip342)\" style=\"stroke:#000000; stroke-linecap:round; stroke-linejoin:round; stroke-width:4; stroke-opacity:1; fill:none\" points=\"\n  10187.2,1384.24 10187.2,1384.24 10226.7,1384.24 10187.2,1384.24 \n  \"/>\n<path clip-path=\"url(#clip342)\" d=\"\nM10226.7 1254.43 L10226.7 1384.24 L10266.3 1384.24 L10266.3 1254.43 L10226.7 1254.43 L10226.7 1254.43  Z\n  \" fill=\"#009af9\" fill-rule=\"evenodd\" fill-opacity=\"1\"/>\n<polyline clip-path=\"url(#clip342)\" style=\"stroke:#000000; stroke-linecap:round; stroke-linejoin:round; stroke-width:4; stroke-opacity:1; fill:none\" points=\"\n  10226.7,1254.43 10226.7,1384.24 10266.3,1384.24 10266.3,1254.43 10226.7,1254.43 \n  \"/>\n<path clip-path=\"url(#clip342)\" d=\"\nM10266.3 1384.24 L10266.3 1384.24 L10305.8 1384.24 L10305.8 1384.24 L10266.3 1384.24 L10266.3 1384.24  Z\n  \" fill=\"#009af9\" fill-rule=\"evenodd\" fill-opacity=\"1\"/>\n<polyline clip-path=\"url(#clip342)\" style=\"stroke:#000000; stroke-linecap:round; stroke-linejoin:round; stroke-width:4; stroke-opacity:1; fill:none\" points=\"\n  10266.3,1384.24 10266.3,1384.24 10305.8,1384.24 10266.3,1384.24 \n  \"/>\n<path clip-path=\"url(#clip342)\" d=\"\nM10305.8 1384.24 L10305.8 1384.24 L10345.3 1384.24 L10345.3 1384.24 L10305.8 1384.24 L10305.8 1384.24  Z\n  \" fill=\"#009af9\" fill-rule=\"evenodd\" fill-opacity=\"1\"/>\n<polyline clip-path=\"url(#clip342)\" style=\"stroke:#000000; stroke-linecap:round; stroke-linejoin:round; stroke-width:4; stroke-opacity:1; fill:none\" points=\"\n  10305.8,1384.24 10305.8,1384.24 10345.3,1384.24 10305.8,1384.24 \n  \"/>\n<path clip-path=\"url(#clip342)\" d=\"\nM10345.3 1384.24 L10345.3 1384.24 L10384.9 1384.24 L10384.9 1384.24 L10345.3 1384.24 L10345.3 1384.24  Z\n  \" fill=\"#009af9\" fill-rule=\"evenodd\" fill-opacity=\"1\"/>\n<polyline clip-path=\"url(#clip342)\" style=\"stroke:#000000; stroke-linecap:round; stroke-linejoin:round; stroke-width:4; stroke-opacity:1; fill:none\" points=\"\n  10345.3,1384.24 10345.3,1384.24 10384.9,1384.24 10345.3,1384.24 \n  \"/>\n<path clip-path=\"url(#clip342)\" d=\"\nM10384.9 1384.24 L10384.9 1384.24 L10424.4 1384.24 L10424.4 1384.24 L10384.9 1384.24 L10384.9 1384.24  Z\n  \" fill=\"#009af9\" fill-rule=\"evenodd\" fill-opacity=\"1\"/>\n<polyline clip-path=\"url(#clip342)\" style=\"stroke:#000000; stroke-linecap:round; stroke-linejoin:round; stroke-width:4; stroke-opacity:1; fill:none\" points=\"\n  10384.9,1384.24 10384.9,1384.24 10424.4,1384.24 10384.9,1384.24 \n  \"/>\n<path clip-path=\"url(#clip342)\" d=\"\nM10424.4 1384.24 L10424.4 1384.24 L10464 1384.24 L10464 1384.24 L10424.4 1384.24 L10424.4 1384.24  Z\n  \" fill=\"#009af9\" fill-rule=\"evenodd\" fill-opacity=\"1\"/>\n<polyline clip-path=\"url(#clip342)\" style=\"stroke:#000000; stroke-linecap:round; stroke-linejoin:round; stroke-width:4; stroke-opacity:1; fill:none\" points=\"\n  10424.4,1384.24 10424.4,1384.24 10464,1384.24 10424.4,1384.24 \n  \"/>\n<path clip-path=\"url(#clip342)\" d=\"\nM10464 1384.24 L10464 1384.24 L10503.5 1384.24 L10503.5 1384.24 L10464 1384.24 L10464 1384.24  Z\n  \" fill=\"#009af9\" fill-rule=\"evenodd\" fill-opacity=\"1\"/>\n<polyline clip-path=\"url(#clip342)\" style=\"stroke:#000000; stroke-linecap:round; stroke-linejoin:round; stroke-width:4; stroke-opacity:1; fill:none\" points=\"\n  10464,1384.24 10464,1384.24 10503.5,1384.24 10464,1384.24 \n  \"/>\n<path clip-path=\"url(#clip342)\" d=\"\nM10503.5 1384.24 L10503.5 1384.24 L10543.1 1384.24 L10543.1 1384.24 L10503.5 1384.24 L10503.5 1384.24  Z\n  \" fill=\"#009af9\" fill-rule=\"evenodd\" fill-opacity=\"1\"/>\n<polyline clip-path=\"url(#clip342)\" style=\"stroke:#000000; stroke-linecap:round; stroke-linejoin:round; stroke-width:4; stroke-opacity:1; fill:none\" points=\"\n  10503.5,1384.24 10503.5,1384.24 10543.1,1384.24 10503.5,1384.24 \n  \"/>\n<path clip-path=\"url(#clip342)\" d=\"\nM10543.1 1384.24 L10543.1 1384.24 L10582.6 1384.24 L10582.6 1384.24 L10543.1 1384.24 L10543.1 1384.24  Z\n  \" fill=\"#009af9\" fill-rule=\"evenodd\" fill-opacity=\"1\"/>\n<polyline clip-path=\"url(#clip342)\" style=\"stroke:#000000; stroke-linecap:round; stroke-linejoin:round; stroke-width:4; stroke-opacity:1; fill:none\" points=\"\n  10543.1,1384.24 10543.1,1384.24 10582.6,1384.24 10543.1,1384.24 \n  \"/>\n<path clip-path=\"url(#clip342)\" d=\"\nM10582.6 1384.24 L10582.6 1384.24 L10622.2 1384.24 L10622.2 1384.24 L10582.6 1384.24 L10582.6 1384.24  Z\n  \" fill=\"#009af9\" fill-rule=\"evenodd\" fill-opacity=\"1\"/>\n<polyline clip-path=\"url(#clip342)\" style=\"stroke:#000000; stroke-linecap:round; stroke-linejoin:round; stroke-width:4; stroke-opacity:1; fill:none\" points=\"\n  10582.6,1384.24 10582.6,1384.24 10622.2,1384.24 10582.6,1384.24 \n  \"/>\n<path clip-path=\"url(#clip342)\" d=\"\nM10622.2 1384.24 L10622.2 1384.24 L10661.7 1384.24 L10661.7 1384.24 L10622.2 1384.24 L10622.2 1384.24  Z\n  \" fill=\"#009af9\" fill-rule=\"evenodd\" fill-opacity=\"1\"/>\n<polyline clip-path=\"url(#clip342)\" style=\"stroke:#000000; stroke-linecap:round; stroke-linejoin:round; stroke-width:4; stroke-opacity:1; fill:none\" points=\"\n  10622.2,1384.24 10622.2,1384.24 10661.7,1384.24 10622.2,1384.24 \n  \"/>\n<path clip-path=\"url(#clip342)\" d=\"\nM10661.7 1384.24 L10661.7 1384.24 L10701.3 1384.24 L10701.3 1384.24 L10661.7 1384.24 L10661.7 1384.24  Z\n  \" fill=\"#009af9\" fill-rule=\"evenodd\" fill-opacity=\"1\"/>\n<polyline clip-path=\"url(#clip342)\" style=\"stroke:#000000; stroke-linecap:round; stroke-linejoin:round; stroke-width:4; stroke-opacity:1; fill:none\" points=\"\n  10661.7,1384.24 10661.7,1384.24 10701.3,1384.24 10661.7,1384.24 \n  \"/>\n<path clip-path=\"url(#clip342)\" d=\"\nM10701.3 1384.24 L10701.3 1384.24 L10740.8 1384.24 L10740.8 1384.24 L10701.3 1384.24 L10701.3 1384.24  Z\n  \" fill=\"#009af9\" fill-rule=\"evenodd\" fill-opacity=\"1\"/>\n<polyline clip-path=\"url(#clip342)\" style=\"stroke:#000000; stroke-linecap:round; stroke-linejoin:round; stroke-width:4; stroke-opacity:1; fill:none\" points=\"\n  10701.3,1384.24 10701.3,1384.24 10740.8,1384.24 10701.3,1384.24 \n  \"/>\n<path clip-path=\"url(#clip342)\" d=\"\nM10740.8 1254.43 L10740.8 1384.24 L10780.4 1384.24 L10780.4 1254.43 L10740.8 1254.43 L10740.8 1254.43  Z\n  \" fill=\"#009af9\" fill-rule=\"evenodd\" fill-opacity=\"1\"/>\n<polyline clip-path=\"url(#clip342)\" style=\"stroke:#000000; stroke-linecap:round; stroke-linejoin:round; stroke-width:4; stroke-opacity:1; fill:none\" points=\"\n  10740.8,1254.43 10740.8,1384.24 10780.4,1384.24 10780.4,1254.43 10740.8,1254.43 \n  \"/>\n<path clip-path=\"url(#clip342)\" d=\"\nM10780.4 1384.24 L10780.4 1384.24 L10819.9 1384.24 L10819.9 1384.24 L10780.4 1384.24 L10780.4 1384.24  Z\n  \" fill=\"#009af9\" fill-rule=\"evenodd\" fill-opacity=\"1\"/>\n<polyline clip-path=\"url(#clip342)\" style=\"stroke:#000000; stroke-linecap:round; stroke-linejoin:round; stroke-width:4; stroke-opacity:1; fill:none\" points=\"\n  10780.4,1384.24 10780.4,1384.24 10819.9,1384.24 10780.4,1384.24 \n  \"/>\n<path clip-path=\"url(#clip342)\" d=\"\nM10819.9 1384.24 L10819.9 1384.24 L10859.5 1384.24 L10859.5 1384.24 L10819.9 1384.24 L10819.9 1384.24  Z\n  \" fill=\"#009af9\" fill-rule=\"evenodd\" fill-opacity=\"1\"/>\n<polyline clip-path=\"url(#clip342)\" style=\"stroke:#000000; stroke-linecap:round; stroke-linejoin:round; stroke-width:4; stroke-opacity:1; fill:none\" points=\"\n  10819.9,1384.24 10819.9,1384.24 10859.5,1384.24 10819.9,1384.24 \n  \"/>\n<path clip-path=\"url(#clip342)\" d=\"\nM10859.5 1384.24 L10859.5 1384.24 L10899 1384.24 L10899 1384.24 L10859.5 1384.24 L10859.5 1384.24  Z\n  \" fill=\"#009af9\" fill-rule=\"evenodd\" fill-opacity=\"1\"/>\n<polyline clip-path=\"url(#clip342)\" style=\"stroke:#000000; stroke-linecap:round; stroke-linejoin:round; stroke-width:4; stroke-opacity:1; fill:none\" points=\"\n  10859.5,1384.24 10859.5,1384.24 10899,1384.24 10859.5,1384.24 \n  \"/>\n<path clip-path=\"url(#clip342)\" d=\"\nM10899 1384.24 L10899 1384.24 L10938.5 1384.24 L10938.5 1384.24 L10899 1384.24 L10899 1384.24  Z\n  \" fill=\"#009af9\" fill-rule=\"evenodd\" fill-opacity=\"1\"/>\n<polyline clip-path=\"url(#clip342)\" style=\"stroke:#000000; stroke-linecap:round; stroke-linejoin:round; stroke-width:4; stroke-opacity:1; fill:none\" points=\"\n  10899,1384.24 10899,1384.24 10938.5,1384.24 10899,1384.24 \n  \"/>\n<path clip-path=\"url(#clip342)\" d=\"\nM10938.5 1384.24 L10938.5 1384.24 L10978.1 1384.24 L10978.1 1384.24 L10938.5 1384.24 L10938.5 1384.24  Z\n  \" fill=\"#009af9\" fill-rule=\"evenodd\" fill-opacity=\"1\"/>\n<polyline clip-path=\"url(#clip342)\" style=\"stroke:#000000; stroke-linecap:round; stroke-linejoin:round; stroke-width:4; stroke-opacity:1; fill:none\" points=\"\n  10938.5,1384.24 10938.5,1384.24 10978.1,1384.24 10938.5,1384.24 \n  \"/>\n<path clip-path=\"url(#clip342)\" d=\"\nM10978.1 1384.24 L10978.1 1384.24 L11017.6 1384.24 L11017.6 1384.24 L10978.1 1384.24 L10978.1 1384.24  Z\n  \" fill=\"#009af9\" fill-rule=\"evenodd\" fill-opacity=\"1\"/>\n<polyline clip-path=\"url(#clip342)\" style=\"stroke:#000000; stroke-linecap:round; stroke-linejoin:round; stroke-width:4; stroke-opacity:1; fill:none\" points=\"\n  10978.1,1384.24 10978.1,1384.24 11017.6,1384.24 10978.1,1384.24 \n  \"/>\n<path clip-path=\"url(#clip342)\" d=\"\nM11017.6 1384.24 L11017.6 1384.24 L11057.2 1384.24 L11057.2 1384.24 L11017.6 1384.24 L11017.6 1384.24  Z\n  \" fill=\"#009af9\" fill-rule=\"evenodd\" fill-opacity=\"1\"/>\n<polyline clip-path=\"url(#clip342)\" style=\"stroke:#000000; stroke-linecap:round; stroke-linejoin:round; stroke-width:4; stroke-opacity:1; fill:none\" points=\"\n  11017.6,1384.24 11017.6,1384.24 11057.2,1384.24 11017.6,1384.24 \n  \"/>\n<path clip-path=\"url(#clip342)\" d=\"\nM11057.2 1384.24 L11057.2 1384.24 L11096.7 1384.24 L11096.7 1384.24 L11057.2 1384.24 L11057.2 1384.24  Z\n  \" fill=\"#009af9\" fill-rule=\"evenodd\" fill-opacity=\"1\"/>\n<polyline clip-path=\"url(#clip342)\" style=\"stroke:#000000; stroke-linecap:round; stroke-linejoin:round; stroke-width:4; stroke-opacity:1; fill:none\" points=\"\n  11057.2,1384.24 11057.2,1384.24 11096.7,1384.24 11057.2,1384.24 \n  \"/>\n<path clip-path=\"url(#clip342)\" d=\"\nM11096.7 1384.24 L11096.7 1384.24 L11136.3 1384.24 L11136.3 1384.24 L11096.7 1384.24 L11096.7 1384.24  Z\n  \" fill=\"#009af9\" fill-rule=\"evenodd\" fill-opacity=\"1\"/>\n<polyline clip-path=\"url(#clip342)\" style=\"stroke:#000000; stroke-linecap:round; stroke-linejoin:round; stroke-width:4; stroke-opacity:1; fill:none\" points=\"\n  11096.7,1384.24 11096.7,1384.24 11136.3,1384.24 11096.7,1384.24 \n  \"/>\n<path clip-path=\"url(#clip342)\" d=\"\nM11136.3 1384.24 L11136.3 1384.24 L11175.8 1384.24 L11175.8 1384.24 L11136.3 1384.24 L11136.3 1384.24  Z\n  \" fill=\"#009af9\" fill-rule=\"evenodd\" fill-opacity=\"1\"/>\n<polyline clip-path=\"url(#clip342)\" style=\"stroke:#000000; stroke-linecap:round; stroke-linejoin:round; stroke-width:4; stroke-opacity:1; fill:none\" points=\"\n  11136.3,1384.24 11136.3,1384.24 11175.8,1384.24 11136.3,1384.24 \n  \"/>\n<path clip-path=\"url(#clip342)\" d=\"\nM11175.8 1384.24 L11175.8 1384.24 L11215.4 1384.24 L11215.4 1384.24 L11175.8 1384.24 L11175.8 1384.24  Z\n  \" fill=\"#009af9\" fill-rule=\"evenodd\" fill-opacity=\"1\"/>\n<polyline clip-path=\"url(#clip342)\" style=\"stroke:#000000; stroke-linecap:round; stroke-linejoin:round; stroke-width:4; stroke-opacity:1; fill:none\" points=\"\n  11175.8,1384.24 11175.8,1384.24 11215.4,1384.24 11175.8,1384.24 \n  \"/>\n<path clip-path=\"url(#clip342)\" d=\"\nM11215.4 1384.24 L11215.4 1384.24 L11254.9 1384.24 L11254.9 1384.24 L11215.4 1384.24 L11215.4 1384.24  Z\n  \" fill=\"#009af9\" fill-rule=\"evenodd\" fill-opacity=\"1\"/>\n<polyline clip-path=\"url(#clip342)\" style=\"stroke:#000000; stroke-linecap:round; stroke-linejoin:round; stroke-width:4; stroke-opacity:1; fill:none\" points=\"\n  11215.4,1384.24 11215.4,1384.24 11254.9,1384.24 11215.4,1384.24 \n  \"/>\n<path clip-path=\"url(#clip342)\" d=\"\nM11254.9 1384.24 L11254.9 1384.24 L11294.5 1384.24 L11294.5 1384.24 L11254.9 1384.24 L11254.9 1384.24  Z\n  \" fill=\"#009af9\" fill-rule=\"evenodd\" fill-opacity=\"1\"/>\n<polyline clip-path=\"url(#clip342)\" style=\"stroke:#000000; stroke-linecap:round; stroke-linejoin:round; stroke-width:4; stroke-opacity:1; fill:none\" points=\"\n  11254.9,1384.24 11254.9,1384.24 11294.5,1384.24 11254.9,1384.24 \n  \"/>\n<path clip-path=\"url(#clip342)\" d=\"\nM11294.5 1384.24 L11294.5 1384.24 L11334 1384.24 L11334 1384.24 L11294.5 1384.24 L11294.5 1384.24  Z\n  \" fill=\"#009af9\" fill-rule=\"evenodd\" fill-opacity=\"1\"/>\n<polyline clip-path=\"url(#clip342)\" style=\"stroke:#000000; stroke-linecap:round; stroke-linejoin:round; stroke-width:4; stroke-opacity:1; fill:none\" points=\"\n  11294.5,1384.24 11294.5,1384.24 11334,1384.24 11294.5,1384.24 \n  \"/>\n<path clip-path=\"url(#clip342)\" d=\"\nM11334 1384.24 L11334 1384.24 L11373.6 1384.24 L11373.6 1384.24 L11334 1384.24 L11334 1384.24  Z\n  \" fill=\"#009af9\" fill-rule=\"evenodd\" fill-opacity=\"1\"/>\n<polyline clip-path=\"url(#clip342)\" style=\"stroke:#000000; stroke-linecap:round; stroke-linejoin:round; stroke-width:4; stroke-opacity:1; fill:none\" points=\"\n  11334,1384.24 11334,1384.24 11373.6,1384.24 11334,1384.24 \n  \"/>\n<path clip-path=\"url(#clip342)\" d=\"\nM11373.6 1384.24 L11373.6 1384.24 L11413.1 1384.24 L11413.1 1384.24 L11373.6 1384.24 L11373.6 1384.24  Z\n  \" fill=\"#009af9\" fill-rule=\"evenodd\" fill-opacity=\"1\"/>\n<polyline clip-path=\"url(#clip342)\" style=\"stroke:#000000; stroke-linecap:round; stroke-linejoin:round; stroke-width:4; stroke-opacity:1; fill:none\" points=\"\n  11373.6,1384.24 11373.6,1384.24 11413.1,1384.24 11373.6,1384.24 \n  \"/>\n<path clip-path=\"url(#clip342)\" d=\"\nM11413.1 1384.24 L11413.1 1384.24 L11452.6 1384.24 L11452.6 1384.24 L11413.1 1384.24 L11413.1 1384.24  Z\n  \" fill=\"#009af9\" fill-rule=\"evenodd\" fill-opacity=\"1\"/>\n<polyline clip-path=\"url(#clip342)\" style=\"stroke:#000000; stroke-linecap:round; stroke-linejoin:round; stroke-width:4; stroke-opacity:1; fill:none\" points=\"\n  11413.1,1384.24 11413.1,1384.24 11452.6,1384.24 11413.1,1384.24 \n  \"/>\n<path clip-path=\"url(#clip342)\" d=\"\nM11452.6 1384.24 L11452.6 1384.24 L11492.2 1384.24 L11492.2 1384.24 L11452.6 1384.24 L11452.6 1384.24  Z\n  \" fill=\"#009af9\" fill-rule=\"evenodd\" fill-opacity=\"1\"/>\n<polyline clip-path=\"url(#clip342)\" style=\"stroke:#000000; stroke-linecap:round; stroke-linejoin:round; stroke-width:4; stroke-opacity:1; fill:none\" points=\"\n  11452.6,1384.24 11452.6,1384.24 11492.2,1384.24 11452.6,1384.24 \n  \"/>\n<path clip-path=\"url(#clip342)\" d=\"\nM11492.2 1384.24 L11492.2 1384.24 L11531.7 1384.24 L11531.7 1384.24 L11492.2 1384.24 L11492.2 1384.24  Z\n  \" fill=\"#009af9\" fill-rule=\"evenodd\" fill-opacity=\"1\"/>\n<polyline clip-path=\"url(#clip342)\" style=\"stroke:#000000; stroke-linecap:round; stroke-linejoin:round; stroke-width:4; stroke-opacity:1; fill:none\" points=\"\n  11492.2,1384.24 11492.2,1384.24 11531.7,1384.24 11492.2,1384.24 \n  \"/>\n<path clip-path=\"url(#clip342)\" d=\"\nM11531.7 1384.24 L11531.7 1384.24 L11571.3 1384.24 L11571.3 1384.24 L11531.7 1384.24 L11531.7 1384.24  Z\n  \" fill=\"#009af9\" fill-rule=\"evenodd\" fill-opacity=\"1\"/>\n<polyline clip-path=\"url(#clip342)\" style=\"stroke:#000000; stroke-linecap:round; stroke-linejoin:round; stroke-width:4; stroke-opacity:1; fill:none\" points=\"\n  11531.7,1384.24 11531.7,1384.24 11571.3,1384.24 11531.7,1384.24 \n  \"/>\n<path clip-path=\"url(#clip342)\" d=\"\nM11571.3 1384.24 L11571.3 1384.24 L11610.8 1384.24 L11610.8 1384.24 L11571.3 1384.24 L11571.3 1384.24  Z\n  \" fill=\"#009af9\" fill-rule=\"evenodd\" fill-opacity=\"1\"/>\n<polyline clip-path=\"url(#clip342)\" style=\"stroke:#000000; stroke-linecap:round; stroke-linejoin:round; stroke-width:4; stroke-opacity:1; fill:none\" points=\"\n  11571.3,1384.24 11571.3,1384.24 11610.8,1384.24 11571.3,1384.24 \n  \"/>\n<path clip-path=\"url(#clip342)\" d=\"\nM11610.8 1384.24 L11610.8 1384.24 L11650.4 1384.24 L11650.4 1384.24 L11610.8 1384.24 L11610.8 1384.24  Z\n  \" fill=\"#009af9\" fill-rule=\"evenodd\" fill-opacity=\"1\"/>\n<polyline clip-path=\"url(#clip342)\" style=\"stroke:#000000; stroke-linecap:round; stroke-linejoin:round; stroke-width:4; stroke-opacity:1; fill:none\" points=\"\n  11610.8,1384.24 11610.8,1384.24 11650.4,1384.24 11610.8,1384.24 \n  \"/>\n<path clip-path=\"url(#clip342)\" d=\"\nM11650.4 1254.43 L11650.4 1384.24 L11689.9 1384.24 L11689.9 1254.43 L11650.4 1254.43 L11650.4 1254.43  Z\n  \" fill=\"#009af9\" fill-rule=\"evenodd\" fill-opacity=\"1\"/>\n<polyline clip-path=\"url(#clip342)\" style=\"stroke:#000000; stroke-linecap:round; stroke-linejoin:round; stroke-width:4; stroke-opacity:1; fill:none\" points=\"\n  11650.4,1254.43 11650.4,1384.24 11689.9,1384.24 11689.9,1254.43 11650.4,1254.43 \n  \"/>\n<path clip-path=\"url(#clip342)\" d=\"\nM11689.9 1384.24 L11689.9 1384.24 L11729.5 1384.24 L11729.5 1384.24 L11689.9 1384.24 L11689.9 1384.24  Z\n  \" fill=\"#009af9\" fill-rule=\"evenodd\" fill-opacity=\"1\"/>\n<polyline clip-path=\"url(#clip342)\" style=\"stroke:#000000; stroke-linecap:round; stroke-linejoin:round; stroke-width:4; stroke-opacity:1; fill:none\" points=\"\n  11689.9,1384.24 11689.9,1384.24 11729.5,1384.24 11689.9,1384.24 \n  \"/>\n<path clip-path=\"url(#clip342)\" d=\"\nM11729.5 1384.24 L11729.5 1384.24 L11769 1384.24 L11769 1384.24 L11729.5 1384.24 L11729.5 1384.24  Z\n  \" fill=\"#009af9\" fill-rule=\"evenodd\" fill-opacity=\"1\"/>\n<polyline clip-path=\"url(#clip342)\" style=\"stroke:#000000; stroke-linecap:round; stroke-linejoin:round; stroke-width:4; stroke-opacity:1; fill:none\" points=\"\n  11729.5,1384.24 11729.5,1384.24 11769,1384.24 11729.5,1384.24 \n  \"/>\n<path clip-path=\"url(#clip342)\" d=\"\nM11769 1384.24 L11769 1384.24 L11808.6 1384.24 L11808.6 1384.24 L11769 1384.24 L11769 1384.24  Z\n  \" fill=\"#009af9\" fill-rule=\"evenodd\" fill-opacity=\"1\"/>\n<polyline clip-path=\"url(#clip342)\" style=\"stroke:#000000; stroke-linecap:round; stroke-linejoin:round; stroke-width:4; stroke-opacity:1; fill:none\" points=\"\n  11769,1384.24 11769,1384.24 11808.6,1384.24 11769,1384.24 \n  \"/>\n<path clip-path=\"url(#clip342)\" d=\"\nM11808.6 1384.24 L11808.6 1384.24 L11848.1 1384.24 L11848.1 1384.24 L11808.6 1384.24 L11808.6 1384.24  Z\n  \" fill=\"#009af9\" fill-rule=\"evenodd\" fill-opacity=\"1\"/>\n<polyline clip-path=\"url(#clip342)\" style=\"stroke:#000000; stroke-linecap:round; stroke-linejoin:round; stroke-width:4; stroke-opacity:1; fill:none\" points=\"\n  11808.6,1384.24 11808.6,1384.24 11848.1,1384.24 11808.6,1384.24 \n  \"/>\n<path clip-path=\"url(#clip342)\" d=\"\nM11848.1 1384.24 L11848.1 1384.24 L11887.7 1384.24 L11887.7 1384.24 L11848.1 1384.24 L11848.1 1384.24  Z\n  \" fill=\"#009af9\" fill-rule=\"evenodd\" fill-opacity=\"1\"/>\n<polyline clip-path=\"url(#clip342)\" style=\"stroke:#000000; stroke-linecap:round; stroke-linejoin:round; stroke-width:4; stroke-opacity:1; fill:none\" points=\"\n  11848.1,1384.24 11848.1,1384.24 11887.7,1384.24 11848.1,1384.24 \n  \"/>\n<path clip-path=\"url(#clip342)\" d=\"\nM11887.7 1384.24 L11887.7 1384.24 L11927.2 1384.24 L11927.2 1384.24 L11887.7 1384.24 L11887.7 1384.24  Z\n  \" fill=\"#009af9\" fill-rule=\"evenodd\" fill-opacity=\"1\"/>\n<polyline clip-path=\"url(#clip342)\" style=\"stroke:#000000; stroke-linecap:round; stroke-linejoin:round; stroke-width:4; stroke-opacity:1; fill:none\" points=\"\n  11887.7,1384.24 11887.7,1384.24 11927.2,1384.24 11887.7,1384.24 \n  \"/>\n<path clip-path=\"url(#clip342)\" d=\"\nM11927.2 1384.24 L11927.2 1384.24 L11966.7 1384.24 L11966.7 1384.24 L11927.2 1384.24 L11927.2 1384.24  Z\n  \" fill=\"#009af9\" fill-rule=\"evenodd\" fill-opacity=\"1\"/>\n<polyline clip-path=\"url(#clip342)\" style=\"stroke:#000000; stroke-linecap:round; stroke-linejoin:round; stroke-width:4; stroke-opacity:1; fill:none\" points=\"\n  11927.2,1384.24 11927.2,1384.24 11966.7,1384.24 11927.2,1384.24 \n  \"/>\n<path clip-path=\"url(#clip342)\" d=\"\nM11966.7 1384.24 L11966.7 1384.24 L12006.3 1384.24 L12006.3 1384.24 L11966.7 1384.24 L11966.7 1384.24  Z\n  \" fill=\"#009af9\" fill-rule=\"evenodd\" fill-opacity=\"1\"/>\n<polyline clip-path=\"url(#clip342)\" style=\"stroke:#000000; stroke-linecap:round; stroke-linejoin:round; stroke-width:4; stroke-opacity:1; fill:none\" points=\"\n  11966.7,1384.24 11966.7,1384.24 12006.3,1384.24 11966.7,1384.24 \n  \"/>\n<path clip-path=\"url(#clip342)\" d=\"\nM12006.3 1384.24 L12006.3 1384.24 L12045.8 1384.24 L12045.8 1384.24 L12006.3 1384.24 L12006.3 1384.24  Z\n  \" fill=\"#009af9\" fill-rule=\"evenodd\" fill-opacity=\"1\"/>\n<polyline clip-path=\"url(#clip342)\" style=\"stroke:#000000; stroke-linecap:round; stroke-linejoin:round; stroke-width:4; stroke-opacity:1; fill:none\" points=\"\n  12006.3,1384.24 12006.3,1384.24 12045.8,1384.24 12006.3,1384.24 \n  \"/>\n<path clip-path=\"url(#clip342)\" d=\"\nM12045.8 1254.43 L12045.8 1384.24 L12085.4 1384.24 L12085.4 1254.43 L12045.8 1254.43 L12045.8 1254.43  Z\n  \" fill=\"#009af9\" fill-rule=\"evenodd\" fill-opacity=\"1\"/>\n<polyline clip-path=\"url(#clip342)\" style=\"stroke:#000000; stroke-linecap:round; stroke-linejoin:round; stroke-width:4; stroke-opacity:1; fill:none\" points=\"\n  12045.8,1254.43 12045.8,1384.24 12085.4,1384.24 12085.4,1254.43 12045.8,1254.43 \n  \"/>\n<path clip-path=\"url(#clip342)\" d=\"\nM12085.4 1384.24 L12085.4 1384.24 L12124.9 1384.24 L12124.9 1384.24 L12085.4 1384.24 L12085.4 1384.24  Z\n  \" fill=\"#009af9\" fill-rule=\"evenodd\" fill-opacity=\"1\"/>\n<polyline clip-path=\"url(#clip342)\" style=\"stroke:#000000; stroke-linecap:round; stroke-linejoin:round; stroke-width:4; stroke-opacity:1; fill:none\" points=\"\n  12085.4,1384.24 12085.4,1384.24 12124.9,1384.24 12085.4,1384.24 \n  \"/>\n<path clip-path=\"url(#clip342)\" d=\"\nM12124.9 1384.24 L12124.9 1384.24 L12164.5 1384.24 L12164.5 1384.24 L12124.9 1384.24 L12124.9 1384.24  Z\n  \" fill=\"#009af9\" fill-rule=\"evenodd\" fill-opacity=\"1\"/>\n<polyline clip-path=\"url(#clip342)\" style=\"stroke:#000000; stroke-linecap:round; stroke-linejoin:round; stroke-width:4; stroke-opacity:1; fill:none\" points=\"\n  12124.9,1384.24 12124.9,1384.24 12164.5,1384.24 12124.9,1384.24 \n  \"/>\n<path clip-path=\"url(#clip342)\" d=\"\nM12164.5 1384.24 L12164.5 1384.24 L12204 1384.24 L12204 1384.24 L12164.5 1384.24 L12164.5 1384.24  Z\n  \" fill=\"#009af9\" fill-rule=\"evenodd\" fill-opacity=\"1\"/>\n<polyline clip-path=\"url(#clip342)\" style=\"stroke:#000000; stroke-linecap:round; stroke-linejoin:round; stroke-width:4; stroke-opacity:1; fill:none\" points=\"\n  12164.5,1384.24 12164.5,1384.24 12204,1384.24 12164.5,1384.24 \n  \"/>\n<path clip-path=\"url(#clip342)\" d=\"\nM12204 1384.24 L12204 1384.24 L12243.6 1384.24 L12243.6 1384.24 L12204 1384.24 L12204 1384.24  Z\n  \" fill=\"#009af9\" fill-rule=\"evenodd\" fill-opacity=\"1\"/>\n<polyline clip-path=\"url(#clip342)\" style=\"stroke:#000000; stroke-linecap:round; stroke-linejoin:round; stroke-width:4; stroke-opacity:1; fill:none\" points=\"\n  12204,1384.24 12204,1384.24 12243.6,1384.24 12204,1384.24 \n  \"/>\n<path clip-path=\"url(#clip342)\" d=\"\nM12243.6 1384.24 L12243.6 1384.24 L12283.1 1384.24 L12283.1 1384.24 L12243.6 1384.24 L12243.6 1384.24  Z\n  \" fill=\"#009af9\" fill-rule=\"evenodd\" fill-opacity=\"1\"/>\n<polyline clip-path=\"url(#clip342)\" style=\"stroke:#000000; stroke-linecap:round; stroke-linejoin:round; stroke-width:4; stroke-opacity:1; fill:none\" points=\"\n  12243.6,1384.24 12243.6,1384.24 12283.1,1384.24 12243.6,1384.24 \n  \"/>\n<path clip-path=\"url(#clip342)\" d=\"\nM12283.1 1384.24 L12283.1 1384.24 L12322.7 1384.24 L12322.7 1384.24 L12283.1 1384.24 L12283.1 1384.24  Z\n  \" fill=\"#009af9\" fill-rule=\"evenodd\" fill-opacity=\"1\"/>\n<polyline clip-path=\"url(#clip342)\" style=\"stroke:#000000; stroke-linecap:round; stroke-linejoin:round; stroke-width:4; stroke-opacity:1; fill:none\" points=\"\n  12283.1,1384.24 12283.1,1384.24 12322.7,1384.24 12283.1,1384.24 \n  \"/>\n<path clip-path=\"url(#clip342)\" d=\"\nM12322.7 1384.24 L12322.7 1384.24 L12362.2 1384.24 L12362.2 1384.24 L12322.7 1384.24 L12322.7 1384.24  Z\n  \" fill=\"#009af9\" fill-rule=\"evenodd\" fill-opacity=\"1\"/>\n<polyline clip-path=\"url(#clip342)\" style=\"stroke:#000000; stroke-linecap:round; stroke-linejoin:round; stroke-width:4; stroke-opacity:1; fill:none\" points=\"\n  12322.7,1384.24 12322.7,1384.24 12362.2,1384.24 12322.7,1384.24 \n  \"/>\n<path clip-path=\"url(#clip342)\" d=\"\nM12362.2 1384.24 L12362.2 1384.24 L12401.8 1384.24 L12401.8 1384.24 L12362.2 1384.24 L12362.2 1384.24  Z\n  \" fill=\"#009af9\" fill-rule=\"evenodd\" fill-opacity=\"1\"/>\n<polyline clip-path=\"url(#clip342)\" style=\"stroke:#000000; stroke-linecap:round; stroke-linejoin:round; stroke-width:4; stroke-opacity:1; fill:none\" points=\"\n  12362.2,1384.24 12362.2,1384.24 12401.8,1384.24 12362.2,1384.24 \n  \"/>\n<path clip-path=\"url(#clip342)\" d=\"\nM12401.8 1384.24 L12401.8 1384.24 L12441.3 1384.24 L12441.3 1384.24 L12401.8 1384.24 L12401.8 1384.24  Z\n  \" fill=\"#009af9\" fill-rule=\"evenodd\" fill-opacity=\"1\"/>\n<polyline clip-path=\"url(#clip342)\" style=\"stroke:#000000; stroke-linecap:round; stroke-linejoin:round; stroke-width:4; stroke-opacity:1; fill:none\" points=\"\n  12401.8,1384.24 12401.8,1384.24 12441.3,1384.24 12401.8,1384.24 \n  \"/>\n<path clip-path=\"url(#clip342)\" d=\"\nM12441.3 1384.24 L12441.3 1384.24 L12480.8 1384.24 L12480.8 1384.24 L12441.3 1384.24 L12441.3 1384.24  Z\n  \" fill=\"#009af9\" fill-rule=\"evenodd\" fill-opacity=\"1\"/>\n<polyline clip-path=\"url(#clip342)\" style=\"stroke:#000000; stroke-linecap:round; stroke-linejoin:round; stroke-width:4; stroke-opacity:1; fill:none\" points=\"\n  12441.3,1384.24 12441.3,1384.24 12480.8,1384.24 12441.3,1384.24 \n  \"/>\n<path clip-path=\"url(#clip342)\" d=\"\nM12480.8 1384.24 L12480.8 1384.24 L12520.4 1384.24 L12520.4 1384.24 L12480.8 1384.24 L12480.8 1384.24  Z\n  \" fill=\"#009af9\" fill-rule=\"evenodd\" fill-opacity=\"1\"/>\n<polyline clip-path=\"url(#clip342)\" style=\"stroke:#000000; stroke-linecap:round; stroke-linejoin:round; stroke-width:4; stroke-opacity:1; fill:none\" points=\"\n  12480.8,1384.24 12480.8,1384.24 12520.4,1384.24 12480.8,1384.24 \n  \"/>\n<path clip-path=\"url(#clip342)\" d=\"\nM12520.4 1384.24 L12520.4 1384.24 L12559.9 1384.24 L12559.9 1384.24 L12520.4 1384.24 L12520.4 1384.24  Z\n  \" fill=\"#009af9\" fill-rule=\"evenodd\" fill-opacity=\"1\"/>\n<polyline clip-path=\"url(#clip342)\" style=\"stroke:#000000; stroke-linecap:round; stroke-linejoin:round; stroke-width:4; stroke-opacity:1; fill:none\" points=\"\n  12520.4,1384.24 12520.4,1384.24 12559.9,1384.24 12520.4,1384.24 \n  \"/>\n<path clip-path=\"url(#clip342)\" d=\"\nM12559.9 1384.24 L12559.9 1384.24 L12599.5 1384.24 L12599.5 1384.24 L12559.9 1384.24 L12559.9 1384.24  Z\n  \" fill=\"#009af9\" fill-rule=\"evenodd\" fill-opacity=\"1\"/>\n<polyline clip-path=\"url(#clip342)\" style=\"stroke:#000000; stroke-linecap:round; stroke-linejoin:round; stroke-width:4; stroke-opacity:1; fill:none\" points=\"\n  12559.9,1384.24 12559.9,1384.24 12599.5,1384.24 12559.9,1384.24 \n  \"/>\n<path clip-path=\"url(#clip342)\" d=\"\nM12599.5 1384.24 L12599.5 1384.24 L12639 1384.24 L12639 1384.24 L12599.5 1384.24 L12599.5 1384.24  Z\n  \" fill=\"#009af9\" fill-rule=\"evenodd\" fill-opacity=\"1\"/>\n<polyline clip-path=\"url(#clip342)\" style=\"stroke:#000000; stroke-linecap:round; stroke-linejoin:round; stroke-width:4; stroke-opacity:1; fill:none\" points=\"\n  12599.5,1384.24 12599.5,1384.24 12639,1384.24 12599.5,1384.24 \n  \"/>\n<path clip-path=\"url(#clip342)\" d=\"\nM12639 1384.24 L12639 1384.24 L12678.6 1384.24 L12678.6 1384.24 L12639 1384.24 L12639 1384.24  Z\n  \" fill=\"#009af9\" fill-rule=\"evenodd\" fill-opacity=\"1\"/>\n<polyline clip-path=\"url(#clip342)\" style=\"stroke:#000000; stroke-linecap:round; stroke-linejoin:round; stroke-width:4; stroke-opacity:1; fill:none\" points=\"\n  12639,1384.24 12639,1384.24 12678.6,1384.24 12639,1384.24 \n  \"/>\n<path clip-path=\"url(#clip342)\" d=\"\nM12678.6 1384.24 L12678.6 1384.24 L12718.1 1384.24 L12718.1 1384.24 L12678.6 1384.24 L12678.6 1384.24  Z\n  \" fill=\"#009af9\" fill-rule=\"evenodd\" fill-opacity=\"1\"/>\n<polyline clip-path=\"url(#clip342)\" style=\"stroke:#000000; stroke-linecap:round; stroke-linejoin:round; stroke-width:4; stroke-opacity:1; fill:none\" points=\"\n  12678.6,1384.24 12678.6,1384.24 12718.1,1384.24 12678.6,1384.24 \n  \"/>\n<path clip-path=\"url(#clip342)\" d=\"\nM12718.1 1384.24 L12718.1 1384.24 L12757.7 1384.24 L12757.7 1384.24 L12718.1 1384.24 L12718.1 1384.24  Z\n  \" fill=\"#009af9\" fill-rule=\"evenodd\" fill-opacity=\"1\"/>\n<polyline clip-path=\"url(#clip342)\" style=\"stroke:#000000; stroke-linecap:round; stroke-linejoin:round; stroke-width:4; stroke-opacity:1; fill:none\" points=\"\n  12718.1,1384.24 12718.1,1384.24 12757.7,1384.24 12718.1,1384.24 \n  \"/>\n<path clip-path=\"url(#clip342)\" d=\"\nM12757.7 1384.24 L12757.7 1384.24 L12797.2 1384.24 L12797.2 1384.24 L12757.7 1384.24 L12757.7 1384.24  Z\n  \" fill=\"#009af9\" fill-rule=\"evenodd\" fill-opacity=\"1\"/>\n<polyline clip-path=\"url(#clip342)\" style=\"stroke:#000000; stroke-linecap:round; stroke-linejoin:round; stroke-width:4; stroke-opacity:1; fill:none\" points=\"\n  12757.7,1384.24 12757.7,1384.24 12797.2,1384.24 12757.7,1384.24 \n  \"/>\n<path clip-path=\"url(#clip342)\" d=\"\nM12797.2 1384.24 L12797.2 1384.24 L12836.8 1384.24 L12836.8 1384.24 L12797.2 1384.24 L12797.2 1384.24  Z\n  \" fill=\"#009af9\" fill-rule=\"evenodd\" fill-opacity=\"1\"/>\n<polyline clip-path=\"url(#clip342)\" style=\"stroke:#000000; stroke-linecap:round; stroke-linejoin:round; stroke-width:4; stroke-opacity:1; fill:none\" points=\"\n  12797.2,1384.24 12797.2,1384.24 12836.8,1384.24 12797.2,1384.24 \n  \"/>\n<path clip-path=\"url(#clip342)\" d=\"\nM12836.8 1384.24 L12836.8 1384.24 L12876.3 1384.24 L12876.3 1384.24 L12836.8 1384.24 L12836.8 1384.24  Z\n  \" fill=\"#009af9\" fill-rule=\"evenodd\" fill-opacity=\"1\"/>\n<polyline clip-path=\"url(#clip342)\" style=\"stroke:#000000; stroke-linecap:round; stroke-linejoin:round; stroke-width:4; stroke-opacity:1; fill:none\" points=\"\n  12836.8,1384.24 12836.8,1384.24 12876.3,1384.24 12836.8,1384.24 \n  \"/>\n<path clip-path=\"url(#clip342)\" d=\"\nM12876.3 1384.24 L12876.3 1384.24 L12915.9 1384.24 L12915.9 1384.24 L12876.3 1384.24 L12876.3 1384.24  Z\n  \" fill=\"#009af9\" fill-rule=\"evenodd\" fill-opacity=\"1\"/>\n<polyline clip-path=\"url(#clip342)\" style=\"stroke:#000000; stroke-linecap:round; stroke-linejoin:round; stroke-width:4; stroke-opacity:1; fill:none\" points=\"\n  12876.3,1384.24 12876.3,1384.24 12915.9,1384.24 12876.3,1384.24 \n  \"/>\n<path clip-path=\"url(#clip342)\" d=\"\nM12915.9 1384.24 L12915.9 1384.24 L12955.4 1384.24 L12955.4 1384.24 L12915.9 1384.24 L12915.9 1384.24  Z\n  \" fill=\"#009af9\" fill-rule=\"evenodd\" fill-opacity=\"1\"/>\n<polyline clip-path=\"url(#clip342)\" style=\"stroke:#000000; stroke-linecap:round; stroke-linejoin:round; stroke-width:4; stroke-opacity:1; fill:none\" points=\"\n  12915.9,1384.24 12915.9,1384.24 12955.4,1384.24 12915.9,1384.24 \n  \"/>\n<path clip-path=\"url(#clip342)\" d=\"\nM12955.4 1384.24 L12955.4 1384.24 L12995 1384.24 L12995 1384.24 L12955.4 1384.24 L12955.4 1384.24  Z\n  \" fill=\"#009af9\" fill-rule=\"evenodd\" fill-opacity=\"1\"/>\n<polyline clip-path=\"url(#clip342)\" style=\"stroke:#000000; stroke-linecap:round; stroke-linejoin:round; stroke-width:4; stroke-opacity:1; fill:none\" points=\"\n  12955.4,1384.24 12955.4,1384.24 12995,1384.24 12955.4,1384.24 \n  \"/>\n<path clip-path=\"url(#clip342)\" d=\"\nM12995 1384.24 L12995 1384.24 L13034.5 1384.24 L13034.5 1384.24 L12995 1384.24 L12995 1384.24  Z\n  \" fill=\"#009af9\" fill-rule=\"evenodd\" fill-opacity=\"1\"/>\n<polyline clip-path=\"url(#clip342)\" style=\"stroke:#000000; stroke-linecap:round; stroke-linejoin:round; stroke-width:4; stroke-opacity:1; fill:none\" points=\"\n  12995,1384.24 12995,1384.24 13034.5,1384.24 12995,1384.24 \n  \"/>\n<path clip-path=\"url(#clip342)\" d=\"\nM13034.5 1384.24 L13034.5 1384.24 L13074 1384.24 L13074 1384.24 L13034.5 1384.24 L13034.5 1384.24  Z\n  \" fill=\"#009af9\" fill-rule=\"evenodd\" fill-opacity=\"1\"/>\n<polyline clip-path=\"url(#clip342)\" style=\"stroke:#000000; stroke-linecap:round; stroke-linejoin:round; stroke-width:4; stroke-opacity:1; fill:none\" points=\"\n  13034.5,1384.24 13034.5,1384.24 13074,1384.24 13034.5,1384.24 \n  \"/>\n<path clip-path=\"url(#clip342)\" d=\"\nM13074 1384.24 L13074 1384.24 L13113.6 1384.24 L13113.6 1384.24 L13074 1384.24 L13074 1384.24  Z\n  \" fill=\"#009af9\" fill-rule=\"evenodd\" fill-opacity=\"1\"/>\n<polyline clip-path=\"url(#clip342)\" style=\"stroke:#000000; stroke-linecap:round; stroke-linejoin:round; stroke-width:4; stroke-opacity:1; fill:none\" points=\"\n  13074,1384.24 13074,1384.24 13113.6,1384.24 13074,1384.24 \n  \"/>\n<path clip-path=\"url(#clip342)\" d=\"\nM13113.6 1384.24 L13113.6 1384.24 L13153.1 1384.24 L13153.1 1384.24 L13113.6 1384.24 L13113.6 1384.24  Z\n  \" fill=\"#009af9\" fill-rule=\"evenodd\" fill-opacity=\"1\"/>\n<polyline clip-path=\"url(#clip342)\" style=\"stroke:#000000; stroke-linecap:round; stroke-linejoin:round; stroke-width:4; stroke-opacity:1; fill:none\" points=\"\n  13113.6,1384.24 13113.6,1384.24 13153.1,1384.24 13113.6,1384.24 \n  \"/>\n<path clip-path=\"url(#clip342)\" d=\"\nM13153.1 1384.24 L13153.1 1384.24 L13192.7 1384.24 L13192.7 1384.24 L13153.1 1384.24 L13153.1 1384.24  Z\n  \" fill=\"#009af9\" fill-rule=\"evenodd\" fill-opacity=\"1\"/>\n<polyline clip-path=\"url(#clip342)\" style=\"stroke:#000000; stroke-linecap:round; stroke-linejoin:round; stroke-width:4; stroke-opacity:1; fill:none\" points=\"\n  13153.1,1384.24 13153.1,1384.24 13192.7,1384.24 13153.1,1384.24 \n  \"/>\n<path clip-path=\"url(#clip342)\" d=\"\nM13192.7 1384.24 L13192.7 1384.24 L13232.2 1384.24 L13232.2 1384.24 L13192.7 1384.24 L13192.7 1384.24  Z\n  \" fill=\"#009af9\" fill-rule=\"evenodd\" fill-opacity=\"1\"/>\n<polyline clip-path=\"url(#clip342)\" style=\"stroke:#000000; stroke-linecap:round; stroke-linejoin:round; stroke-width:4; stroke-opacity:1; fill:none\" points=\"\n  13192.7,1384.24 13192.7,1384.24 13232.2,1384.24 13192.7,1384.24 \n  \"/>\n<path clip-path=\"url(#clip342)\" d=\"\nM13232.2 1384.24 L13232.2 1384.24 L13271.8 1384.24 L13271.8 1384.24 L13232.2 1384.24 L13232.2 1384.24  Z\n  \" fill=\"#009af9\" fill-rule=\"evenodd\" fill-opacity=\"1\"/>\n<polyline clip-path=\"url(#clip342)\" style=\"stroke:#000000; stroke-linecap:round; stroke-linejoin:round; stroke-width:4; stroke-opacity:1; fill:none\" points=\"\n  13232.2,1384.24 13232.2,1384.24 13271.8,1384.24 13232.2,1384.24 \n  \"/>\n<path clip-path=\"url(#clip342)\" d=\"\nM13271.8 1384.24 L13271.8 1384.24 L13311.3 1384.24 L13311.3 1384.24 L13271.8 1384.24 L13271.8 1384.24  Z\n  \" fill=\"#009af9\" fill-rule=\"evenodd\" fill-opacity=\"1\"/>\n<polyline clip-path=\"url(#clip342)\" style=\"stroke:#000000; stroke-linecap:round; stroke-linejoin:round; stroke-width:4; stroke-opacity:1; fill:none\" points=\"\n  13271.8,1384.24 13271.8,1384.24 13311.3,1384.24 13271.8,1384.24 \n  \"/>\n<path clip-path=\"url(#clip342)\" d=\"\nM13311.3 1384.24 L13311.3 1384.24 L13350.9 1384.24 L13350.9 1384.24 L13311.3 1384.24 L13311.3 1384.24  Z\n  \" fill=\"#009af9\" fill-rule=\"evenodd\" fill-opacity=\"1\"/>\n<polyline clip-path=\"url(#clip342)\" style=\"stroke:#000000; stroke-linecap:round; stroke-linejoin:round; stroke-width:4; stroke-opacity:1; fill:none\" points=\"\n  13311.3,1384.24 13311.3,1384.24 13350.9,1384.24 13311.3,1384.24 \n  \"/>\n<path clip-path=\"url(#clip342)\" d=\"\nM13350.9 1384.24 L13350.9 1384.24 L13390.4 1384.24 L13390.4 1384.24 L13350.9 1384.24 L13350.9 1384.24  Z\n  \" fill=\"#009af9\" fill-rule=\"evenodd\" fill-opacity=\"1\"/>\n<polyline clip-path=\"url(#clip342)\" style=\"stroke:#000000; stroke-linecap:round; stroke-linejoin:round; stroke-width:4; stroke-opacity:1; fill:none\" points=\"\n  13350.9,1384.24 13350.9,1384.24 13390.4,1384.24 13350.9,1384.24 \n  \"/>\n<path clip-path=\"url(#clip342)\" d=\"\nM13390.4 1384.24 L13390.4 1384.24 L13430 1384.24 L13430 1384.24 L13390.4 1384.24 L13390.4 1384.24  Z\n  \" fill=\"#009af9\" fill-rule=\"evenodd\" fill-opacity=\"1\"/>\n<polyline clip-path=\"url(#clip342)\" style=\"stroke:#000000; stroke-linecap:round; stroke-linejoin:round; stroke-width:4; stroke-opacity:1; fill:none\" points=\"\n  13390.4,1384.24 13390.4,1384.24 13430,1384.24 13390.4,1384.24 \n  \"/>\n<path clip-path=\"url(#clip342)\" d=\"\nM13430 1384.24 L13430 1384.24 L13469.5 1384.24 L13469.5 1384.24 L13430 1384.24 L13430 1384.24  Z\n  \" fill=\"#009af9\" fill-rule=\"evenodd\" fill-opacity=\"1\"/>\n<polyline clip-path=\"url(#clip342)\" style=\"stroke:#000000; stroke-linecap:round; stroke-linejoin:round; stroke-width:4; stroke-opacity:1; fill:none\" points=\"\n  13430,1384.24 13430,1384.24 13469.5,1384.24 13430,1384.24 \n  \"/>\n<path clip-path=\"url(#clip342)\" d=\"\nM13469.5 1384.24 L13469.5 1384.24 L13509.1 1384.24 L13509.1 1384.24 L13469.5 1384.24 L13469.5 1384.24  Z\n  \" fill=\"#009af9\" fill-rule=\"evenodd\" fill-opacity=\"1\"/>\n<polyline clip-path=\"url(#clip342)\" style=\"stroke:#000000; stroke-linecap:round; stroke-linejoin:round; stroke-width:4; stroke-opacity:1; fill:none\" points=\"\n  13469.5,1384.24 13469.5,1384.24 13509.1,1384.24 13469.5,1384.24 \n  \"/>\n<path clip-path=\"url(#clip342)\" d=\"\nM13509.1 1384.24 L13509.1 1384.24 L13548.6 1384.24 L13548.6 1384.24 L13509.1 1384.24 L13509.1 1384.24  Z\n  \" fill=\"#009af9\" fill-rule=\"evenodd\" fill-opacity=\"1\"/>\n<polyline clip-path=\"url(#clip342)\" style=\"stroke:#000000; stroke-linecap:round; stroke-linejoin:round; stroke-width:4; stroke-opacity:1; fill:none\" points=\"\n  13509.1,1384.24 13509.1,1384.24 13548.6,1384.24 13509.1,1384.24 \n  \"/>\n<path clip-path=\"url(#clip342)\" d=\"\nM13548.6 1384.24 L13548.6 1384.24 L13588.1 1384.24 L13588.1 1384.24 L13548.6 1384.24 L13548.6 1384.24  Z\n  \" fill=\"#009af9\" fill-rule=\"evenodd\" fill-opacity=\"1\"/>\n<polyline clip-path=\"url(#clip342)\" style=\"stroke:#000000; stroke-linecap:round; stroke-linejoin:round; stroke-width:4; stroke-opacity:1; fill:none\" points=\"\n  13548.6,1384.24 13548.6,1384.24 13588.1,1384.24 13548.6,1384.24 \n  \"/>\n<path clip-path=\"url(#clip342)\" d=\"\nM13588.1 1384.24 L13588.1 1384.24 L13627.7 1384.24 L13627.7 1384.24 L13588.1 1384.24 L13588.1 1384.24  Z\n  \" fill=\"#009af9\" fill-rule=\"evenodd\" fill-opacity=\"1\"/>\n<polyline clip-path=\"url(#clip342)\" style=\"stroke:#000000; stroke-linecap:round; stroke-linejoin:round; stroke-width:4; stroke-opacity:1; fill:none\" points=\"\n  13588.1,1384.24 13588.1,1384.24 13627.7,1384.24 13588.1,1384.24 \n  \"/>\n<path clip-path=\"url(#clip342)\" d=\"\nM13627.7 1384.24 L13627.7 1384.24 L13667.2 1384.24 L13667.2 1384.24 L13627.7 1384.24 L13627.7 1384.24  Z\n  \" fill=\"#009af9\" fill-rule=\"evenodd\" fill-opacity=\"1\"/>\n<polyline clip-path=\"url(#clip342)\" style=\"stroke:#000000; stroke-linecap:round; stroke-linejoin:round; stroke-width:4; stroke-opacity:1; fill:none\" points=\"\n  13627.7,1384.24 13627.7,1384.24 13667.2,1384.24 13627.7,1384.24 \n  \"/>\n<path clip-path=\"url(#clip342)\" d=\"\nM13667.2 1384.24 L13667.2 1384.24 L13706.8 1384.24 L13706.8 1384.24 L13667.2 1384.24 L13667.2 1384.24  Z\n  \" fill=\"#009af9\" fill-rule=\"evenodd\" fill-opacity=\"1\"/>\n<polyline clip-path=\"url(#clip342)\" style=\"stroke:#000000; stroke-linecap:round; stroke-linejoin:round; stroke-width:4; stroke-opacity:1; fill:none\" points=\"\n  13667.2,1384.24 13667.2,1384.24 13706.8,1384.24 13667.2,1384.24 \n  \"/>\n<path clip-path=\"url(#clip342)\" d=\"\nM13706.8 1384.24 L13706.8 1384.24 L13746.3 1384.24 L13746.3 1384.24 L13706.8 1384.24 L13706.8 1384.24  Z\n  \" fill=\"#009af9\" fill-rule=\"evenodd\" fill-opacity=\"1\"/>\n<polyline clip-path=\"url(#clip342)\" style=\"stroke:#000000; stroke-linecap:round; stroke-linejoin:round; stroke-width:4; stroke-opacity:1; fill:none\" points=\"\n  13706.8,1384.24 13706.8,1384.24 13746.3,1384.24 13706.8,1384.24 \n  \"/>\n<path clip-path=\"url(#clip342)\" d=\"\nM13746.3 1384.24 L13746.3 1384.24 L13785.9 1384.24 L13785.9 1384.24 L13746.3 1384.24 L13746.3 1384.24  Z\n  \" fill=\"#009af9\" fill-rule=\"evenodd\" fill-opacity=\"1\"/>\n<polyline clip-path=\"url(#clip342)\" style=\"stroke:#000000; stroke-linecap:round; stroke-linejoin:round; stroke-width:4; stroke-opacity:1; fill:none\" points=\"\n  13746.3,1384.24 13746.3,1384.24 13785.9,1384.24 13746.3,1384.24 \n  \"/>\n<path clip-path=\"url(#clip342)\" d=\"\nM13785.9 1384.24 L13785.9 1384.24 L13825.4 1384.24 L13825.4 1384.24 L13785.9 1384.24 L13785.9 1384.24  Z\n  \" fill=\"#009af9\" fill-rule=\"evenodd\" fill-opacity=\"1\"/>\n<polyline clip-path=\"url(#clip342)\" style=\"stroke:#000000; stroke-linecap:round; stroke-linejoin:round; stroke-width:4; stroke-opacity:1; fill:none\" points=\"\n  13785.9,1384.24 13785.9,1384.24 13825.4,1384.24 13785.9,1384.24 \n  \"/>\n<path clip-path=\"url(#clip342)\" d=\"\nM13825.4 1384.24 L13825.4 1384.24 L13865 1384.24 L13865 1384.24 L13825.4 1384.24 L13825.4 1384.24  Z\n  \" fill=\"#009af9\" fill-rule=\"evenodd\" fill-opacity=\"1\"/>\n<polyline clip-path=\"url(#clip342)\" style=\"stroke:#000000; stroke-linecap:round; stroke-linejoin:round; stroke-width:4; stroke-opacity:1; fill:none\" points=\"\n  13825.4,1384.24 13825.4,1384.24 13865,1384.24 13825.4,1384.24 \n  \"/>\n<path clip-path=\"url(#clip342)\" d=\"\nM13865 1384.24 L13865 1384.24 L13904.5 1384.24 L13904.5 1384.24 L13865 1384.24 L13865 1384.24  Z\n  \" fill=\"#009af9\" fill-rule=\"evenodd\" fill-opacity=\"1\"/>\n<polyline clip-path=\"url(#clip342)\" style=\"stroke:#000000; stroke-linecap:round; stroke-linejoin:round; stroke-width:4; stroke-opacity:1; fill:none\" points=\"\n  13865,1384.24 13865,1384.24 13904.5,1384.24 13865,1384.24 \n  \"/>\n<path clip-path=\"url(#clip342)\" d=\"\nM13904.5 1384.24 L13904.5 1384.24 L13944.1 1384.24 L13944.1 1384.24 L13904.5 1384.24 L13904.5 1384.24  Z\n  \" fill=\"#009af9\" fill-rule=\"evenodd\" fill-opacity=\"1\"/>\n<polyline clip-path=\"url(#clip342)\" style=\"stroke:#000000; stroke-linecap:round; stroke-linejoin:round; stroke-width:4; stroke-opacity:1; fill:none\" points=\"\n  13904.5,1384.24 13904.5,1384.24 13944.1,1384.24 13904.5,1384.24 \n  \"/>\n<path clip-path=\"url(#clip342)\" d=\"\nM13944.1 1384.24 L13944.1 1384.24 L13983.6 1384.24 L13983.6 1384.24 L13944.1 1384.24 L13944.1 1384.24  Z\n  \" fill=\"#009af9\" fill-rule=\"evenodd\" fill-opacity=\"1\"/>\n<polyline clip-path=\"url(#clip342)\" style=\"stroke:#000000; stroke-linecap:round; stroke-linejoin:round; stroke-width:4; stroke-opacity:1; fill:none\" points=\"\n  13944.1,1384.24 13944.1,1384.24 13983.6,1384.24 13944.1,1384.24 \n  \"/>\n<path clip-path=\"url(#clip342)\" d=\"\nM13983.6 1384.24 L13983.6 1384.24 L14023.2 1384.24 L14023.2 1384.24 L13983.6 1384.24 L13983.6 1384.24  Z\n  \" fill=\"#009af9\" fill-rule=\"evenodd\" fill-opacity=\"1\"/>\n<polyline clip-path=\"url(#clip342)\" style=\"stroke:#000000; stroke-linecap:round; stroke-linejoin:round; stroke-width:4; stroke-opacity:1; fill:none\" points=\"\n  13983.6,1384.24 13983.6,1384.24 14023.2,1384.24 13983.6,1384.24 \n  \"/>\n<path clip-path=\"url(#clip342)\" d=\"\nM14023.2 1384.24 L14023.2 1384.24 L14062.7 1384.24 L14062.7 1384.24 L14023.2 1384.24 L14023.2 1384.24  Z\n  \" fill=\"#009af9\" fill-rule=\"evenodd\" fill-opacity=\"1\"/>\n<polyline clip-path=\"url(#clip342)\" style=\"stroke:#000000; stroke-linecap:round; stroke-linejoin:round; stroke-width:4; stroke-opacity:1; fill:none\" points=\"\n  14023.2,1384.24 14023.2,1384.24 14062.7,1384.24 14023.2,1384.24 \n  \"/>\n<path clip-path=\"url(#clip342)\" d=\"\nM14062.7 1384.24 L14062.7 1384.24 L14102.2 1384.24 L14102.2 1384.24 L14062.7 1384.24 L14062.7 1384.24  Z\n  \" fill=\"#009af9\" fill-rule=\"evenodd\" fill-opacity=\"1\"/>\n<polyline clip-path=\"url(#clip342)\" style=\"stroke:#000000; stroke-linecap:round; stroke-linejoin:round; stroke-width:4; stroke-opacity:1; fill:none\" points=\"\n  14062.7,1384.24 14062.7,1384.24 14102.2,1384.24 14062.7,1384.24 \n  \"/>\n<path clip-path=\"url(#clip342)\" d=\"\nM14102.2 1384.24 L14102.2 1384.24 L14141.8 1384.24 L14141.8 1384.24 L14102.2 1384.24 L14102.2 1384.24  Z\n  \" fill=\"#009af9\" fill-rule=\"evenodd\" fill-opacity=\"1\"/>\n<polyline clip-path=\"url(#clip342)\" style=\"stroke:#000000; stroke-linecap:round; stroke-linejoin:round; stroke-width:4; stroke-opacity:1; fill:none\" points=\"\n  14102.2,1384.24 14102.2,1384.24 14141.8,1384.24 14102.2,1384.24 \n  \"/>\n<path clip-path=\"url(#clip342)\" d=\"\nM14141.8 1384.24 L14141.8 1384.24 L14181.3 1384.24 L14181.3 1384.24 L14141.8 1384.24 L14141.8 1384.24  Z\n  \" fill=\"#009af9\" fill-rule=\"evenodd\" fill-opacity=\"1\"/>\n<polyline clip-path=\"url(#clip342)\" style=\"stroke:#000000; stroke-linecap:round; stroke-linejoin:round; stroke-width:4; stroke-opacity:1; fill:none\" points=\"\n  14141.8,1384.24 14141.8,1384.24 14181.3,1384.24 14141.8,1384.24 \n  \"/>\n<path clip-path=\"url(#clip342)\" d=\"\nM14181.3 1384.24 L14181.3 1384.24 L14220.9 1384.24 L14220.9 1384.24 L14181.3 1384.24 L14181.3 1384.24  Z\n  \" fill=\"#009af9\" fill-rule=\"evenodd\" fill-opacity=\"1\"/>\n<polyline clip-path=\"url(#clip342)\" style=\"stroke:#000000; stroke-linecap:round; stroke-linejoin:round; stroke-width:4; stroke-opacity:1; fill:none\" points=\"\n  14181.3,1384.24 14181.3,1384.24 14220.9,1384.24 14181.3,1384.24 \n  \"/>\n<path clip-path=\"url(#clip342)\" d=\"\nM14220.9 1384.24 L14220.9 1384.24 L14260.4 1384.24 L14260.4 1384.24 L14220.9 1384.24 L14220.9 1384.24  Z\n  \" fill=\"#009af9\" fill-rule=\"evenodd\" fill-opacity=\"1\"/>\n<polyline clip-path=\"url(#clip342)\" style=\"stroke:#000000; stroke-linecap:round; stroke-linejoin:round; stroke-width:4; stroke-opacity:1; fill:none\" points=\"\n  14220.9,1384.24 14220.9,1384.24 14260.4,1384.24 14220.9,1384.24 \n  \"/>\n<path clip-path=\"url(#clip342)\" d=\"\nM14260.4 1384.24 L14260.4 1384.24 L14300 1384.24 L14300 1384.24 L14260.4 1384.24 L14260.4 1384.24  Z\n  \" fill=\"#009af9\" fill-rule=\"evenodd\" fill-opacity=\"1\"/>\n<polyline clip-path=\"url(#clip342)\" style=\"stroke:#000000; stroke-linecap:round; stroke-linejoin:round; stroke-width:4; stroke-opacity:1; fill:none\" points=\"\n  14260.4,1384.24 14260.4,1384.24 14300,1384.24 14260.4,1384.24 \n  \"/>\n<path clip-path=\"url(#clip342)\" d=\"\nM14300 1384.24 L14300 1384.24 L14339.5 1384.24 L14339.5 1384.24 L14300 1384.24 L14300 1384.24  Z\n  \" fill=\"#009af9\" fill-rule=\"evenodd\" fill-opacity=\"1\"/>\n<polyline clip-path=\"url(#clip342)\" style=\"stroke:#000000; stroke-linecap:round; stroke-linejoin:round; stroke-width:4; stroke-opacity:1; fill:none\" points=\"\n  14300,1384.24 14300,1384.24 14339.5,1384.24 14300,1384.24 \n  \"/>\n<path clip-path=\"url(#clip342)\" d=\"\nM14339.5 1384.24 L14339.5 1384.24 L14379.1 1384.24 L14379.1 1384.24 L14339.5 1384.24 L14339.5 1384.24  Z\n  \" fill=\"#009af9\" fill-rule=\"evenodd\" fill-opacity=\"1\"/>\n<polyline clip-path=\"url(#clip342)\" style=\"stroke:#000000; stroke-linecap:round; stroke-linejoin:round; stroke-width:4; stroke-opacity:1; fill:none\" points=\"\n  14339.5,1384.24 14339.5,1384.24 14379.1,1384.24 14339.5,1384.24 \n  \"/>\n<path clip-path=\"url(#clip342)\" d=\"\nM14379.1 1384.24 L14379.1 1384.24 L14418.6 1384.24 L14418.6 1384.24 L14379.1 1384.24 L14379.1 1384.24  Z\n  \" fill=\"#009af9\" fill-rule=\"evenodd\" fill-opacity=\"1\"/>\n<polyline clip-path=\"url(#clip342)\" style=\"stroke:#000000; stroke-linecap:round; stroke-linejoin:round; stroke-width:4; stroke-opacity:1; fill:none\" points=\"\n  14379.1,1384.24 14379.1,1384.24 14418.6,1384.24 14379.1,1384.24 \n  \"/>\n<path clip-path=\"url(#clip342)\" d=\"\nM14418.6 1384.24 L14418.6 1384.24 L14458.2 1384.24 L14458.2 1384.24 L14418.6 1384.24 L14418.6 1384.24  Z\n  \" fill=\"#009af9\" fill-rule=\"evenodd\" fill-opacity=\"1\"/>\n<polyline clip-path=\"url(#clip342)\" style=\"stroke:#000000; stroke-linecap:round; stroke-linejoin:round; stroke-width:4; stroke-opacity:1; fill:none\" points=\"\n  14418.6,1384.24 14418.6,1384.24 14458.2,1384.24 14418.6,1384.24 \n  \"/>\n<path clip-path=\"url(#clip342)\" d=\"\nM14458.2 1384.24 L14458.2 1384.24 L14497.7 1384.24 L14497.7 1384.24 L14458.2 1384.24 L14458.2 1384.24  Z\n  \" fill=\"#009af9\" fill-rule=\"evenodd\" fill-opacity=\"1\"/>\n<polyline clip-path=\"url(#clip342)\" style=\"stroke:#000000; stroke-linecap:round; stroke-linejoin:round; stroke-width:4; stroke-opacity:1; fill:none\" points=\"\n  14458.2,1384.24 14458.2,1384.24 14497.7,1384.24 14458.2,1384.24 \n  \"/>\n<path clip-path=\"url(#clip342)\" d=\"\nM14497.7 1384.24 L14497.7 1384.24 L14537.3 1384.24 L14537.3 1384.24 L14497.7 1384.24 L14497.7 1384.24  Z\n  \" fill=\"#009af9\" fill-rule=\"evenodd\" fill-opacity=\"1\"/>\n<polyline clip-path=\"url(#clip342)\" style=\"stroke:#000000; stroke-linecap:round; stroke-linejoin:round; stroke-width:4; stroke-opacity:1; fill:none\" points=\"\n  14497.7,1384.24 14497.7,1384.24 14537.3,1384.24 14497.7,1384.24 \n  \"/>\n<path clip-path=\"url(#clip342)\" d=\"\nM14537.3 1384.24 L14537.3 1384.24 L14576.8 1384.24 L14576.8 1384.24 L14537.3 1384.24 L14537.3 1384.24  Z\n  \" fill=\"#009af9\" fill-rule=\"evenodd\" fill-opacity=\"1\"/>\n<polyline clip-path=\"url(#clip342)\" style=\"stroke:#000000; stroke-linecap:round; stroke-linejoin:round; stroke-width:4; stroke-opacity:1; fill:none\" points=\"\n  14537.3,1384.24 14537.3,1384.24 14576.8,1384.24 14537.3,1384.24 \n  \"/>\n<path clip-path=\"url(#clip342)\" d=\"\nM14576.8 1384.24 L14576.8 1384.24 L14616.3 1384.24 L14616.3 1384.24 L14576.8 1384.24 L14576.8 1384.24  Z\n  \" fill=\"#009af9\" fill-rule=\"evenodd\" fill-opacity=\"1\"/>\n<polyline clip-path=\"url(#clip342)\" style=\"stroke:#000000; stroke-linecap:round; stroke-linejoin:round; stroke-width:4; stroke-opacity:1; fill:none\" points=\"\n  14576.8,1384.24 14576.8,1384.24 14616.3,1384.24 14576.8,1384.24 \n  \"/>\n<path clip-path=\"url(#clip342)\" d=\"\nM14616.3 1384.24 L14616.3 1384.24 L14655.9 1384.24 L14655.9 1384.24 L14616.3 1384.24 L14616.3 1384.24  Z\n  \" fill=\"#009af9\" fill-rule=\"evenodd\" fill-opacity=\"1\"/>\n<polyline clip-path=\"url(#clip342)\" style=\"stroke:#000000; stroke-linecap:round; stroke-linejoin:round; stroke-width:4; stroke-opacity:1; fill:none\" points=\"\n  14616.3,1384.24 14616.3,1384.24 14655.9,1384.24 14616.3,1384.24 \n  \"/>\n<path clip-path=\"url(#clip342)\" d=\"\nM14655.9 1384.24 L14655.9 1384.24 L14695.4 1384.24 L14695.4 1384.24 L14655.9 1384.24 L14655.9 1384.24  Z\n  \" fill=\"#009af9\" fill-rule=\"evenodd\" fill-opacity=\"1\"/>\n<polyline clip-path=\"url(#clip342)\" style=\"stroke:#000000; stroke-linecap:round; stroke-linejoin:round; stroke-width:4; stroke-opacity:1; fill:none\" points=\"\n  14655.9,1384.24 14655.9,1384.24 14695.4,1384.24 14655.9,1384.24 \n  \"/>\n<path clip-path=\"url(#clip342)\" d=\"\nM14695.4 1384.24 L14695.4 1384.24 L14735 1384.24 L14735 1384.24 L14695.4 1384.24 L14695.4 1384.24  Z\n  \" fill=\"#009af9\" fill-rule=\"evenodd\" fill-opacity=\"1\"/>\n<polyline clip-path=\"url(#clip342)\" style=\"stroke:#000000; stroke-linecap:round; stroke-linejoin:round; stroke-width:4; stroke-opacity:1; fill:none\" points=\"\n  14695.4,1384.24 14695.4,1384.24 14735,1384.24 14695.4,1384.24 \n  \"/>\n<path clip-path=\"url(#clip342)\" d=\"\nM14735 1384.24 L14735 1384.24 L14774.5 1384.24 L14774.5 1384.24 L14735 1384.24 L14735 1384.24  Z\n  \" fill=\"#009af9\" fill-rule=\"evenodd\" fill-opacity=\"1\"/>\n<polyline clip-path=\"url(#clip342)\" style=\"stroke:#000000; stroke-linecap:round; stroke-linejoin:round; stroke-width:4; stroke-opacity:1; fill:none\" points=\"\n  14735,1384.24 14735,1384.24 14774.5,1384.24 14735,1384.24 \n  \"/>\n<path clip-path=\"url(#clip342)\" d=\"\nM14774.5 1384.24 L14774.5 1384.24 L14814.1 1384.24 L14814.1 1384.24 L14774.5 1384.24 L14774.5 1384.24  Z\n  \" fill=\"#009af9\" fill-rule=\"evenodd\" fill-opacity=\"1\"/>\n<polyline clip-path=\"url(#clip342)\" style=\"stroke:#000000; stroke-linecap:round; stroke-linejoin:round; stroke-width:4; stroke-opacity:1; fill:none\" points=\"\n  14774.5,1384.24 14774.5,1384.24 14814.1,1384.24 14774.5,1384.24 \n  \"/>\n<path clip-path=\"url(#clip342)\" d=\"\nM14814.1 1384.24 L14814.1 1384.24 L14853.6 1384.24 L14853.6 1384.24 L14814.1 1384.24 L14814.1 1384.24  Z\n  \" fill=\"#009af9\" fill-rule=\"evenodd\" fill-opacity=\"1\"/>\n<polyline clip-path=\"url(#clip342)\" style=\"stroke:#000000; stroke-linecap:round; stroke-linejoin:round; stroke-width:4; stroke-opacity:1; fill:none\" points=\"\n  14814.1,1384.24 14814.1,1384.24 14853.6,1384.24 14814.1,1384.24 \n  \"/>\n<path clip-path=\"url(#clip342)\" d=\"\nM14853.6 1384.24 L14853.6 1384.24 L14893.2 1384.24 L14893.2 1384.24 L14853.6 1384.24 L14853.6 1384.24  Z\n  \" fill=\"#009af9\" fill-rule=\"evenodd\" fill-opacity=\"1\"/>\n<polyline clip-path=\"url(#clip342)\" style=\"stroke:#000000; stroke-linecap:round; stroke-linejoin:round; stroke-width:4; stroke-opacity:1; fill:none\" points=\"\n  14853.6,1384.24 14853.6,1384.24 14893.2,1384.24 14853.6,1384.24 \n  \"/>\n<path clip-path=\"url(#clip342)\" d=\"\nM14893.2 1384.24 L14893.2 1384.24 L14932.7 1384.24 L14932.7 1384.24 L14893.2 1384.24 L14893.2 1384.24  Z\n  \" fill=\"#009af9\" fill-rule=\"evenodd\" fill-opacity=\"1\"/>\n<polyline clip-path=\"url(#clip342)\" style=\"stroke:#000000; stroke-linecap:round; stroke-linejoin:round; stroke-width:4; stroke-opacity:1; fill:none\" points=\"\n  14893.2,1384.24 14893.2,1384.24 14932.7,1384.24 14893.2,1384.24 \n  \"/>\n<path clip-path=\"url(#clip342)\" d=\"\nM14932.7 1384.24 L14932.7 1384.24 L14972.3 1384.24 L14972.3 1384.24 L14932.7 1384.24 L14932.7 1384.24  Z\n  \" fill=\"#009af9\" fill-rule=\"evenodd\" fill-opacity=\"1\"/>\n<polyline clip-path=\"url(#clip342)\" style=\"stroke:#000000; stroke-linecap:round; stroke-linejoin:round; stroke-width:4; stroke-opacity:1; fill:none\" points=\"\n  14932.7,1384.24 14932.7,1384.24 14972.3,1384.24 14932.7,1384.24 \n  \"/>\n<path clip-path=\"url(#clip342)\" d=\"\nM14972.3 1384.24 L14972.3 1384.24 L15011.8 1384.24 L15011.8 1384.24 L14972.3 1384.24 L14972.3 1384.24  Z\n  \" fill=\"#009af9\" fill-rule=\"evenodd\" fill-opacity=\"1\"/>\n<polyline clip-path=\"url(#clip342)\" style=\"stroke:#000000; stroke-linecap:round; stroke-linejoin:round; stroke-width:4; stroke-opacity:1; fill:none\" points=\"\n  14972.3,1384.24 14972.3,1384.24 15011.8,1384.24 14972.3,1384.24 \n  \"/>\n<path clip-path=\"url(#clip342)\" d=\"\nM15011.8 1384.24 L15011.8 1384.24 L15051.4 1384.24 L15051.4 1384.24 L15011.8 1384.24 L15011.8 1384.24  Z\n  \" fill=\"#009af9\" fill-rule=\"evenodd\" fill-opacity=\"1\"/>\n<polyline clip-path=\"url(#clip342)\" style=\"stroke:#000000; stroke-linecap:round; stroke-linejoin:round; stroke-width:4; stroke-opacity:1; fill:none\" points=\"\n  15011.8,1384.24 15011.8,1384.24 15051.4,1384.24 15011.8,1384.24 \n  \"/>\n<path clip-path=\"url(#clip342)\" d=\"\nM15051.4 1384.24 L15051.4 1384.24 L15090.9 1384.24 L15090.9 1384.24 L15051.4 1384.24 L15051.4 1384.24  Z\n  \" fill=\"#009af9\" fill-rule=\"evenodd\" fill-opacity=\"1\"/>\n<polyline clip-path=\"url(#clip342)\" style=\"stroke:#000000; stroke-linecap:round; stroke-linejoin:round; stroke-width:4; stroke-opacity:1; fill:none\" points=\"\n  15051.4,1384.24 15051.4,1384.24 15090.9,1384.24 15051.4,1384.24 \n  \"/>\n<path clip-path=\"url(#clip342)\" d=\"\nM15090.9 1384.24 L15090.9 1384.24 L15130.5 1384.24 L15130.5 1384.24 L15090.9 1384.24 L15090.9 1384.24  Z\n  \" fill=\"#009af9\" fill-rule=\"evenodd\" fill-opacity=\"1\"/>\n<polyline clip-path=\"url(#clip342)\" style=\"stroke:#000000; stroke-linecap:round; stroke-linejoin:round; stroke-width:4; stroke-opacity:1; fill:none\" points=\"\n  15090.9,1384.24 15090.9,1384.24 15130.5,1384.24 15090.9,1384.24 \n  \"/>\n<path clip-path=\"url(#clip342)\" d=\"\nM15130.5 1384.24 L15130.5 1384.24 L15170 1384.24 L15170 1384.24 L15130.5 1384.24 L15130.5 1384.24  Z\n  \" fill=\"#009af9\" fill-rule=\"evenodd\" fill-opacity=\"1\"/>\n<polyline clip-path=\"url(#clip342)\" style=\"stroke:#000000; stroke-linecap:round; stroke-linejoin:round; stroke-width:4; stroke-opacity:1; fill:none\" points=\"\n  15130.5,1384.24 15130.5,1384.24 15170,1384.24 15130.5,1384.24 \n  \"/>\n<path clip-path=\"url(#clip342)\" d=\"\nM15170 1254.43 L15170 1384.24 L15209.5 1384.24 L15209.5 1254.43 L15170 1254.43 L15170 1254.43  Z\n  \" fill=\"#009af9\" fill-rule=\"evenodd\" fill-opacity=\"1\"/>\n<polyline clip-path=\"url(#clip342)\" style=\"stroke:#000000; stroke-linecap:round; stroke-linejoin:round; stroke-width:4; stroke-opacity:1; fill:none\" points=\"\n  15170,1254.43 15170,1384.24 15209.5,1384.24 15209.5,1254.43 15170,1254.43 \n  \"/>\n<circle clip-path=\"url(#clip342)\" style=\"fill:#009af9; stroke:none; fill-opacity:0\" cx=\"280.816\" cy=\"1384.24\" r=\"2\"/>\n<circle clip-path=\"url(#clip342)\" style=\"fill:#009af9; stroke:none; fill-opacity:0\" cx=\"320.362\" cy=\"1254.43\" r=\"2\"/>\n<circle clip-path=\"url(#clip342)\" style=\"fill:#009af9; stroke:none; fill-opacity:0\" cx=\"359.909\" cy=\"1254.43\" r=\"2\"/>\n<circle clip-path=\"url(#clip342)\" style=\"fill:#009af9; stroke:none; fill-opacity:0\" cx=\"399.455\" cy=\"1124.63\" r=\"2\"/>\n<circle clip-path=\"url(#clip342)\" style=\"fill:#009af9; stroke:none; fill-opacity:0\" cx=\"439.001\" cy=\"1254.43\" r=\"2\"/>\n<circle clip-path=\"url(#clip342)\" style=\"fill:#009af9; stroke:none; fill-opacity:0\" cx=\"478.547\" cy=\"1384.24\" r=\"2\"/>\n<circle clip-path=\"url(#clip342)\" style=\"fill:#009af9; stroke:none; fill-opacity:0\" cx=\"518.094\" cy=\"994.822\" r=\"2\"/>\n<circle clip-path=\"url(#clip342)\" style=\"fill:#009af9; stroke:none; fill-opacity:0\" cx=\"557.64\" cy=\"1254.43\" r=\"2\"/>\n<circle clip-path=\"url(#clip342)\" style=\"fill:#009af9; stroke:none; fill-opacity:0\" cx=\"597.186\" cy=\"994.822\" r=\"2\"/>\n<circle clip-path=\"url(#clip342)\" style=\"fill:#009af9; stroke:none; fill-opacity:0\" cx=\"636.733\" cy=\"994.822\" r=\"2\"/>\n<circle clip-path=\"url(#clip342)\" style=\"fill:#009af9; stroke:none; fill-opacity:0\" cx=\"676.279\" cy=\"1124.63\" r=\"2\"/>\n<circle clip-path=\"url(#clip342)\" style=\"fill:#009af9; stroke:none; fill-opacity:0\" cx=\"715.825\" cy=\"1124.63\" r=\"2\"/>\n<circle clip-path=\"url(#clip342)\" style=\"fill:#009af9; stroke:none; fill-opacity:0\" cx=\"755.372\" cy=\"865.017\" r=\"2\"/>\n<circle clip-path=\"url(#clip342)\" style=\"fill:#009af9; stroke:none; fill-opacity:0\" cx=\"794.918\" cy=\"1254.43\" r=\"2\"/>\n<circle clip-path=\"url(#clip342)\" style=\"fill:#009af9; stroke:none; fill-opacity:0\" cx=\"834.464\" cy=\"1124.63\" r=\"2\"/>\n<circle clip-path=\"url(#clip342)\" style=\"fill:#009af9; stroke:none; fill-opacity:0\" cx=\"874.01\" cy=\"1124.63\" r=\"2\"/>\n<circle clip-path=\"url(#clip342)\" style=\"fill:#009af9; stroke:none; fill-opacity:0\" cx=\"913.557\" cy=\"1384.24\" r=\"2\"/>\n<circle clip-path=\"url(#clip342)\" style=\"fill:#009af9; stroke:none; fill-opacity:0\" cx=\"953.103\" cy=\"1254.43\" r=\"2\"/>\n<circle clip-path=\"url(#clip342)\" style=\"fill:#009af9; stroke:none; fill-opacity:0\" cx=\"992.649\" cy=\"994.822\" r=\"2\"/>\n<circle clip-path=\"url(#clip342)\" style=\"fill:#009af9; stroke:none; fill-opacity:0\" cx=\"1032.2\" cy=\"1384.24\" r=\"2\"/>\n<circle clip-path=\"url(#clip342)\" style=\"fill:#009af9; stroke:none; fill-opacity:0\" cx=\"1071.74\" cy=\"1254.43\" r=\"2\"/>\n<circle clip-path=\"url(#clip342)\" style=\"fill:#009af9; stroke:none; fill-opacity:0\" cx=\"1111.29\" cy=\"735.212\" r=\"2\"/>\n<circle clip-path=\"url(#clip342)\" style=\"fill:#009af9; stroke:none; fill-opacity:0\" cx=\"1150.83\" cy=\"1384.24\" r=\"2\"/>\n<circle clip-path=\"url(#clip342)\" style=\"fill:#009af9; stroke:none; fill-opacity:0\" cx=\"1190.38\" cy=\"735.212\" r=\"2\"/>\n<circle clip-path=\"url(#clip342)\" style=\"fill:#009af9; stroke:none; fill-opacity:0\" cx=\"1229.93\" cy=\"1254.43\" r=\"2\"/>\n<circle clip-path=\"url(#clip342)\" style=\"fill:#009af9; stroke:none; fill-opacity:0\" cx=\"1269.47\" cy=\"865.017\" r=\"2\"/>\n<circle clip-path=\"url(#clip342)\" style=\"fill:#009af9; stroke:none; fill-opacity:0\" cx=\"1309.02\" cy=\"994.822\" r=\"2\"/>\n<circle clip-path=\"url(#clip342)\" style=\"fill:#009af9; stroke:none; fill-opacity:0\" cx=\"1348.57\" cy=\"605.407\" r=\"2\"/>\n<circle clip-path=\"url(#clip342)\" style=\"fill:#009af9; stroke:none; fill-opacity:0\" cx=\"1388.11\" cy=\"475.601\" r=\"2\"/>\n<circle clip-path=\"url(#clip342)\" style=\"fill:#009af9; stroke:none; fill-opacity:0\" cx=\"1427.66\" cy=\"865.017\" r=\"2\"/>\n<circle clip-path=\"url(#clip342)\" style=\"fill:#009af9; stroke:none; fill-opacity:0\" cx=\"1467.2\" cy=\"86.1857\" r=\"2\"/>\n<circle clip-path=\"url(#clip342)\" style=\"fill:#009af9; stroke:none; fill-opacity:0\" cx=\"1506.75\" cy=\"1124.63\" r=\"2\"/>\n<circle clip-path=\"url(#clip342)\" style=\"fill:#009af9; stroke:none; fill-opacity:0\" cx=\"1546.3\" cy=\"865.017\" r=\"2\"/>\n<circle clip-path=\"url(#clip342)\" style=\"fill:#009af9; stroke:none; fill-opacity:0\" cx=\"1585.84\" cy=\"865.017\" r=\"2\"/>\n<circle clip-path=\"url(#clip342)\" style=\"fill:#009af9; stroke:none; fill-opacity:0\" cx=\"1625.39\" cy=\"735.212\" r=\"2\"/>\n<circle clip-path=\"url(#clip342)\" style=\"fill:#009af9; stroke:none; fill-opacity:0\" cx=\"1664.94\" cy=\"1124.63\" r=\"2\"/>\n<circle clip-path=\"url(#clip342)\" style=\"fill:#009af9; stroke:none; fill-opacity:0\" cx=\"1704.48\" cy=\"865.017\" r=\"2\"/>\n<circle clip-path=\"url(#clip342)\" style=\"fill:#009af9; stroke:none; fill-opacity:0\" cx=\"1744.03\" cy=\"735.212\" r=\"2\"/>\n<circle clip-path=\"url(#clip342)\" style=\"fill:#009af9; stroke:none; fill-opacity:0\" cx=\"1783.58\" cy=\"994.822\" r=\"2\"/>\n<circle clip-path=\"url(#clip342)\" style=\"fill:#009af9; stroke:none; fill-opacity:0\" cx=\"1823.12\" cy=\"1254.43\" r=\"2\"/>\n<circle clip-path=\"url(#clip342)\" style=\"fill:#009af9; stroke:none; fill-opacity:0\" cx=\"1862.67\" cy=\"994.822\" r=\"2\"/>\n<circle clip-path=\"url(#clip342)\" style=\"fill:#009af9; stroke:none; fill-opacity:0\" cx=\"1902.21\" cy=\"1124.63\" r=\"2\"/>\n<circle clip-path=\"url(#clip342)\" style=\"fill:#009af9; stroke:none; fill-opacity:0\" cx=\"1941.76\" cy=\"994.822\" r=\"2\"/>\n<circle clip-path=\"url(#clip342)\" style=\"fill:#009af9; stroke:none; fill-opacity:0\" cx=\"1981.31\" cy=\"994.822\" r=\"2\"/>\n<circle clip-path=\"url(#clip342)\" style=\"fill:#009af9; stroke:none; fill-opacity:0\" cx=\"2020.85\" cy=\"865.017\" r=\"2\"/>\n<circle clip-path=\"url(#clip342)\" style=\"fill:#009af9; stroke:none; fill-opacity:0\" cx=\"2060.4\" cy=\"605.407\" r=\"2\"/>\n<circle clip-path=\"url(#clip342)\" style=\"fill:#009af9; stroke:none; fill-opacity:0\" cx=\"2099.95\" cy=\"1124.63\" r=\"2\"/>\n<circle clip-path=\"url(#clip342)\" style=\"fill:#009af9; stroke:none; fill-opacity:0\" cx=\"2139.49\" cy=\"1254.43\" r=\"2\"/>\n<circle clip-path=\"url(#clip342)\" style=\"fill:#009af9; stroke:none; fill-opacity:0\" cx=\"2179.04\" cy=\"994.822\" r=\"2\"/>\n<circle clip-path=\"url(#clip342)\" style=\"fill:#009af9; stroke:none; fill-opacity:0\" cx=\"2218.58\" cy=\"1124.63\" r=\"2\"/>\n<circle clip-path=\"url(#clip342)\" style=\"fill:#009af9; stroke:none; fill-opacity:0\" cx=\"2258.13\" cy=\"1384.24\" r=\"2\"/>\n<circle clip-path=\"url(#clip342)\" style=\"fill:#009af9; stroke:none; fill-opacity:0\" cx=\"2297.68\" cy=\"1254.43\" r=\"2\"/>\n<circle clip-path=\"url(#clip342)\" style=\"fill:#009af9; stroke:none; fill-opacity:0\" cx=\"2337.22\" cy=\"994.822\" r=\"2\"/>\n</svg>\n"
     },
     "execution_count": 14,
     "metadata": {},
     "output_type": "execute_result"
    }
   ],
   "source": [
    "using Statistics # bring in statistical support for standard deviations\n",
    "t = c_bench.times / 1e6\n",
    "m, σ = minimum(t), std(t)\n",
    "\n",
    "histogram(t, bins=500,\n",
    "    xlim = (m-0.01, m+σ),\n",
    "    xlabel = \"millicseconds\", ylabel = \"count\", label = \"\")"
   ]
  },
  {
   "attachments": {},
   "cell_type": "markdown",
   "metadata": {},
   "source": [
    "## 2. C with -ffast-math\n",
    "if we allow C to re-arrange the floating point operations, then it'll vectorize with SIMD (single instruction, multiple data) instructions."
   ]
  },
  {
   "cell_type": "code",
   "execution_count": 15,
   "metadata": {},
   "outputs": [
    {
     "data": {
      "text/plain": [
       "c_sum_fastmath (generic function with 1 method)"
      ]
     },
     "execution_count": 15,
     "metadata": {},
     "output_type": "execute_result"
    }
   ],
   "source": [
    "const Clib_fastmath = tempname()   # make a temporary file\n",
    "\n",
    "\n",
    "# compile to a shared library by piping C_code to gcc\n",
    "# (works only if you have gcc installed):\n",
    "\n",
    "open(`gcc -fPIC -O3 -msse3 -xc -shared -ffast-math -o $(Clib_fastmath * \".\" * Libdl.dlext) -`, \"w\") do f\n",
    "    print(f, C_code)\n",
    "end\n",
    "\n",
    "# define a Julia function that calls the C function:\n",
    "c_sum_fastmath(X::Array{Float64}) = ccall((\"c_sum\", Clib_fastmath), Float64, (Csize_t, Ptr{Float64}), length(X), X)"
   ]
  },
  {
   "cell_type": "code",
   "execution_count": 16,
   "metadata": {},
   "outputs": [
    {
     "data": {
      "text/plain": [
       "BenchmarkTools.Trial: 550 samples with 1 evaluation.\n",
       " Range \u001b[90m(\u001b[39m\u001b[36m\u001b[1mmin\u001b[22m\u001b[39m … \u001b[35mmax\u001b[39m\u001b[90m):  \u001b[39m\u001b[36m\u001b[1m7.378 ms\u001b[22m\u001b[39m … \u001b[35m32.848 ms\u001b[39m  \u001b[90m┊\u001b[39m GC \u001b[90m(\u001b[39mmin … max\u001b[90m): \u001b[39m0.00% … 0.00%\n",
       " Time  \u001b[90m(\u001b[39m\u001b[34m\u001b[1mmedian\u001b[22m\u001b[39m\u001b[90m):     \u001b[39m\u001b[34m\u001b[1m8.707 ms              \u001b[22m\u001b[39m\u001b[90m┊\u001b[39m GC \u001b[90m(\u001b[39mmedian\u001b[90m):    \u001b[39m0.00%\n",
       " Time  \u001b[90m(\u001b[39m\u001b[32m\u001b[1mmean\u001b[22m\u001b[39m ± \u001b[32mσ\u001b[39m\u001b[90m):   \u001b[39m\u001b[32m\u001b[1m9.067 ms\u001b[22m\u001b[39m ± \u001b[32m 1.764 ms\u001b[39m  \u001b[90m┊\u001b[39m GC \u001b[90m(\u001b[39mmean ± σ\u001b[90m):  \u001b[39m0.00% ± 0.00%\n",
       "\n",
       "  \u001b[39m█\u001b[39m \u001b[39m \u001b[39m \u001b[39m \u001b[39m \u001b[39m \u001b[39m \u001b[39m \u001b[39m \u001b[39m \u001b[39m \u001b[39m \u001b[34m \u001b[39m\u001b[39m \u001b[39m \u001b[32m \u001b[39m\u001b[39m \u001b[39m \u001b[39m \u001b[39m \u001b[39m \u001b[39m \u001b[39m \u001b[39m \u001b[39m \u001b[39m \u001b[39m \u001b[39m \u001b[39m \u001b[39m \u001b[39m \u001b[39m \u001b[39m \u001b[39m \u001b[39m \u001b[39m \u001b[39m \u001b[39m \u001b[39m \u001b[39m \u001b[39m \u001b[39m \u001b[39m \u001b[39m \u001b[39m \u001b[39m \u001b[39m \u001b[39m \u001b[39m \u001b[39m \u001b[39m \u001b[39m \u001b[39m \u001b[39m \u001b[39m \u001b[39m \u001b[39m \u001b[39m \u001b[39m \n",
       "  \u001b[39m█\u001b[39m▆\u001b[39m▇\u001b[39m▄\u001b[39m▃\u001b[39m▄\u001b[39m▃\u001b[39m▅\u001b[39m▅\u001b[39m▅\u001b[39m▆\u001b[39m▅\u001b[39m▅\u001b[34m▄\u001b[39m\u001b[39m▄\u001b[39m▄\u001b[32m▅\u001b[39m\u001b[39m▅\u001b[39m▄\u001b[39m▃\u001b[39m▅\u001b[39m▃\u001b[39m▃\u001b[39m▅\u001b[39m▃\u001b[39m▅\u001b[39m▃\u001b[39m▅\u001b[39m▃\u001b[39m▃\u001b[39m▂\u001b[39m▄\u001b[39m▄\u001b[39m▃\u001b[39m▄\u001b[39m▃\u001b[39m▂\u001b[39m▃\u001b[39m▃\u001b[39m▃\u001b[39m▂\u001b[39m▃\u001b[39m▂\u001b[39m▂\u001b[39m▁\u001b[39m▁\u001b[39m▂\u001b[39m▂\u001b[39m▁\u001b[39m▃\u001b[39m▁\u001b[39m▂\u001b[39m▂\u001b[39m▁\u001b[39m▂\u001b[39m▁\u001b[39m▁\u001b[39m▂\u001b[39m \u001b[39m▃\n",
       "  7.38 ms\u001b[90m        Histogram: frequency by time\u001b[39m        13.4 ms \u001b[0m\u001b[1m<\u001b[22m\n",
       "\n",
       " Memory estimate\u001b[90m: \u001b[39m\u001b[33m0 bytes\u001b[39m, allocs estimate\u001b[90m: \u001b[39m\u001b[33m0\u001b[39m."
      ]
     },
     "execution_count": 16,
     "metadata": {},
     "output_type": "execute_result"
    }
   ],
   "source": [
    "c_sum_fastmath_bench = @benchmark c_sum_fastmath($a)"
   ]
  },
  {
   "cell_type": "code",
   "execution_count": 17,
   "metadata": {},
   "outputs": [
    {
     "data": {
      "text/plain": [
       "7.3781"
      ]
     },
     "execution_count": 17,
     "metadata": {},
     "output_type": "execute_result"
    }
   ],
   "source": [
    "d[\"C -ffast-math\"] = minimum(c_sum_fastmath_bench.times) / 1e6 # in milliseconds"
   ]
  },
  {
   "attachments": {},
   "cell_type": "markdown",
   "metadata": {},
   "source": [
    "## 3. Python's built-in `sum`\n",
    "the `PyCall` package provides a Julia interface to Python:"
   ]
  },
  {
   "cell_type": "code",
   "execution_count": 18,
   "metadata": {},
   "outputs": [],
   "source": [
    "# using Pkg; Pkg.add(\"PyCall\")\n",
    "using PyCall"
   ]
  },
  {
   "cell_type": "code",
   "execution_count": 19,
   "metadata": {},
   "outputs": [
    {
     "data": {
      "text/plain": [
       "PyObject <built-in function sum>"
      ]
     },
     "execution_count": 19,
     "metadata": {},
     "output_type": "execute_result"
    }
   ],
   "source": [
    "# get the Python built-in \"sum\" function\n",
    "pysum = pybuiltin(\"sum\")"
   ]
  },
  {
   "cell_type": "code",
   "execution_count": 20,
   "metadata": {},
   "outputs": [
    {
     "data": {
      "text/plain": [
       "5.000552785530852e6"
      ]
     },
     "execution_count": 20,
     "metadata": {},
     "output_type": "execute_result"
    }
   ],
   "source": [
    "pysum(a)"
   ]
  },
  {
   "cell_type": "code",
   "execution_count": 21,
   "metadata": {},
   "outputs": [
    {
     "data": {
      "text/plain": [
       "true"
      ]
     },
     "execution_count": 21,
     "metadata": {},
     "output_type": "execute_result"
    }
   ],
   "source": [
    "pysum(a) ≈ sum(a)"
   ]
  },
  {
   "cell_type": "code",
   "execution_count": 22,
   "metadata": {},
   "outputs": [
    {
     "data": {
      "text/plain": [
       "BenchmarkTools.Trial: 4 samples with 1 evaluation.\n",
       " Range \u001b[90m(\u001b[39m\u001b[36m\u001b[1mmin\u001b[22m\u001b[39m … \u001b[35mmax\u001b[39m\u001b[90m):  \u001b[39m\u001b[36m\u001b[1m1.177 s\u001b[22m\u001b[39m … \u001b[35m   1.505 s\u001b[39m  \u001b[90m┊\u001b[39m GC \u001b[90m(\u001b[39mmin … max\u001b[90m): \u001b[39m0.00% … 0.00%\n",
       " Time  \u001b[90m(\u001b[39m\u001b[34m\u001b[1mmedian\u001b[22m\u001b[39m\u001b[90m):     \u001b[39m\u001b[34m\u001b[1m1.199 s               \u001b[22m\u001b[39m\u001b[90m┊\u001b[39m GC \u001b[90m(\u001b[39mmedian\u001b[90m):    \u001b[39m0.00%\n",
       " Time  \u001b[90m(\u001b[39m\u001b[32m\u001b[1mmean\u001b[22m\u001b[39m ± \u001b[32mσ\u001b[39m\u001b[90m):   \u001b[39m\u001b[32m\u001b[1m1.270 s\u001b[22m\u001b[39m ± \u001b[32m156.746 ms\u001b[39m  \u001b[90m┊\u001b[39m GC \u001b[90m(\u001b[39mmean ± σ\u001b[90m):  \u001b[39m0.00% ± 0.00%\n",
       "\n",
       "  \u001b[39m█\u001b[39m \u001b[34m█\u001b[39m\u001b[39m \u001b[39m \u001b[39m█\u001b[39m \u001b[39m \u001b[39m \u001b[39m \u001b[39m \u001b[39m \u001b[39m \u001b[39m \u001b[39m \u001b[39m \u001b[32m \u001b[39m\u001b[39m \u001b[39m \u001b[39m \u001b[39m \u001b[39m \u001b[39m \u001b[39m \u001b[39m \u001b[39m \u001b[39m \u001b[39m \u001b[39m \u001b[39m \u001b[39m \u001b[39m \u001b[39m \u001b[39m \u001b[39m \u001b[39m \u001b[39m \u001b[39m \u001b[39m \u001b[39m \u001b[39m \u001b[39m \u001b[39m \u001b[39m \u001b[39m \u001b[39m \u001b[39m \u001b[39m \u001b[39m \u001b[39m \u001b[39m \u001b[39m \u001b[39m \u001b[39m \u001b[39m \u001b[39m \u001b[39m \u001b[39m█\u001b[39m \u001b[39m \n",
       "  \u001b[39m█\u001b[39m▁\u001b[34m█\u001b[39m\u001b[39m▁\u001b[39m▁\u001b[39m█\u001b[39m▁\u001b[39m▁\u001b[39m▁\u001b[39m▁\u001b[39m▁\u001b[39m▁\u001b[39m▁\u001b[39m▁\u001b[39m▁\u001b[39m▁\u001b[32m▁\u001b[39m\u001b[39m▁\u001b[39m▁\u001b[39m▁\u001b[39m▁\u001b[39m▁\u001b[39m▁\u001b[39m▁\u001b[39m▁\u001b[39m▁\u001b[39m▁\u001b[39m▁\u001b[39m▁\u001b[39m▁\u001b[39m▁\u001b[39m▁\u001b[39m▁\u001b[39m▁\u001b[39m▁\u001b[39m▁\u001b[39m▁\u001b[39m▁\u001b[39m▁\u001b[39m▁\u001b[39m▁\u001b[39m▁\u001b[39m▁\u001b[39m▁\u001b[39m▁\u001b[39m▁\u001b[39m▁\u001b[39m▁\u001b[39m▁\u001b[39m▁\u001b[39m▁\u001b[39m▁\u001b[39m▁\u001b[39m▁\u001b[39m▁\u001b[39m▁\u001b[39m▁\u001b[39m█\u001b[39m \u001b[39m▁\n",
       "  1.18 s\u001b[90m         Histogram: frequency by time\u001b[39m          1.5 s \u001b[0m\u001b[1m<\u001b[22m\n",
       "\n",
       " Memory estimate\u001b[90m: \u001b[39m\u001b[33m240 bytes\u001b[39m, allocs estimate\u001b[90m: \u001b[39m\u001b[33m6\u001b[39m."
      ]
     },
     "execution_count": 22,
     "metadata": {},
     "output_type": "execute_result"
    }
   ],
   "source": [
    "py_list_bench = @benchmark pysum(a)"
   ]
  },
  {
   "cell_type": "code",
   "execution_count": 24,
   "metadata": {},
   "outputs": [
    {
     "data": {
      "text/plain": [
       "Dict{Any, Any} with 3 entries:\n",
       "  \"C\"               => 15.9413\n",
       "  \"Python built-in\" => 1177.49\n",
       "  \"C -ffast-math\"   => 7.3781"
      ]
     },
     "execution_count": 24,
     "metadata": {},
     "output_type": "execute_result"
    }
   ],
   "source": [
    "d[\"Python built-in\"] = minimum(py_list_bench.times)/1e6\n",
    "d"
   ]
  },
  {
   "attachments": {},
   "cell_type": "markdown",
   "metadata": {},
   "source": [
    "## 4. Python: `numpy`\n",
    "### Takes advantage of hardware \"SIMD\", but only works when it works.\n",
    "`numpy` is an optimized C library, calable from Python. It may be installed within Julia as follows:"
   ]
  },
  {
   "cell_type": "code",
   "execution_count": 25,
   "metadata": {},
   "outputs": [
    {
     "name": "stderr",
     "output_type": "stream",
     "text": [
      "\u001b[32m\u001b[1m    Updating\u001b[22m\u001b[39m registry at `C:\\Users\\lenovo\\.julia\\registries\\General.toml`\n",
      "\u001b[32m\u001b[1m   Resolving\u001b[22m\u001b[39m package versions...\n",
      "\u001b[32m\u001b[1m    Updating\u001b[22m\u001b[39m `D:\\Data Science Lesson\\Learn_Julia\\Exploring-Julia\\Project.toml`\n",
      " \u001b[90m [8f4d0f93] \u001b[39m\u001b[92m+ Conda v1.7.0\u001b[39m\n",
      "\u001b[32m\u001b[1m  No Changes\u001b[22m\u001b[39m to `D:\\Data Science Lesson\\Learn_Julia\\Exploring-Julia\\Manifest.toml`\n"
     ]
    }
   ],
   "source": [
    "using Pkg\n",
    "Pkg.add(\"Conda\")"
   ]
  },
  {
   "cell_type": "code",
   "execution_count": 26,
   "metadata": {},
   "outputs": [
    {
     "name": "stderr",
     "output_type": "stream",
     "text": [
      "┌ Info: Running `conda install -y numpy` in root environment\n",
      "└ @ Conda C:\\Users\\lenovo\\.julia\\packages\\Conda\\x2UxR\\src\\Conda.jl:127\n"
     ]
    },
    {
     "name": "stdout",
     "output_type": "stream",
     "text": [
      "Retrieving notices: ...working... done\n",
      "Collecting package metadata (current_repodata.json): ...working... done\n",
      "Solving environment: ...working... done\n",
      "\n",
      "## Package Plan ##\n",
      "\n",
      "  environment location: C:\\Users\\lenovo\\.julia\\conda\\3\n",
      "\n",
      "  added / updated specs:\n",
      "    - numpy\n",
      "\n",
      "\n",
      "The following packages will be downloaded:\n",
      "\n",
      "    package                    |            build\n",
      "    ---------------------------|-----------------\n",
      "    numpy-1.24.1               |  py310hd02465a_0         5.6 MB  conda-forge\n",
      "    ------------------------------------------------------------\n",
      "                                           Total:         5.6 MB\n",
      "\n",
      "The following packages will be DOWNGRADED:\n",
      "\n",
      "  numpy                              1.24.1-py310h4a8f9c9_0 --> 1.24.1-py310hd02465a_0 \n",
      "\n",
      "\n",
      "\n",
      "Downloading and Extracting Packages\n",
      "                                                     \n",
      "Preparing transaction: ...working... done\n",
      "Verifying transaction: ...working... done\n",
      "Executing transaction: ...working... done\n"
     ]
    }
   ],
   "source": [
    "using Conda\n",
    "Conda.add(\"numpy\")"
   ]
  },
  {
   "cell_type": "code",
   "execution_count": 27,
   "metadata": {},
   "outputs": [
    {
     "data": {
      "text/plain": [
       "BenchmarkTools.Trial: 320 samples with 1 evaluation.\n",
       " Range \u001b[90m(\u001b[39m\u001b[36m\u001b[1mmin\u001b[22m\u001b[39m … \u001b[35mmax\u001b[39m\u001b[90m):  \u001b[39m\u001b[36m\u001b[1m12.122 ms\u001b[22m\u001b[39m … \u001b[35m30.254 ms\u001b[39m  \u001b[90m┊\u001b[39m GC \u001b[90m(\u001b[39mmin … max\u001b[90m): \u001b[39m0.00% … 0.00%\n",
       " Time  \u001b[90m(\u001b[39m\u001b[34m\u001b[1mmedian\u001b[22m\u001b[39m\u001b[90m):     \u001b[39m\u001b[34m\u001b[1m15.606 ms              \u001b[22m\u001b[39m\u001b[90m┊\u001b[39m GC \u001b[90m(\u001b[39mmedian\u001b[90m):    \u001b[39m0.00%\n",
       " Time  \u001b[90m(\u001b[39m\u001b[32m\u001b[1mmean\u001b[22m\u001b[39m ± \u001b[32mσ\u001b[39m\u001b[90m):   \u001b[39m\u001b[32m\u001b[1m15.622 ms\u001b[22m\u001b[39m ± \u001b[32m 2.101 ms\u001b[39m  \u001b[90m┊\u001b[39m GC \u001b[90m(\u001b[39mmean ± σ\u001b[90m):  \u001b[39m0.00% ± 0.00%\n",
       "\n",
       "  \u001b[39m \u001b[39m \u001b[39m \u001b[39m \u001b[39m \u001b[39m \u001b[39m \u001b[39m▂\u001b[39m▂\u001b[39m▃\u001b[39m \u001b[39m▂\u001b[39m▁\u001b[39m \u001b[39m \u001b[39m▁\u001b[34m \u001b[39m\u001b[39m█\u001b[39m▅\u001b[39m▁\u001b[39m \u001b[39m \u001b[39m \u001b[39m \u001b[39m \u001b[39m \u001b[39m \u001b[39m \u001b[39m \u001b[39m \u001b[39m \u001b[39m \u001b[39m \u001b[39m \u001b[39m \u001b[39m \u001b[39m \u001b[39m \u001b[39m \u001b[39m \u001b[39m \u001b[39m \u001b[39m \u001b[39m \u001b[39m \u001b[39m \u001b[39m \u001b[39m \u001b[39m \u001b[39m \u001b[39m \u001b[39m \u001b[39m \u001b[39m \u001b[39m \u001b[39m \u001b[39m \u001b[39m \u001b[39m \u001b[39m \u001b[39m \n",
       "  \u001b[39m▃\u001b[39m▆\u001b[39m▄\u001b[39m▃\u001b[39m▃\u001b[39m▁\u001b[39m▅\u001b[39m█\u001b[39m█\u001b[39m█\u001b[39m▆\u001b[39m█\u001b[39m█\u001b[39m▅\u001b[39m█\u001b[39m█\u001b[34m█\u001b[39m\u001b[39m█\u001b[39m█\u001b[39m█\u001b[39m█\u001b[39m▆\u001b[39m▆\u001b[39m▅\u001b[39m▄\u001b[39m▄\u001b[39m▃\u001b[39m▃\u001b[39m▂\u001b[39m▃\u001b[39m▂\u001b[39m▁\u001b[39m▁\u001b[39m▁\u001b[39m▁\u001b[39m▁\u001b[39m▂\u001b[39m▁\u001b[39m▁\u001b[39m▂\u001b[39m▂\u001b[39m▁\u001b[39m▁\u001b[39m▂\u001b[39m▁\u001b[39m▂\u001b[39m▁\u001b[39m▁\u001b[39m▂\u001b[39m▁\u001b[39m▁\u001b[39m▁\u001b[39m▁\u001b[39m▁\u001b[39m▁\u001b[39m▁\u001b[39m▁\u001b[39m▁\u001b[39m▂\u001b[39m \u001b[39m▃\n",
       "  12.1 ms\u001b[90m         Histogram: frequency by time\u001b[39m        25.2 ms \u001b[0m\u001b[1m<\u001b[22m\n",
       "\n",
       " Memory estimate\u001b[90m: \u001b[39m\u001b[33m240 bytes\u001b[39m, allocs estimate\u001b[90m: \u001b[39m\u001b[33m6\u001b[39m."
      ]
     },
     "execution_count": 27,
     "metadata": {},
     "output_type": "execute_result"
    }
   ],
   "source": [
    "numpy_sum = pyimport(\"numpy\")[\"sum\"]\n",
    "py_numpy_bench = @benchmark numpy_sum(a)"
   ]
  },
  {
   "cell_type": "code",
   "execution_count": 28,
   "metadata": {},
   "outputs": [
    {
     "data": {
      "text/plain": [
       "5.000552785530696e6"
      ]
     },
     "execution_count": 28,
     "metadata": {},
     "output_type": "execute_result"
    }
   ],
   "source": [
    "numpy_sum(a)"
   ]
  },
  {
   "cell_type": "code",
   "execution_count": 29,
   "metadata": {},
   "outputs": [
    {
     "data": {
      "text/plain": [
       "true"
      ]
     },
     "execution_count": 29,
     "metadata": {},
     "output_type": "execute_result"
    }
   ],
   "source": [
    "numpy_sum(a) ≈ sum(a)"
   ]
  },
  {
   "cell_type": "code",
   "execution_count": 30,
   "metadata": {},
   "outputs": [
    {
     "data": {
      "text/plain": [
       "Dict{Any, Any} with 4 entries:\n",
       "  \"C\"               => 15.9413\n",
       "  \"Python numpy\"    => 12.1221\n",
       "  \"Python built-in\" => 1177.49\n",
       "  \"C -ffast-math\"   => 7.3781"
      ]
     },
     "execution_count": 30,
     "metadata": {},
     "output_type": "execute_result"
    }
   ],
   "source": [
    "d[\"Python numpy\"] = minimum(py_numpy_bench.times)/1e6\n",
    "d"
   ]
  },
  {
   "attachments": {},
   "cell_type": "markdown",
   "metadata": {},
   "source": [
    "## 5. Python, hand-written"
   ]
  },
  {
   "cell_type": "code",
   "execution_count": 32,
   "metadata": {},
   "outputs": [
    {
     "data": {
      "text/plain": [
       "PyObject <function py_sum at 0x000001EF5AED5AB0>"
      ]
     },
     "execution_count": 32,
     "metadata": {},
     "output_type": "execute_result"
    }
   ],
   "source": [
    "py\"\"\"\n",
    "def py_sum(A):\n",
    "    s = 0.0\n",
    "    for a in A:\n",
    "        s += a\n",
    "    return s\n",
    "\"\"\"\n",
    "\n",
    "sum_py = py\"py_sum\""
   ]
  },
  {
   "cell_type": "code",
   "execution_count": 50,
   "metadata": {},
   "outputs": [
    {
     "data": {
      "text/plain": [
       "BenchmarkTools.Trial: 3 samples with 1 evaluation.\n",
       " Range \u001b[90m(\u001b[39m\u001b[36m\u001b[1mmin\u001b[22m\u001b[39m … \u001b[35mmax\u001b[39m\u001b[90m):  \u001b[39m\u001b[36m\u001b[1m1.711 s\u001b[22m\u001b[39m … \u001b[35m   2.253 s\u001b[39m  \u001b[90m┊\u001b[39m GC \u001b[90m(\u001b[39mmin … max\u001b[90m): \u001b[39m0.00% … 0.00%\n",
       " Time  \u001b[90m(\u001b[39m\u001b[34m\u001b[1mmedian\u001b[22m\u001b[39m\u001b[90m):     \u001b[39m\u001b[34m\u001b[1m1.909 s               \u001b[22m\u001b[39m\u001b[90m┊\u001b[39m GC \u001b[90m(\u001b[39mmedian\u001b[90m):    \u001b[39m0.00%\n",
       " Time  \u001b[90m(\u001b[39m\u001b[32m\u001b[1mmean\u001b[22m\u001b[39m ± \u001b[32mσ\u001b[39m\u001b[90m):   \u001b[39m\u001b[32m\u001b[1m1.958 s\u001b[22m\u001b[39m ± \u001b[32m274.498 ms\u001b[39m  \u001b[90m┊\u001b[39m GC \u001b[90m(\u001b[39mmean ± σ\u001b[90m):  \u001b[39m0.00% ± 0.00%\n",
       "\n",
       "  \u001b[34m█\u001b[39m\u001b[39m \u001b[39m \u001b[39m \u001b[39m \u001b[39m \u001b[39m \u001b[39m \u001b[39m \u001b[39m \u001b[39m \u001b[39m \u001b[39m \u001b[39m \u001b[39m \u001b[39m \u001b[39m \u001b[39m \u001b[39m \u001b[39m \u001b[39m \u001b[39m█\u001b[39m \u001b[39m \u001b[39m \u001b[39m \u001b[32m \u001b[39m\u001b[39m \u001b[39m \u001b[39m \u001b[39m \u001b[39m \u001b[39m \u001b[39m \u001b[39m \u001b[39m \u001b[39m \u001b[39m \u001b[39m \u001b[39m \u001b[39m \u001b[39m \u001b[39m \u001b[39m \u001b[39m \u001b[39m \u001b[39m \u001b[39m \u001b[39m \u001b[39m \u001b[39m \u001b[39m \u001b[39m \u001b[39m \u001b[39m \u001b[39m \u001b[39m \u001b[39m█\u001b[39m \u001b[39m \n",
       "  \u001b[34m█\u001b[39m\u001b[39m▁\u001b[39m▁\u001b[39m▁\u001b[39m▁\u001b[39m▁\u001b[39m▁\u001b[39m▁\u001b[39m▁\u001b[39m▁\u001b[39m▁\u001b[39m▁\u001b[39m▁\u001b[39m▁\u001b[39m▁\u001b[39m▁\u001b[39m▁\u001b[39m▁\u001b[39m▁\u001b[39m▁\u001b[39m▁\u001b[39m█\u001b[39m▁\u001b[39m▁\u001b[39m▁\u001b[39m▁\u001b[32m▁\u001b[39m\u001b[39m▁\u001b[39m▁\u001b[39m▁\u001b[39m▁\u001b[39m▁\u001b[39m▁\u001b[39m▁\u001b[39m▁\u001b[39m▁\u001b[39m▁\u001b[39m▁\u001b[39m▁\u001b[39m▁\u001b[39m▁\u001b[39m▁\u001b[39m▁\u001b[39m▁\u001b[39m▁\u001b[39m▁\u001b[39m▁\u001b[39m▁\u001b[39m▁\u001b[39m▁\u001b[39m▁\u001b[39m▁\u001b[39m▁\u001b[39m▁\u001b[39m▁\u001b[39m▁\u001b[39m▁\u001b[39m█\u001b[39m \u001b[39m▁\n",
       "  1.71 s\u001b[90m         Histogram: frequency by time\u001b[39m         2.25 s \u001b[0m\u001b[1m<\u001b[22m\n",
       "\n",
       " Memory estimate\u001b[90m: \u001b[39m\u001b[33m240 bytes\u001b[39m, allocs estimate\u001b[90m: \u001b[39m\u001b[33m6\u001b[39m."
      ]
     },
     "execution_count": 50,
     "metadata": {},
     "output_type": "execute_result"
    }
   ],
   "source": [
    "py_hand = @benchmark sum_py(a)"
   ]
  },
  {
   "cell_type": "code",
   "execution_count": 51,
   "metadata": {},
   "outputs": [
    {
     "data": {
      "text/plain": [
       "5.000552785530852e6"
      ]
     },
     "execution_count": 51,
     "metadata": {},
     "output_type": "execute_result"
    }
   ],
   "source": [
    "sum_py(a)"
   ]
  },
  {
   "cell_type": "code",
   "execution_count": 52,
   "metadata": {},
   "outputs": [
    {
     "data": {
      "text/plain": [
       "true"
      ]
     },
     "execution_count": 52,
     "metadata": {},
     "output_type": "execute_result"
    }
   ],
   "source": [
    "sum_py(a) ≈ sum(a)"
   ]
  },
  {
   "cell_type": "code",
   "execution_count": 53,
   "metadata": {},
   "outputs": [
    {
     "data": {
      "text/plain": [
       "Dict{Any, Any} with 8 entries:\n",
       "  \"Julia hand-written simd\" => 5.2486\n",
       "  \"C\"                       => 15.9413\n",
       "  \"Python numpy\"            => 12.1221\n",
       "  \"Julia hand-written\"      => 14.1733\n",
       "  \"Python hand-written\"     => 1711.02\n",
       "  \"Python built-in\"         => 1177.49\n",
       "  \"Julia built-in\"          => 5.3211\n",
       "  \"C -ffast-math\"           => 7.3781"
      ]
     },
     "execution_count": 53,
     "metadata": {},
     "output_type": "execute_result"
    }
   ],
   "source": [
    "d[\"Python hand-written\"] = minimum(py_hand.times)/1e6\n",
    "d"
   ]
  },
  {
   "attachments": {},
   "cell_type": "markdown",
   "metadata": {},
   "source": [
    "## 6. Julia (built-in)\n",
    "Written directly in Julia, not in C!"
   ]
  },
  {
   "cell_type": "code",
   "execution_count": 54,
   "metadata": {},
   "outputs": [
    {
     "data": {
      "text/html": [
       "sum(a::<b>AbstractArray</b>; <i>dims, kw...</i>) in Base at <a href=\"https://github.com/JuliaLang/julia/tree/0434deb161e17103eabdd7d82b17a1cd6b410572/base/reducedim.jl#L994\" target=\"_blank\">reducedim.jl:994</a>"
      ],
      "text/plain": [
       "sum(a::AbstractArray; dims, kw...) in Base at reducedim.jl:994"
      ]
     },
     "execution_count": 54,
     "metadata": {},
     "output_type": "execute_result"
    }
   ],
   "source": [
    "@which sum(a)"
   ]
  },
  {
   "cell_type": "code",
   "execution_count": 55,
   "metadata": {},
   "outputs": [
    {
     "data": {
      "text/plain": [
       "BenchmarkTools.Trial: 693 samples with 1 evaluation.\n",
       " Range \u001b[90m(\u001b[39m\u001b[36m\u001b[1mmin\u001b[22m\u001b[39m … \u001b[35mmax\u001b[39m\u001b[90m):  \u001b[39m\u001b[36m\u001b[1m5.271 ms\u001b[22m\u001b[39m … \u001b[35m19.447 ms\u001b[39m  \u001b[90m┊\u001b[39m GC \u001b[90m(\u001b[39mmin … max\u001b[90m): \u001b[39m0.00% … 0.00%\n",
       " Time  \u001b[90m(\u001b[39m\u001b[34m\u001b[1mmedian\u001b[22m\u001b[39m\u001b[90m):     \u001b[39m\u001b[34m\u001b[1m6.716 ms              \u001b[22m\u001b[39m\u001b[90m┊\u001b[39m GC \u001b[90m(\u001b[39mmedian\u001b[90m):    \u001b[39m0.00%\n",
       " Time  \u001b[90m(\u001b[39m\u001b[32m\u001b[1mmean\u001b[22m\u001b[39m ± \u001b[32mσ\u001b[39m\u001b[90m):   \u001b[39m\u001b[32m\u001b[1m7.185 ms\u001b[22m\u001b[39m ± \u001b[32m 1.950 ms\u001b[39m  \u001b[90m┊\u001b[39m GC \u001b[90m(\u001b[39mmean ± σ\u001b[90m):  \u001b[39m0.00% ± 0.00%\n",
       "\n",
       "  \u001b[39m \u001b[39m \u001b[39m▄\u001b[39m█\u001b[39m \u001b[39m \u001b[39m \u001b[39m \u001b[39m \u001b[34m \u001b[39m\u001b[39m \u001b[32m \u001b[39m\u001b[39m \u001b[39m \u001b[39m \u001b[39m \u001b[39m \u001b[39m \u001b[39m \u001b[39m \u001b[39m \u001b[39m \u001b[39m \u001b[39m \u001b[39m \u001b[39m \u001b[39m \u001b[39m \u001b[39m \u001b[39m \u001b[39m \u001b[39m \u001b[39m \u001b[39m \u001b[39m \u001b[39m \u001b[39m \u001b[39m \u001b[39m \u001b[39m \u001b[39m \u001b[39m \u001b[39m \u001b[39m \u001b[39m \u001b[39m \u001b[39m \u001b[39m \u001b[39m \u001b[39m \u001b[39m \u001b[39m \u001b[39m \u001b[39m \u001b[39m \u001b[39m \u001b[39m \u001b[39m \u001b[39m \u001b[39m \n",
       "  \u001b[39m█\u001b[39m▃\u001b[39m█\u001b[39m█\u001b[39m▇\u001b[39m▄\u001b[39m▄\u001b[39m▅\u001b[39m▆\u001b[34m▃\u001b[39m\u001b[39m▇\u001b[32m█\u001b[39m\u001b[39m▇\u001b[39m▆\u001b[39m▄\u001b[39m▄\u001b[39m▄\u001b[39m▃\u001b[39m▃\u001b[39m▃\u001b[39m▃\u001b[39m▃\u001b[39m▃\u001b[39m▂\u001b[39m▂\u001b[39m▃\u001b[39m▃\u001b[39m▃\u001b[39m▃\u001b[39m▂\u001b[39m▂\u001b[39m▂\u001b[39m▂\u001b[39m▂\u001b[39m▂\u001b[39m▃\u001b[39m▂\u001b[39m▂\u001b[39m▂\u001b[39m▂\u001b[39m▂\u001b[39m▂\u001b[39m▂\u001b[39m▂\u001b[39m▁\u001b[39m▁\u001b[39m▂\u001b[39m▁\u001b[39m▂\u001b[39m▂\u001b[39m▁\u001b[39m▁\u001b[39m▁\u001b[39m▁\u001b[39m▂\u001b[39m▂\u001b[39m▁\u001b[39m▂\u001b[39m \u001b[39m▃\n",
       "  5.27 ms\u001b[90m        Histogram: frequency by time\u001b[39m          15 ms \u001b[0m\u001b[1m<\u001b[22m\n",
       "\n",
       " Memory estimate\u001b[90m: \u001b[39m\u001b[33m0 bytes\u001b[39m, allocs estimate\u001b[90m: \u001b[39m\u001b[33m0\u001b[39m."
      ]
     },
     "execution_count": 55,
     "metadata": {},
     "output_type": "execute_result"
    }
   ],
   "source": [
    "j_bench = @benchmark sum($a)"
   ]
  },
  {
   "cell_type": "code",
   "execution_count": 56,
   "metadata": {},
   "outputs": [
    {
     "data": {
      "text/plain": [
       "Dict{Any, Any} with 8 entries:\n",
       "  \"Julia hand-written simd\" => 5.2486\n",
       "  \"C\"                       => 15.9413\n",
       "  \"Python numpy\"            => 12.1221\n",
       "  \"Julia hand-written\"      => 14.1733\n",
       "  \"Python hand-written\"     => 1711.02\n",
       "  \"Python built-in\"         => 1177.49\n",
       "  \"Julia built-in\"          => 5.2708\n",
       "  \"C -ffast-math\"           => 7.3781"
      ]
     },
     "execution_count": 56,
     "metadata": {},
     "output_type": "execute_result"
    }
   ],
   "source": [
    "d[\"Julia built-in\"] = minimum(j_bench.times)/1e6\n",
    "d"
   ]
  },
  {
   "attachments": {},
   "cell_type": "markdown",
   "metadata": {},
   "source": [
    "## 7. Julia (hand-written)"
   ]
  },
  {
   "cell_type": "code",
   "execution_count": 57,
   "metadata": {},
   "outputs": [
    {
     "data": {
      "text/plain": [
       "mysum (generic function with 1 method)"
      ]
     },
     "execution_count": 57,
     "metadata": {},
     "output_type": "execute_result"
    }
   ],
   "source": [
    "function mysum(A)\n",
    "    s = 0.0     # s = zero(eltype(a))\n",
    "    for a in A\n",
    "        s += a\n",
    "    end\n",
    "    s\n",
    "end"
   ]
  },
  {
   "cell_type": "code",
   "execution_count": 58,
   "metadata": {},
   "outputs": [
    {
     "data": {
      "text/plain": [
       "BenchmarkTools.Trial: 237 samples with 1 evaluation.\n",
       " Range \u001b[90m(\u001b[39m\u001b[36m\u001b[1mmin\u001b[22m\u001b[39m … \u001b[35mmax\u001b[39m\u001b[90m):  \u001b[39m\u001b[36m\u001b[1m14.259 ms\u001b[22m\u001b[39m … \u001b[35m83.806 ms\u001b[39m  \u001b[90m┊\u001b[39m GC \u001b[90m(\u001b[39mmin … max\u001b[90m): \u001b[39m0.00% … 0.00%\n",
       " Time  \u001b[90m(\u001b[39m\u001b[34m\u001b[1mmedian\u001b[22m\u001b[39m\u001b[90m):     \u001b[39m\u001b[34m\u001b[1m19.673 ms              \u001b[22m\u001b[39m\u001b[90m┊\u001b[39m GC \u001b[90m(\u001b[39mmedian\u001b[90m):    \u001b[39m0.00%\n",
       " Time  \u001b[90m(\u001b[39m\u001b[32m\u001b[1mmean\u001b[22m\u001b[39m ± \u001b[32mσ\u001b[39m\u001b[90m):   \u001b[39m\u001b[32m\u001b[1m21.074 ms\u001b[22m\u001b[39m ± \u001b[32m 6.386 ms\u001b[39m  \u001b[90m┊\u001b[39m GC \u001b[90m(\u001b[39mmean ± σ\u001b[90m):  \u001b[39m0.00% ± 0.00%\n",
       "\n",
       "  \u001b[39m \u001b[39m \u001b[39m \u001b[39m \u001b[39m \u001b[39m \u001b[39m \u001b[39m▂\u001b[39m█\u001b[39m▁\u001b[34m▃\u001b[39m\u001b[39m▂\u001b[39m \u001b[32m▁\u001b[39m\u001b[39m \u001b[39m \u001b[39m \u001b[39m \u001b[39m \u001b[39m \u001b[39m \u001b[39m \u001b[39m \u001b[39m \u001b[39m \u001b[39m \u001b[39m \u001b[39m \u001b[39m \u001b[39m \u001b[39m \u001b[39m \u001b[39m \u001b[39m \u001b[39m \u001b[39m \u001b[39m \u001b[39m \u001b[39m \u001b[39m \u001b[39m \u001b[39m \u001b[39m \u001b[39m \u001b[39m \u001b[39m \u001b[39m \u001b[39m \u001b[39m \u001b[39m \u001b[39m \u001b[39m \u001b[39m \u001b[39m \u001b[39m \u001b[39m \u001b[39m \u001b[39m \u001b[39m \u001b[39m \u001b[39m \n",
       "  \u001b[39m▃\u001b[39m▄\u001b[39m▃\u001b[39m▅\u001b[39m▅\u001b[39m▇\u001b[39m█\u001b[39m█\u001b[39m█\u001b[39m█\u001b[34m█\u001b[39m\u001b[39m█\u001b[39m▇\u001b[32m█\u001b[39m\u001b[39m▆\u001b[39m▆\u001b[39m▃\u001b[39m▄\u001b[39m▃\u001b[39m▅\u001b[39m▄\u001b[39m▃\u001b[39m▃\u001b[39m▃\u001b[39m▃\u001b[39m▃\u001b[39m▃\u001b[39m▁\u001b[39m▃\u001b[39m▃\u001b[39m▂\u001b[39m▁\u001b[39m▂\u001b[39m▁\u001b[39m▁\u001b[39m▂\u001b[39m▁\u001b[39m▂\u001b[39m▁\u001b[39m▁\u001b[39m▁\u001b[39m▁\u001b[39m▁\u001b[39m▁\u001b[39m▁\u001b[39m▁\u001b[39m▁\u001b[39m▁\u001b[39m▁\u001b[39m▁\u001b[39m▁\u001b[39m▁\u001b[39m▁\u001b[39m▁\u001b[39m▁\u001b[39m▁\u001b[39m▂\u001b[39m▁\u001b[39m▂\u001b[39m \u001b[39m▃\n",
       "  14.3 ms\u001b[90m         Histogram: frequency by time\u001b[39m        45.1 ms \u001b[0m\u001b[1m<\u001b[22m\n",
       "\n",
       " Memory estimate\u001b[90m: \u001b[39m\u001b[33m0 bytes\u001b[39m, allocs estimate\u001b[90m: \u001b[39m\u001b[33m0\u001b[39m."
      ]
     },
     "execution_count": 58,
     "metadata": {},
     "output_type": "execute_result"
    }
   ],
   "source": [
    "j_bench_hand = @benchmark mysum($a)"
   ]
  },
  {
   "cell_type": "code",
   "execution_count": 59,
   "metadata": {},
   "outputs": [
    {
     "data": {
      "text/plain": [
       "Dict{Any, Any} with 8 entries:\n",
       "  \"Julia hand-written simd\" => 5.2486\n",
       "  \"C\"                       => 15.9413\n",
       "  \"Python numpy\"            => 12.1221\n",
       "  \"Julia hand-written\"      => 14.2587\n",
       "  \"Python hand-written\"     => 1711.02\n",
       "  \"Python built-in\"         => 1177.49\n",
       "  \"Julia built-in\"          => 5.2708\n",
       "  \"C -ffast-math\"           => 7.3781"
      ]
     },
     "execution_count": 59,
     "metadata": {},
     "output_type": "execute_result"
    }
   ],
   "source": [
    "d[\"Julia hand-written\"] = minimum(j_bench_hand.times)/1e6\n",
    "d"
   ]
  },
  {
   "attachments": {},
   "cell_type": "markdown",
   "metadata": {},
   "source": [
    "## 8. Julia (hand-written w. simd)"
   ]
  },
  {
   "cell_type": "code",
   "execution_count": 60,
   "metadata": {},
   "outputs": [
    {
     "data": {
      "text/plain": [
       "mysum_simd (generic function with 1 method)"
      ]
     },
     "execution_count": 60,
     "metadata": {},
     "output_type": "execute_result"
    }
   ],
   "source": [
    "function mysum_simd(A)\n",
    "    s = 0.0     # s = zero(eltype(A))\n",
    "    @simd for a in A\n",
    "        s += a\n",
    "    end\n",
    "    s\n",
    "end"
   ]
  },
  {
   "cell_type": "code",
   "execution_count": 61,
   "metadata": {},
   "outputs": [
    {
     "data": {
      "text/plain": [
       "BenchmarkTools.Trial: 668 samples with 1 evaluation.\n",
       " Range \u001b[90m(\u001b[39m\u001b[36m\u001b[1mmin\u001b[22m\u001b[39m … \u001b[35mmax\u001b[39m\u001b[90m):  \u001b[39m\u001b[36m\u001b[1m5.250 ms\u001b[22m\u001b[39m … \u001b[35m40.671 ms\u001b[39m  \u001b[90m┊\u001b[39m GC \u001b[90m(\u001b[39mmin … max\u001b[90m): \u001b[39m0.00% … 0.00%\n",
       " Time  \u001b[90m(\u001b[39m\u001b[34m\u001b[1mmedian\u001b[22m\u001b[39m\u001b[90m):     \u001b[39m\u001b[34m\u001b[1m6.824 ms              \u001b[22m\u001b[39m\u001b[90m┊\u001b[39m GC \u001b[90m(\u001b[39mmedian\u001b[90m):    \u001b[39m0.00%\n",
       " Time  \u001b[90m(\u001b[39m\u001b[32m\u001b[1mmean\u001b[22m\u001b[39m ± \u001b[32mσ\u001b[39m\u001b[90m):   \u001b[39m\u001b[32m\u001b[1m7.454 ms\u001b[22m\u001b[39m ± \u001b[32m 2.793 ms\u001b[39m  \u001b[90m┊\u001b[39m GC \u001b[90m(\u001b[39mmean ± σ\u001b[90m):  \u001b[39m0.00% ± 0.00%\n",
       "\n",
       "  \u001b[39m█\u001b[39m \u001b[39m \u001b[39m▄\u001b[39m \u001b[39m \u001b[39m \u001b[39m \u001b[34m \u001b[39m\u001b[39m \u001b[39m \u001b[32m \u001b[39m\u001b[39m \u001b[39m \u001b[39m \u001b[39m \u001b[39m \u001b[39m \u001b[39m \u001b[39m \u001b[39m \u001b[39m \u001b[39m \u001b[39m \u001b[39m \u001b[39m \u001b[39m \u001b[39m \u001b[39m \u001b[39m \u001b[39m \u001b[39m \u001b[39m \u001b[39m \u001b[39m \u001b[39m \u001b[39m \u001b[39m \u001b[39m \u001b[39m \u001b[39m \u001b[39m \u001b[39m \u001b[39m \u001b[39m \u001b[39m \u001b[39m \u001b[39m \u001b[39m \u001b[39m \u001b[39m \u001b[39m \u001b[39m \u001b[39m \u001b[39m \u001b[39m \u001b[39m \u001b[39m \u001b[39m \u001b[39m \n",
       "  \u001b[39m█\u001b[39m▇\u001b[39m▇\u001b[39m█\u001b[39m▇\u001b[39m▆\u001b[39m▄\u001b[39m▅\u001b[34m▆\u001b[39m\u001b[39m▆\u001b[39m▄\u001b[32m▄\u001b[39m\u001b[39m▅\u001b[39m▄\u001b[39m▄\u001b[39m▄\u001b[39m▆\u001b[39m▅\u001b[39m▄\u001b[39m▅\u001b[39m▃\u001b[39m▄\u001b[39m▃\u001b[39m▃\u001b[39m▃\u001b[39m▄\u001b[39m▃\u001b[39m▃\u001b[39m▃\u001b[39m▂\u001b[39m▃\u001b[39m▂\u001b[39m▂\u001b[39m▁\u001b[39m▂\u001b[39m▂\u001b[39m▂\u001b[39m▂\u001b[39m▂\u001b[39m▂\u001b[39m▂\u001b[39m▁\u001b[39m▂\u001b[39m▂\u001b[39m▁\u001b[39m▁\u001b[39m▁\u001b[39m▂\u001b[39m▂\u001b[39m▁\u001b[39m▁\u001b[39m▁\u001b[39m▁\u001b[39m▁\u001b[39m▁\u001b[39m▁\u001b[39m▁\u001b[39m▂\u001b[39m \u001b[39m▃\n",
       "  5.25 ms\u001b[90m        Histogram: frequency by time\u001b[39m        16.6 ms \u001b[0m\u001b[1m<\u001b[22m\n",
       "\n",
       " Memory estimate\u001b[90m: \u001b[39m\u001b[33m0 bytes\u001b[39m, allocs estimate\u001b[90m: \u001b[39m\u001b[33m0\u001b[39m."
      ]
     },
     "execution_count": 61,
     "metadata": {},
     "output_type": "execute_result"
    }
   ],
   "source": [
    "j_bench_hand_simd = @benchmark mysum_simd($a)"
   ]
  },
  {
   "cell_type": "code",
   "execution_count": 62,
   "metadata": {},
   "outputs": [
    {
     "data": {
      "text/plain": [
       "5.0005527855307255e6"
      ]
     },
     "execution_count": 62,
     "metadata": {},
     "output_type": "execute_result"
    }
   ],
   "source": [
    "mysum_simd(a)"
   ]
  },
  {
   "cell_type": "code",
   "execution_count": 63,
   "metadata": {},
   "outputs": [
    {
     "data": {
      "text/plain": [
       "true"
      ]
     },
     "execution_count": 63,
     "metadata": {},
     "output_type": "execute_result"
    }
   ],
   "source": [
    "mysum_simd(a) ≈ sum(a)"
   ]
  },
  {
   "cell_type": "code",
   "execution_count": 64,
   "metadata": {},
   "outputs": [
    {
     "data": {
      "text/plain": [
       "Dict{Any, Any} with 8 entries:\n",
       "  \"Julia hand-written simd\" => 5.2496\n",
       "  \"C\"                       => 15.9413\n",
       "  \"Python numpy\"            => 12.1221\n",
       "  \"Julia hand-written\"      => 14.2587\n",
       "  \"Python hand-written\"     => 1711.02\n",
       "  \"Python built-in\"         => 1177.49\n",
       "  \"Julia built-in\"          => 5.2708\n",
       "  \"C -ffast-math\"           => 7.3781"
      ]
     },
     "execution_count": 64,
     "metadata": {},
     "output_type": "execute_result"
    }
   ],
   "source": [
    "d[\"Julia hand-written simd\"] = minimum(j_bench_hand_simd.times)/1e6\n",
    "d"
   ]
  },
  {
   "cell_type": "code",
   "execution_count": 65,
   "metadata": {},
   "outputs": [
    {
     "name": "stdout",
     "output_type": "stream",
     "text": [
      "Julia hand-written simd.....5.2\n",
      "Julia built-in..............5.3\n",
      "C -ffast-math...............7.4\n",
      "Python numpy...............12.1\n",
      "Julia hand-written.........14.3\n",
      "C..........................15.9\n",
      "Python built-in..........1177.5\n",
      "Python hand-written......1711.0\n"
     ]
    }
   ],
   "source": [
    "for (key, value) in sort(collect(d), by=last)\n",
    "    println(rpad(key, 25, \".\"), lpad(round(value; digits=1), 6, \".\"))\n",
    "end"
   ]
  }
 ],
 "metadata": {
  "kernelspec": {
   "display_name": "Julia 1.8.3",
   "language": "julia",
   "name": "julia-1.8"
  },
  "language_info": {
   "file_extension": ".jl",
   "mimetype": "application/julia",
   "name": "julia",
   "version": "1.8.3"
  },
  "orig_nbformat": 4
 },
 "nbformat": 4,
 "nbformat_minor": 2
}
